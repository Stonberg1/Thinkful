{
 "cells": [
  {
   "cell_type": "code",
   "execution_count": 17,
   "metadata": {
    "collapsed": true
   },
   "outputs": [],
   "source": [
    "import numpy as np\n",
    "import pandas as pd\n",
    "import scipy\n",
    "import matplotlib.pyplot as plt\n",
    "%matplotlib inline"
   ]
  },
  {
   "cell_type": "code",
   "execution_count": 18,
   "metadata": {
    "collapsed": false
   },
   "outputs": [
    {
     "name": "stdout",
     "output_type": "stream",
     "text": [
      "1.94\n",
      "4.91\n",
      "1.38434099845\n",
      "1.59433371664\n"
     ]
    }
   ],
   "source": [
    "pop1 = np.random.binomial(10, 0.2, 10000)\n",
    "pop2 = np.random.binomial(10,0.5, 10000) \n",
    "\n",
    "sample1 = np.random.choice(pop1, 100, replace=True)\n",
    "sample2 = np.random.choice(pop2, 100, replace=True)\n",
    "\n",
    "print(sample1.mean())\n",
    "print(sample2.mean())\n",
    "print(sample1.std())\n",
    "print(sample2.std())"
   ]
  },
  {
   "cell_type": "code",
   "execution_count": 19,
   "metadata": {
    "collapsed": false
   },
   "outputs": [
    {
     "name": "stdout",
     "output_type": "stream",
     "text": [
      "2.104\n",
      "5.031\n",
      "1.35690235463\n",
      "1.55693256116\n",
      "1.65\n",
      "5.25\n",
      "1.01365674664\n",
      "1.54515371404\n"
     ]
    },
    {
     "data": {
      "text/plain": [
       "(array([ 1.,  0.,  0.,  0.,  0.,  1.,  0.,  0.,  3.,  0.,  0.,  6.,  0.,\n",
       "         0.,  5.,  0.,  0.,  3.,  0.,  1.]),\n",
       " array([ 1.  ,  1.35,  1.7 ,  2.05,  2.4 ,  2.75,  3.1 ,  3.45,  3.8 ,\n",
       "         4.15,  4.5 ,  4.85,  5.2 ,  5.55,  5.9 ,  6.25,  6.6 ,  6.95,\n",
       "         7.3 ,  7.65,  8.  ]),\n",
       " <a list of 20 Patch objects>)"
      ]
     },
     "execution_count": 19,
     "metadata": {},
     "output_type": "execute_result"
    },
    {
     "data": {
      "image/png": "[encoded data removed]",
      "text/plain": [
       "<matplotlib.figure.Figure at 0x126ed5940>"
      ]
     },
     "metadata": {},
     "output_type": "display_data"
    }
   ],
   "source": [
    "# With changes in samples sized, what values change, and what remain the same?\n",
    "# 1. EXPECTATIONS:\n",
    "\n",
    "# I would expect the means and std deviations of the larger samples sizes  \n",
    "# to be more consistant / true\n",
    "# while the smaller populations should have more variation from the original means\n",
    "\n",
    "sample1 = np.random.choice(pop1, 1000, replace=True)\n",
    "sample2 = np.random.choice(pop2, 1000, replace=True)\n",
    "\n",
    "print(sample1.mean())\n",
    "print(sample2.mean())\n",
    "print(sample1.std())\n",
    "print(sample2.std())\n",
    "\n",
    "sample1a = np.random.choice(pop1, 20, replace=True)\n",
    "sample2a = np.random.choice(pop2, 20, replace=True)\n",
    "\n",
    "print(sample1a.mean())\n",
    "print(sample2a.mean())\n",
    "print(sample1a.std())\n",
    "print(sample2a.std())\n",
    "\n",
    "plt.figure(figsize=(10, 5))\n",
    "\n",
    "plt.subplot(2, 2, 1)\n",
    "plt.hist(sample1, bins=20, color='g')\n",
    "plt.subplot(2, 2, 2)\n",
    "plt.hist(sample2, bins=20, color='g')\n",
    "\n",
    "plt.subplot(2, 2, 3)\n",
    "plt.hist(sample1a, bins=20, color='c')\n",
    "plt.subplot(2, 2, 4)\n",
    "plt.hist(sample2a, bins=20, color='c')"
   ]
  },
  {
   "cell_type": "code",
   "execution_count": 20,
   "metadata": {
    "collapsed": false
   },
   "outputs": [
    {
     "name": "stdout",
     "output_type": "stream",
     "text": [
      "Ttest_indResult(statistic=8.8269340410498085, pvalue=5.957735858502942e-16)\n",
      "Ttest_indResult(statistic=3.7165684458460109, pvalue=0.00026280967595438635)\n"
     ]
    }
   ],
   "source": [
    "# Change the probability value of pop1 (0.3 and 0.4)\n",
    "# 2.  EXPECTATIONS:\n",
    "\n",
    "# My guess is that with a greater probability value the curve will be more normal\n",
    "# and therefore increase the p-value aka confidence that the data is representative of the population\n",
    "\n",
    "pop1 = np.random.binomial(10, 0.3, 10000)\n",
    "pop2 = np.random.binomial(10,0.5, 10000) \n",
    "\n",
    "sample1 = np.random.choice(pop1, 100, replace=True)\n",
    "sample2 = np.random.choice(pop2, 100, replace=True)\n",
    "\n",
    "from scipy.stats import ttest_ind\n",
    "print(ttest_ind(sample2, sample1, equal_var=False))\n",
    "\n",
    "pop1 = np.random.binomial(10, 0.4, 10000)\n",
    "pop2 = np.random.binomial(10,0.5, 10000) \n",
    "\n",
    "sample1 = np.random.choice(pop1, 100, replace=True)\n",
    "sample2 = np.random.choice(pop2, 100, replace=True)\n",
    "\n",
    "from scipy.stats import ttest_ind\n",
    "print(ttest_ind(sample2, sample1, equal_var=False))"
   ]
  },
  {
   "cell_type": "code",
   "execution_count": 21,
   "metadata": {
    "collapsed": false
   },
   "outputs": [
    {
     "name": "stdout",
     "output_type": "stream",
     "text": [
      "10.018181144\n",
      "9.95995329074\n",
      "0.41013418131\n",
      "0.770555573926\n"
     ]
    }
   ],
   "source": [
    "# 3.  Change the distribution model (logistic). Do the sample means still represent the pop values?\n",
    "# EXPECTATIONS:\n",
    "\n",
    "# My guess is the sample means will still represent pop values as long as the sample is large enough\n",
    "# and the probability value is large enough. So nothing will change from the initial comparisson.\n",
    "\n",
    "pop1 = np.random.logistic(10, 0.2, 10000)\n",
    "pop2 = np.random.logistic(10,0.5, 10000) \n",
    "\n",
    "sample1 = np.random.choice(pop1, 100, replace=True)\n",
    "sample2 = np.random.choice(pop2, 100, replace=True)\n",
    "\n",
    "print(sample1.mean())\n",
    "print(sample2.mean())\n",
    "print(sample1.std())\n",
    "print(sample2.std())"
   ]
  },
  {
   "cell_type": "code",
   "execution_count": null,
   "metadata": {
    "collapsed": true
   },
   "outputs": [],
   "source": []
  }
 ],
 "metadata": {
  "kernelspec": {
   "display_name": "Python 3",
   "language": "python",
   "name": "python3"
  },
  "language_info": {
   "codemirror_mode": {
    "name": "ipython",
    "version": 3
   },
   "file_extension": ".py",
   "mimetype": "text/x-python",
   "name": "python",
   "nbconvert_exporter": "python",
   "pygments_lexer": "ipython3",
   "version": "3.5.2"
  }
 },
 "nbformat": 4,
 "nbformat_minor": 0
}
