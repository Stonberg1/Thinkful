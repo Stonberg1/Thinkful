{
 "cells": [
  {
   "cell_type": "code",
   "execution_count": 5,
   "metadata": {
    "collapsed": true
   },
   "outputs": [],
   "source": [
    "import numpy as np\n",
    "import pandas as pd\n",
    "import matplotlib.pyplot as plt\n",
    "%matplotlib inline"
   ]
  },
  {
   "cell_type": "code",
   "execution_count": 6,
   "metadata": {
    "collapsed": true
   },
   "outputs": [],
   "source": [
    "# Choose 6 distributions from the list of random distributions\n",
    "\n",
    "# Any common characteristics of the distributions that could be usefully described\n",
    "# using the mean and/or standard deviation, versus the ones that could not?\n",
    "\n",
    "# All distributions aside from the exponential distribution are normally distributed\n",
    "# and are therefore usefully described using the mean and standard deviation.\n",
    "# The skewed nature of the exponential distribution makes the standard deviation less useful.\n",
    "\n",
    "# (Additional drills below histograms)"
   ]
  },
  {
   "cell_type": "code",
   "execution_count": 48,
   "metadata": {
    "collapsed": false
   },
   "outputs": [
    {
     "data": {
      "image/png": "[encoded data removed]",
      "text/plain": [
       "<matplotlib.figure.Figure at 0x124d0de80>"
      ]
     },
     "metadata": {},
     "output_type": "display_data"
    }
   ],
   "source": [
    "# uniform([low, high, size])\n",
    "# Draw samples from a uniform distribution\n",
    "\n",
    "random_number_set = pd.DataFrame()\n",
    "random_number_set['results'] = np.random.uniform(90, 3, 100)\n",
    "\n",
    "plt.hist(random_number_set['results'])\n",
    "\n",
    "plt.axvline(random_number_set['results'].mean(), color='r', linestyle='solid', linewidth=2)\n",
    "plt.axvline(random_number_set['results'].mean() + random_number_set['results'].std(), color='b', linestyle='dashed', linewidth=2)\n",
    "plt.axvline(random_number_set['results'].mean() - random_number_set['results'].std(), color='b', linestyle='dashed', linewidth=2)\n",
    "\n",
    "plt.show()"
   ]
  },
  {
   "cell_type": "code",
   "execution_count": 47,
   "metadata": {
    "collapsed": false
   },
   "outputs": [
    {
     "data": {
      "image/png": "[encoded data removed]",
      "text/plain": [
       "<matplotlib.figure.Figure at 0x10a9f6d30>"
      ]
     },
     "metadata": {},
     "output_type": "display_data"
    }
   ],
   "source": [
    "# binomial(n, p[, size])\n",
    "# Draw samples from a binomial distribution\n",
    "\n",
    "football_practice = pd.DataFrame()\n",
    "football_practice['catches'] = np.random.binomial(60, .4, 100)\n",
    "\n",
    "plt.hist(football_practice['catches'])\n",
    "\n",
    "plt.axvline(football_practice['catches'].mean(), color='r', linestyle='solid', linewidth=2)\n",
    "plt.axvline(football_practice['catches'].mean() + football_practice['catches'].std(), color='b', linestyle='dashed', linewidth=2)\n",
    "plt.axvline(football_practice['catches'].mean() - football_practice['catches'].std(), color='b', linestyle='dashed', linewidth=2)\n",
    "\n",
    "plt.show()"
   ]
  },
  {
   "cell_type": "code",
   "execution_count": 46,
   "metadata": {
    "collapsed": false
   },
   "outputs": [
    {
     "data": {
      "image/png": "[encoded data removed]",
      "text/plain": [
       "<matplotlib.figure.Figure at 0x124cb17f0>"
      ]
     },
     "metadata": {},
     "output_type": "display_data"
    }
   ],
   "source": [
    "# normal([loc, scale, size])\n",
    "# Draw random samples from a normal (Gaussian) distribution\n",
    "\n",
    "city_population = pd.DataFrame()\n",
    "city_population['age'] = np.random.normal(35, 5, 100)\n",
    "\n",
    "plt.hist(city_population['age'])\n",
    "\n",
    "plt.axvline(city_population['age'].mean(), color='r', linestyle='solid', linewidth=2)\n",
    "plt.axvline(city_population['age'].mean() + city_population['age'].std(), color='b', linestyle='dashed', linewidth=2)\n",
    "plt.axvline(city_population['age'].mean() - city_population['age'].std(), color='b', linestyle='dashed', linewidth=2)\n",
    "\n",
    "plt.show()"
   ]
  },
  {
   "cell_type": "code",
   "execution_count": 45,
   "metadata": {
    "collapsed": false
   },
   "outputs": [
    {
     "data": {
      "image/png": "[encoded data removed]",
      "text/plain": [
       "<matplotlib.figure.Figure at 0x124d03c18>"
      ]
     },
     "metadata": {},
     "output_type": "display_data"
    }
   ],
   "source": [
    "# poisson([lam, size])\n",
    "# Draw samples from a Poisson distribution\n",
    "\n",
    "space_phenomena = pd.DataFrame()\n",
    "space_phenomena['meteorites'] = np.random.poisson(8, 100)\n",
    "\n",
    "plt.hist(space_phenomena['meteorites'])\n",
    "\n",
    "plt.axvline(space_phenomena['meteorites'].mean(), color='r', linestyle='solid', linewidth=2)\n",
    "plt.axvline(space_phenomena['meteorites'].mean() + space_phenomena['meteorites'].std(), color='b', linestyle='dashed', linewidth=2)\n",
    "plt.axvline(space_phenomena['meteorites'].mean() - space_phenomena['meteorites'].std(), color='b', linestyle='dashed', linewidth=2)\n",
    "\n",
    "plt.show()"
   ]
  },
  {
   "cell_type": "code",
   "execution_count": 39,
   "metadata": {
    "collapsed": false
   },
   "outputs": [
    {
     "data": {
      "image/png": "[encoded data removed]",
      "text/plain": [
       "<matplotlib.figure.Figure at 0x1252a8b00>"
      ]
     },
     "metadata": {},
     "output_type": "display_data"
    }
   ],
   "source": [
    "# exponential([scale, size])\n",
    "# Draw samples from an exponential distribution\n",
    "\n",
    "radioactive_data = pd.DataFrame()\n",
    "radioactive_data['time'] = np.random.exponential(33, 100)\n",
    "\n",
    "plt.hist(radioactive_data['time'])\n",
    "\n",
    "plt.axvline(radioactive_data['time'].mean(), color='b', linestyle='solid', linewidth=2)\n",
    "plt.axvline(radioactive_data['time'].mean() + radioactive_data['time'].std(), color='b', linestyle='dashed', linewidth=2)\n",
    "plt.axvline(radioactive_data['time'].mean() - radioactive_data['time'].std(), color='b', linestyle='dashed', linewidth=2)\n",
    "\n",
    "plt.show()"
   ]
  },
  {
   "cell_type": "code",
   "execution_count": 44,
   "metadata": {
    "collapsed": false
   },
   "outputs": [
    {
     "data": {
      "image/png": "[encoded data removed]",
      "text/plain": [
       "<matplotlib.figure.Figure at 0x125107be0>"
      ]
     },
     "metadata": {},
     "output_type": "display_data"
    }
   ],
   "source": [
    "# logistic([loc, scale, size])\n",
    "# Draw samples from a logistic distribution\n",
    "\n",
    "people_data = pd.DataFrame()\n",
    "people_data['income'] = np.random.logistic(40000, 5000, 100)\n",
    "\n",
    "plt.hist(regression_data['income'])\n",
    "\n",
    "plt.axvline(regression_data['income'].mean(), color='r', linestyle='solid', linewidth=2)\n",
    "plt.axvline(regression_data['income'].mean() + regression_data['income'].std(), color='b', linestyle='dashed', linewidth=2)\n",
    "plt.axvline(regression_data['income'].mean() - regression_data['income'].std(), color='b', linestyle='dashed', linewidth=2)\n",
    "\n",
    "plt.show()"
   ]
  },
  {
   "cell_type": "code",
   "execution_count": 57,
   "metadata": {
    "collapsed": false
   },
   "outputs": [
    {
     "data": {
      "image/png": "[encoded data removed]",
      "text/plain": [
       "<matplotlib.figure.Figure at 0x124dd4a58>"
      ]
     },
     "metadata": {},
     "output_type": "display_data"
    }
   ],
   "source": [
    "# Additionally:\n",
    "# Generate two normally-distributed variables\n",
    "# One with mean: 5,  standard deviation: 0.5\n",
    "# The other with mean: 10, standard deviation: 1\n",
    "\n",
    "random_number_set = pd.DataFrame()\n",
    "random_number_set['variableone'] = np.random.uniform(5, .5, 100)\n",
    "random_number_set['variabletwo'] = np.random.uniform(10, 1, 100)\n",
    "random_number_set['variablethree'] = random_number_set['variableone'] + random_number_set['variabletwo']\n",
    "\n",
    "plt.axvline(random_number_set['variablethree'].mean(), color='g', linestyle='solid', linewidth=2)\n",
    "plt.axvline(random_number_set['variablethree'].mean() + random_number_set['variablethree'].std(), color='r', linestyle='dashed', linewidth=2)\n",
    "plt.axvline(random_number_set['variablethree'].mean() - random_number_set['variablethree'].std(), color='r', linestyle='dashed', linewidth=2)\n",
    "\n",
    "plt.hist(random_number_set['variablethree'])\n",
    "plt.show()"
   ]
  },
  {
   "cell_type": "code",
   "execution_count": 58,
   "metadata": {
    "collapsed": false
   },
   "outputs": [
    {
     "data": {
      "text/plain": [
       "count    100.000000\n",
       "mean       8.174952\n",
       "std        2.851529\n",
       "min        1.778766\n",
       "25%        6.067826\n",
       "50%        8.606989\n",
       "75%       10.103003\n",
       "max       13.318775\n",
       "Name: variablethree, dtype: float64"
      ]
     },
     "execution_count": 58,
     "metadata": {},
     "output_type": "execute_result"
    }
   ],
   "source": [
    "random_number_set['variablethree'].describe()\n",
    "\n",
    "# Evaluate the descriptive statistics against the data\n",
    "\n",
    "# Each time I regenerate the data, the mean and std deviation and skew remain consistant\n",
    "# The mean of the two appears to have been approximately averaged\n",
    "# and the standard deviation increased\n",
    "# likely due to a greater amount of variability of\n",
    "# one data set centered around 5 and one centered around 10"
   ]
  },
  {
   "cell_type": "code",
   "execution_count": null,
   "metadata": {
    "collapsed": true
   },
   "outputs": [],
   "source": []
  }
 ],
 "metadata": {
  "kernelspec": {
   "display_name": "Python 3",
   "language": "python",
   "name": "python3"
  },
  "language_info": {
   "codemirror_mode": {
    "name": "ipython",
    "version": 3
   },
   "file_extension": ".py",
   "mimetype": "text/x-python",
   "name": "python",
   "nbconvert_exporter": "python",
   "pygments_lexer": "ipython3",
   "version": "3.5.2"
  }
 },
 "nbformat": 4,
 "nbformat_minor": 0
}
