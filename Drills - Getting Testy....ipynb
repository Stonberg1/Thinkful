{
 "cells": [
  {
   "cell_type": "markdown",
   "metadata": {},
   "source": [
    "# DRILL: Getting Testy..."
   ]
  },
  {
   "cell_type": "markdown",
   "metadata": {},
   "source": [
    "### For each of the following questions, outline how you could use an A/B test to find an answer. Be sure to identify all five key components of an A/B test we outlined."
   ]
  },
  {
   "cell_type": "markdown",
   "metadata": {},
   "source": [
    "### Does a new supplement help people sleep better?"
   ]
  },
  {
   "cell_type": "markdown",
   "metadata": {},
   "source": [
    "If I were trying to test this hypothesis (\"My new pill will help people sleep better.\"), I might send out two versions of the supplement to two experimental groups. One supplement would be the pill I hope will increase sleep quality and the other would be a placebo (e.g. a sugar pill). I would attempt to ensure that the two groups were similarly random in demographics as to control for influences of sex, age, fitness etc. on effectiveness. My key metric would be Sleep Quality. I would be sure to define the variables of Sleep Quality so that I could describe individuals included in the sample groups by these variables before and after using the pill (e.g. deep sleep time, hours of continuous sleep, feelings before and after sleep, etc.). Self-reporting may be able to be avoided in this situation using an app or sleep monitor, in which case multiple sleep monitors should be used to control for any variability in measurement."
   ]
  },
  {
   "cell_type": "markdown",
   "metadata": {},
   "source": [
    "### Will new uniforms help a gym's business?"
   ]
  },
  {
   "cell_type": "markdown",
   "metadata": {},
   "source": [
    "If I were trying to test this hypothesis (\"My new uniforms will help the gym's business.\"), I might have employees at one location wear the current uniforms and employees at another location wear the new uniforms. Both locations and the timing of the experiement, however, would have to be as close to identical as possible. The locations would have to serve similar individuals in a simliar community (climate, socio-economic status and other demographics) with the same current business performance. All of these factors would represent the control and therefore quality of the samples and overall experiment. My key metric would be business performance - most likely financial but also in terms of customer satisfaction. Something like customer satisfaction might be influenced by a larger window of impact and therefore the expleriment may have to continue for more than one fiscal quarter."
   ]
  },
  {
   "cell_type": "markdown",
   "metadata": {},
   "source": [
    "### Will a new homepage improve my online exotic pet rental business?"
   ]
  },
  {
   "cell_type": "markdown",
   "metadata": {},
   "source": [
    "If I were trying to test this hypothesis (\"A new homepage will improve my online exotic pet rental business.\"), I might find two experimental groups (individual IP addresses), measuring similarity to eachother in randomness by demograpic metrics but also by web data (IP location, ferquency of visits, converstion rates and other session information, etc.). I would attempt to alter my homepage in ways significant enough as to actually influence behavior (e.g. not simply change some wording or font but UX, UI, etc.). My key metric would be Online Rental Business Performance (ORBP). I would be sure to define the variables of my key metric as actual visitor conversion as my goal is the homepage effects on business performance. This, I believe would require a larger window of impact considering the effects or lack thereof on time of rentals."
   ]
  },
  {
   "cell_type": "markdown",
   "metadata": {},
   "source": [
    "### If I put 'please read' in the email subject will more people read my emails?"
   ]
  },
  {
   "cell_type": "markdown",
   "metadata": {},
   "source": [
    "If I were trying to test this hypothesis (\"Putting 'please read' in the email subject will lead to increased readership of my emails.\"), I might begin with the key metric - considering how to measure what it means for people to \"read my emails\"(as opposed to simply opening the emails) and how to measure that. It may require me to test their understanding of the content of the email in some way. I could perhaps include a call to action in control emails (emails not unchanged) and in new \"please read\"-emails. Subsequently, I would find two experimental groups based on people who currently subscribe to my emails, measuring similarity to eachother in randomness by demograpic metrics and current behavior regarding my emails (similar rates of open etc.)."
   ]
  },
  {
   "cell_type": "code",
   "execution_count": null,
   "metadata": {
    "collapsed": true
   },
   "outputs": [],
   "source": []
  }
 ],
 "metadata": {
  "kernelspec": {
   "display_name": "Python 3",
   "language": "python",
   "name": "python3"
  },
  "language_info": {
   "codemirror_mode": {
    "name": "ipython",
    "version": 3
   },
   "file_extension": ".py",
   "mimetype": "text/x-python",
   "name": "python",
   "nbconvert_exporter": "python",
   "pygments_lexer": "ipython3",
   "version": "3.5.2"
  }
 },
 "nbformat": 4,
 "nbformat_minor": 0
}
