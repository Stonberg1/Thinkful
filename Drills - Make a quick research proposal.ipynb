{
 "cells": [
  {
   "cell_type": "markdown",
   "metadata": {},
   "source": [
    "# The research proposal"
   ]
  },
  {
   "cell_type": "markdown",
   "metadata": {},
   "source": [
    "Example: \"You launch a loyalty program but see no change in visits in the first week.\""
   ]
  },
  {
   "cell_type": "markdown",
   "metadata": {},
   "source": [
    "### The problem"
   ]
  },
  {
   "cell_type": "markdown",
   "metadata": {},
   "source": [
    "How to increase repeat business? Repeat business requires minimal additional marketing efforts to retain. The window of impact for a loyalty program appears to be longer than a week."
   ]
  },
  {
   "cell_type": "markdown",
   "metadata": {},
   "source": [
    "### The potential solution"
   ]
  },
  {
   "cell_type": "markdown",
   "metadata": {},
   "source": [
    "Offering current customers a loyalty program will increase repeat business after two months."
   ]
  },
  {
   "cell_type": "markdown",
   "metadata": {},
   "source": [
    "### The method of testing the solution"
   ]
  },
  {
   "cell_type": "markdown",
   "metadata": {},
   "source": [
    "Begin by gauging interest in a loyalty pilot program among current customers.\n",
    "\n",
    "Create a loyalty program and offer it to a randomized sample of current customers (representative of current customers overall) for the next three months. The key metric is purchasing behavior in loyalty and non-loyalty experimental groups. This is an A/B manipulation where customers particpate or do not participate in a loyalty program.\n",
    "\n",
    "We will compute the purchases for two months before the study and compare it to the purchases in loyalty and non-loyalty customer groups for two months after the loyalty customers sign up for the program.\n",
    "\n",
    "If purchases in the following two months increases by one standard deviation (using churn estimates from the past year), conclude that a loyalty program increases purchases for loyalty customers. If purchases in the following three months decreases by less than one standard deviation or remains the same among loyalty customers, observe for one more month before deciding. If purchases do not increase after three months, conclude that a loyalty program is not effective for our customers at this time."
   ]
  },
  {
   "cell_type": "code",
   "execution_count": null,
   "metadata": {
    "collapsed": true
   },
   "outputs": [],
   "source": []
  }
 ],
 "metadata": {
  "kernelspec": {
   "display_name": "Python 3",
   "language": "python",
   "name": "python3"
  },
  "language_info": {
   "codemirror_mode": {
    "name": "ipython",
    "version": 3
   },
   "file_extension": ".py",
   "mimetype": "text/x-python",
   "name": "python",
   "nbconvert_exporter": "python",
   "pygments_lexer": "ipython3",
   "version": "3.5.2"
  }
 },
 "nbformat": 4,
 "nbformat_minor": 0
}
