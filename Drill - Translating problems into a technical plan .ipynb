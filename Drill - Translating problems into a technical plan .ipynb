{
 "cells": [
  {
   "cell_type": "markdown",
   "metadata": {},
   "source": [
    "##### For each question, describe how you would make it testable and translate it from a general question into something statistically rigorous. "
   ]
  },
  {
   "cell_type": "markdown",
   "metadata": {},
   "source": [
    "Question:\n",
    "\n",
    "You work at an e-commerce company that sells three goods: widgets, doodads, and fizzbangs. The head of advertising asks you which they should feature in their new advertising campaign. You have data on individual visitors' sessions (activity on a website, pageviews, and purchases), as well as whether or not those users converted from an advertisement for that session. You also have the cost and price information for the goods."
   ]
  },
  {
   "cell_type": "markdown",
   "metadata": {},
   "source": [
    "Answer:\n",
    "\n",
    "We will want to look at user session activity and purchase information before and after the past advertisement for those who ultimately converted. We want to see how any change in session activity related (or was not related) to the specific product advertised. I would plot histograms to understand how converted users are distributed across all numerical metrics before and after the advertisement. I would compare the same behavior with bar charts for categorical data.\n",
    "\n",
    "If we can see how behaviors shifted, we could begin to see what influence the advertisement had on things like purchase behavior, pageviews, etc. Did the advertisement drive all users (new and old) to purchase the advertised product? Did it drive new users to purchase a specific product (if so, what makes that product unique within the product line - established popularity, price point, etc.)? Did it drive new users to purchase all products in equal measure? The answers to these questions would inform the company decision."
   ]
  },
  {
   "cell_type": "code",
   "execution_count": null,
   "metadata": {
    "collapsed": true
   },
   "outputs": [],
   "source": []
  }
 ],
 "metadata": {
  "kernelspec": {
   "display_name": "Python 3",
   "language": "python",
   "name": "python3"
  },
  "language_info": {
   "codemirror_mode": {
    "name": "ipython",
    "version": 3
   },
   "file_extension": ".py",
   "mimetype": "text/x-python",
   "name": "python",
   "nbconvert_exporter": "python",
   "pygments_lexer": "ipython3",
   "version": "3.5.2"
  }
 },
 "nbformat": 4,
 "nbformat_minor": 0
}
