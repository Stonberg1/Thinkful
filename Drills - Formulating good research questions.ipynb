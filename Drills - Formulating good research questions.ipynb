{
 "cells": [
  {
   "cell_type": "markdown",
   "metadata": {},
   "source": [
    "**Categorize each of the following research questions as \"good\" or \"bad\", and provide alternative formulations for the bad ones. Save your responses in a document of some kind, submit a link below, and discuss your reasoning with your mentor.**"
   ]
  },
  {
   "cell_type": "markdown",
   "metadata": {},
   "source": [
    "+ **What is the 1994 rate of juvenile delinquency in the U.S.?**\n",
    "- This is a **bad** research question. There is likely already a great deal of data about this topic. There is no outcome of interest. A better research question would be **\"Can X be predicted based on the 1994 rate of juvenile delinquency in the U.S.?\"**"
   ]
  },
  {
   "cell_type": "markdown",
   "metadata": {},
   "source": [
    "+ **What can we do to reduce juvenile delinquency in the U.S.?**\n",
    "- This is a **bad** research question. It is too broad. As stated, the outcome of interest cannot likely be measured in quantities or probabilities or within a reasonable time frame or budget. A better question would be **\"Will there be a reduction in the rate of juvenile delinquency in the U.S.?\"**"
   ]
  },
  {
   "cell_type": "markdown",
   "metadata": {},
   "source": [
    "+ **Does education play a role in reducing juvenile delinquents' return to crime?**\n",
    "- This is a **good** research question. It can be argued that education is a measurable variable and therefore can be a part of a statistical model predicting a juvenile delinquent's return to crime."
   ]
  },
  {
   "cell_type": "markdown",
   "metadata": {},
   "source": [
    "+ **How many customers does AT&T currently serve in Washington, DC?**\n",
    "- This is a **bad** research question. Again, there is likely already a great deal of data about this topic (concrete and certain data). A better research question would be **\"How many customers is AT&T likely to searve in Washington, DC next year based on current customers?\"** "
   ]
  },
  {
   "cell_type": "markdown",
   "metadata": {},
   "source": [
    "+ **What factors lead consumers to choose AT&T over other service providers?**\n",
    "- This is a **good** research question. While it is a bit broad, it could likely be answered with current customer surveys incorporating continuous and categorical data."
   ]
  },
  {
   "cell_type": "markdown",
   "metadata": {},
   "source": [
    "+ **How can AT&T attract more customers?**\n",
    "- This is a **good** research question. It is very simple and can be answered using measurable quantities and/or probabilities which are likely readily available (to those who would be interested in the outcome of interest, i.e. AT&T data analysts)."
   ]
  },
  {
   "cell_type": "markdown",
   "metadata": {},
   "source": [
    "+ **Why did the Challenger Shuttle explode?**\n",
    "- This is a **bad** research question. While there is likely a great deal of data available on the topic, it is an answerable question based not on quantities or probabilities, but scientific certainties. Moreover, from the perspective of an outside researcher, I do not have the skills and expertise of a rocket scientist to be able to answer this question. A better question would be **\"How likely is it that a space shuttle launch will explode?\"**"
   ]
  },
  {
   "cell_type": "markdown",
   "metadata": {},
   "source": [
    "+ **Which genes are associated with increased risk of breast cancer?**\n",
    "- While ascertaining outcome of interest for this research question is likely prohibitively expensive, time consuming and complex, it is a **good** research question. There are likely measurable factors related to an increased risk of breast cancer based on genetics."
   ]
  },
  {
   "cell_type": "markdown",
   "metadata": {},
   "source": [
    "+ **Is it better to read to children at night or in the morning?**\n",
    "- This is a **bad** research question. It is somewhat broad. The definition of \"better\" would need to be more focused in pursuit of a more measurable outcome of interest. A better question would be **\"Is reading to children at night or in the morning more likely to lead to and improvement in X?\"**"
   ]
  },
  {
   "cell_type": "markdown",
   "metadata": {},
   "source": [
    "+ **How does Google’s search algorithm work?**\n",
    "- This is a **good** research question. While the exact information necessary to answer this question is almost certainly unavailable to anyone not associated with Google, an experiment could include test web pages, their quantifiable characteristics and quantifiable performance data within search results."
   ]
  }
 ],
 "metadata": {
  "kernelspec": {
   "display_name": "Python 3",
   "language": "python",
   "name": "python3"
  },
  "language_info": {
   "codemirror_mode": {
    "name": "ipython",
    "version": 3
   },
   "file_extension": ".py",
   "mimetype": "text/x-python",
   "name": "python",
   "nbconvert_exporter": "python",
   "pygments_lexer": "ipython3",
   "version": "3.5.2"
  }
 },
 "nbformat": 4,
 "nbformat_minor": 0
}
