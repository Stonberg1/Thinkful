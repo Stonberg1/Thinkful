{
 "cells": [
  {
   "cell_type": "code",
   "execution_count": 1,
   "metadata": {},
   "outputs": [],
   "source": [
    "import math\n",
    "import warnings\n",
    "\n",
    "from IPython.display import display\n",
    "import numpy as np\n",
    "import pandas as pd\n",
    "import seaborn as sns\n",
    "import scipy\n",
    "import sklearn\n",
    "from sklearn import linear_model\n",
    "import matplotlib.pyplot as plt\n",
    "import statsmodels.formula.api as smf\n",
    "\n",
    "# Display preferences.\n",
    "%matplotlib inline\n",
    "pd.options.display.float_format = '{:.3f}'.format\n",
    "\n",
    "# Suppress annoying harmless error.\n",
    "warnings.filterwarnings(\n",
    "    action=\"ignore\",\n",
    "    module=\"scipy\",\n",
    "    message=\"^internal gelsd\"\n",
    ")"
   ]
  },
  {
   "cell_type": "code",
   "execution_count": 2,
   "metadata": {},
   "outputs": [],
   "source": [
    "df = pd.ExcelFile(\"table_8_offenses_known_to_law_enforcement_new_york_by_city_2013.xls\")"
   ]
  },
  {
   "cell_type": "code",
   "execution_count": 3,
   "metadata": {},
   "outputs": [
    {
     "data": {
      "text/plain": [
       "['13tbl8ny']"
      ]
     },
     "execution_count": 3,
     "metadata": {},
     "output_type": "execute_result"
    }
   ],
   "source": [
    "df.sheet_names"
   ]
  },
  {
   "cell_type": "code",
   "execution_count": 4,
   "metadata": {},
   "outputs": [],
   "source": [
    "df = df.parse(sheet_name='13tbl8ny', skiprows=4)"
   ]
  },
  {
   "cell_type": "code",
   "execution_count": 5,
   "metadata": {},
   "outputs": [
    {
     "data": {
      "text/html": [
       "<div>\n",
       "<style scoped>\n",
       "    .dataframe tbody tr th:only-of-type {\n",
       "        vertical-align: middle;\n",
       "    }\n",
       "\n",
       "    .dataframe tbody tr th {\n",
       "        vertical-align: top;\n",
       "    }\n",
       "\n",
       "    .dataframe thead th {\n",
       "        text-align: right;\n",
       "    }\n",
       "</style>\n",
       "<table border=\"1\" class=\"dataframe\">\n",
       "  <thead>\n",
       "    <tr style=\"text-align: right;\">\n",
       "      <th></th>\n",
       "      <th>City</th>\n",
       "      <th>Population</th>\n",
       "      <th>Violent\n",
       "crime</th>\n",
       "      <th>Murder and\n",
       "nonnegligent\n",
       "manslaughter</th>\n",
       "      <th>Rape\n",
       "(revised\n",
       "definition)1</th>\n",
       "      <th>Rape\n",
       "(legacy\n",
       "definition)2</th>\n",
       "      <th>Robbery</th>\n",
       "      <th>Aggravated\n",
       "assault</th>\n",
       "      <th>Property\n",
       "crime</th>\n",
       "      <th>Burglary</th>\n",
       "      <th>Larceny-\n",
       "theft</th>\n",
       "      <th>Motor\n",
       "vehicle\n",
       "theft</th>\n",
       "      <th>Arson3</th>\n",
       "    </tr>\n",
       "  </thead>\n",
       "  <tbody>\n",
       "    <tr>\n",
       "      <th>0</th>\n",
       "      <td>Adams Village</td>\n",
       "      <td>1861.000</td>\n",
       "      <td>0.000</td>\n",
       "      <td>0.000</td>\n",
       "      <td>nan</td>\n",
       "      <td>0.000</td>\n",
       "      <td>0.000</td>\n",
       "      <td>0.000</td>\n",
       "      <td>12.000</td>\n",
       "      <td>2.000</td>\n",
       "      <td>10.000</td>\n",
       "      <td>0.000</td>\n",
       "      <td>0.000</td>\n",
       "    </tr>\n",
       "    <tr>\n",
       "      <th>1</th>\n",
       "      <td>Addison Town and Village</td>\n",
       "      <td>2577.000</td>\n",
       "      <td>3.000</td>\n",
       "      <td>0.000</td>\n",
       "      <td>nan</td>\n",
       "      <td>0.000</td>\n",
       "      <td>0.000</td>\n",
       "      <td>3.000</td>\n",
       "      <td>24.000</td>\n",
       "      <td>3.000</td>\n",
       "      <td>20.000</td>\n",
       "      <td>1.000</td>\n",
       "      <td>0.000</td>\n",
       "    </tr>\n",
       "    <tr>\n",
       "      <th>2</th>\n",
       "      <td>Akron Village</td>\n",
       "      <td>2846.000</td>\n",
       "      <td>3.000</td>\n",
       "      <td>0.000</td>\n",
       "      <td>nan</td>\n",
       "      <td>0.000</td>\n",
       "      <td>0.000</td>\n",
       "      <td>3.000</td>\n",
       "      <td>16.000</td>\n",
       "      <td>1.000</td>\n",
       "      <td>15.000</td>\n",
       "      <td>0.000</td>\n",
       "      <td>0.000</td>\n",
       "    </tr>\n",
       "    <tr>\n",
       "      <th>3</th>\n",
       "      <td>Albany</td>\n",
       "      <td>97956.000</td>\n",
       "      <td>791.000</td>\n",
       "      <td>8.000</td>\n",
       "      <td>nan</td>\n",
       "      <td>30.000</td>\n",
       "      <td>227.000</td>\n",
       "      <td>526.000</td>\n",
       "      <td>4090.000</td>\n",
       "      <td>705.000</td>\n",
       "      <td>3243.000</td>\n",
       "      <td>142.000</td>\n",
       "      <td>nan</td>\n",
       "    </tr>\n",
       "    <tr>\n",
       "      <th>4</th>\n",
       "      <td>Albion Village</td>\n",
       "      <td>6388.000</td>\n",
       "      <td>23.000</td>\n",
       "      <td>0.000</td>\n",
       "      <td>nan</td>\n",
       "      <td>3.000</td>\n",
       "      <td>4.000</td>\n",
       "      <td>16.000</td>\n",
       "      <td>223.000</td>\n",
       "      <td>53.000</td>\n",
       "      <td>165.000</td>\n",
       "      <td>5.000</td>\n",
       "      <td>nan</td>\n",
       "    </tr>\n",
       "  </tbody>\n",
       "</table>\n",
       "</div>"
      ],
      "text/plain": [
       "                       City  Population  Violent\\ncrime  \\\n",
       "0             Adams Village    1861.000           0.000   \n",
       "1  Addison Town and Village    2577.000           3.000   \n",
       "2             Akron Village    2846.000           3.000   \n",
       "3                    Albany   97956.000         791.000   \n",
       "4            Albion Village    6388.000          23.000   \n",
       "\n",
       "   Murder and\\nnonnegligent\\nmanslaughter  Rape\\n(revised\\ndefinition)1  \\\n",
       "0                                   0.000                           nan   \n",
       "1                                   0.000                           nan   \n",
       "2                                   0.000                           nan   \n",
       "3                                   8.000                           nan   \n",
       "4                                   0.000                           nan   \n",
       "\n",
       "   Rape\\n(legacy\\ndefinition)2  Robbery  Aggravated\\nassault  Property\\ncrime  \\\n",
       "0                        0.000    0.000                0.000           12.000   \n",
       "1                        0.000    0.000                3.000           24.000   \n",
       "2                        0.000    0.000                3.000           16.000   \n",
       "3                       30.000  227.000              526.000         4090.000   \n",
       "4                        3.000    4.000               16.000          223.000   \n",
       "\n",
       "   Burglary  Larceny-\\ntheft  Motor\\nvehicle\\ntheft  Arson3  \n",
       "0     2.000           10.000                  0.000   0.000  \n",
       "1     3.000           20.000                  1.000   0.000  \n",
       "2     1.000           15.000                  0.000   0.000  \n",
       "3   705.000         3243.000                142.000     nan  \n",
       "4    53.000          165.000                  5.000     nan  "
      ]
     },
     "execution_count": 5,
     "metadata": {},
     "output_type": "execute_result"
    }
   ],
   "source": [
    "df.head()"
   ]
  },
  {
   "cell_type": "code",
   "execution_count": 6,
   "metadata": {},
   "outputs": [
    {
     "data": {
      "text/plain": [
       "Index(['City', 'Population', 'Violent\\ncrime',\n",
       "       'Murder and\\nnonnegligent\\nmanslaughter',\n",
       "       'Rape\\n(revised\\ndefinition)1', 'Rape\\n(legacy\\ndefinition)2',\n",
       "       'Robbery', 'Aggravated\\nassault', 'Property\\ncrime', 'Burglary',\n",
       "       'Larceny-\\ntheft', 'Motor\\nvehicle\\ntheft', 'Arson3'],\n",
       "      dtype='object')"
      ]
     },
     "execution_count": 6,
     "metadata": {},
     "output_type": "execute_result"
    }
   ],
   "source": [
    "df.columns"
   ]
  },
  {
   "cell_type": "code",
   "execution_count": 7,
   "metadata": {},
   "outputs": [],
   "source": [
    "# Creating the features df\n",
    "features = df[['Population']]"
   ]
  },
  {
   "cell_type": "code",
   "execution_count": 8,
   "metadata": {},
   "outputs": [
    {
     "name": "stdout",
     "output_type": "stream",
     "text": [
      "True\n"
     ]
    }
   ],
   "source": [
    "print(df['Population'].isnull().values.any())"
   ]
  },
  {
   "cell_type": "code",
   "execution_count": 9,
   "metadata": {},
   "outputs": [],
   "source": [
    "features = features.dropna(subset=['Population'])"
   ]
  },
  {
   "cell_type": "code",
   "execution_count": 10,
   "metadata": {},
   "outputs": [
    {
     "name": "stderr",
     "output_type": "stream",
     "text": [
      "/anaconda3/lib/python3.7/site-packages/scipy/stats/stats.py:1713: FutureWarning: Using a non-tuple sequence for multidimensional indexing is deprecated; use `arr[tuple(seq)]` instead of `arr[seq]`. In the future this will be interpreted as an array index, `arr[np.array(seq)]`, which will result either in an error or a different result.\n",
      "  return np.add.reduce(sorted[indexer] * weights, axis=axis) / sumval\n"
     ]
    },
    {
     "data": {
      "text/plain": [
       "Text(0.5,1,'Population')"
      ]
     },
     "execution_count": 10,
     "metadata": {},
     "output_type": "execute_result"
    },
    {
     "data": {
      "image/png": "[encoded data removed]",
      "text/plain": [
       "<Figure size 1440x360 with 2 Axes>"
      ]
     },
     "metadata": {
      "needs_background": "light"
     },
     "output_type": "display_data"
    }
   ],
   "source": [
    "x = features['Population']\n",
    "\n",
    "fig = plt.figure(figsize=(20,5))\n",
    "\n",
    "fig.add_subplot(121)\n",
    "sns.distplot(x, hist=True, color='b', kde_kws={'shade':True,'color':'g'})\n",
    "plt.title('Population')\n",
    "\n",
    "fig.add_subplot(122)\n",
    "sns.boxplot(x, linewidth=1, width=0.2, palette='pastel', orient='h')\n",
    "plt.title('Population')"
   ]
  },
  {
   "cell_type": "code",
   "execution_count": 11,
   "metadata": {},
   "outputs": [
    {
     "name": "stdout",
     "output_type": "stream",
     "text": [
      "[  51506.   55198.   57559.   58082.   61686.   66041.   68071.   78215.\n",
      "   78361.   78800.   80705.   87204.   96667.   97956.  118296.  143834.\n",
      "  199134.  210562.  258789. 8396126.]\n"
     ]
    }
   ],
   "source": [
    "print(np.sort(features.Population)[-20:])"
   ]
  },
  {
   "cell_type": "code",
   "execution_count": 12,
   "metadata": {},
   "outputs": [],
   "source": [
    "features['Population'] = features[features.Population < 8000000.0]\n",
    "features = features.dropna(subset=['Population'])"
   ]
  },
  {
   "cell_type": "code",
   "execution_count": 13,
   "metadata": {},
   "outputs": [
    {
     "name": "stderr",
     "output_type": "stream",
     "text": [
      "/anaconda3/lib/python3.7/site-packages/scipy/stats/stats.py:1713: FutureWarning: Using a non-tuple sequence for multidimensional indexing is deprecated; use `arr[tuple(seq)]` instead of `arr[seq]`. In the future this will be interpreted as an array index, `arr[np.array(seq)]`, which will result either in an error or a different result.\n",
      "  return np.add.reduce(sorted[indexer] * weights, axis=axis) / sumval\n"
     ]
    },
    {
     "data": {
      "text/plain": [
       "Text(0.5,1,'Population')"
      ]
     },
     "execution_count": 13,
     "metadata": {},
     "output_type": "execute_result"
    },
    {
     "data": {
      "image/png": "[encoded data removed]",
      "text/plain": [
       "<Figure size 1440x360 with 2 Axes>"
      ]
     },
     "metadata": {
      "needs_background": "light"
     },
     "output_type": "display_data"
    }
   ],
   "source": [
    "x = features['Population']\n",
    "\n",
    "fig = plt.figure(figsize=(20,5))\n",
    "\n",
    "fig.add_subplot(121)\n",
    "sns.distplot(x, hist=True, color='b', kde_kws={'shade':True,'color':'g'})\n",
    "plt.title('Population')\n",
    "\n",
    "fig.add_subplot(122)\n",
    "sns.boxplot(x, linewidth=1, width=0.2, palette='pastel', orient='h')\n",
    "plt.title('Population')"
   ]
  },
  {
   "cell_type": "code",
   "execution_count": 14,
   "metadata": {},
   "outputs": [
    {
     "data": {
      "image/png": "[encoded data removed]",
      "text/plain": [
       "<Figure size 432x288 with 4 Axes>"
      ]
     },
     "metadata": {
      "needs_background": "light"
     },
     "output_type": "display_data"
    }
   ],
   "source": [
    "x = features['Population']\n",
    "\n",
    "fig = plt.figure()\n",
    "\n",
    "fig.add_subplot(221)\n",
    "plt.hist(x)\n",
    "plt.title('Raw')\n",
    "\n",
    "fig.add_subplot(222)\n",
    "plt.hist(np.log(x))\n",
    "plt.title('Log')\n",
    "\n",
    "fig.add_subplot(223)\n",
    "plt.hist(np.sqrt(x))\n",
    "plt.title('Square root')\n",
    "\n",
    "ax3=fig.add_subplot(224)\n",
    "plt.hist(1/x)\n",
    "plt.title('Inverse')\n",
    "plt.show()"
   ]
  },
  {
   "cell_type": "code",
   "execution_count": 15,
   "metadata": {},
   "outputs": [],
   "source": [
    "features['Population_log'] = np.log(x)"
   ]
  },
  {
   "cell_type": "code",
   "execution_count": 16,
   "metadata": {},
   "outputs": [
    {
     "name": "stderr",
     "output_type": "stream",
     "text": [
      "/anaconda3/lib/python3.7/site-packages/scipy/stats/stats.py:1713: FutureWarning: Using a non-tuple sequence for multidimensional indexing is deprecated; use `arr[tuple(seq)]` instead of `arr[seq]`. In the future this will be interpreted as an array index, `arr[np.array(seq)]`, which will result either in an error or a different result.\n",
      "  return np.add.reduce(sorted[indexer] * weights, axis=axis) / sumval\n"
     ]
    },
    {
     "data": {
      "text/plain": [
       "Text(0.5,1,'Population')"
      ]
     },
     "execution_count": 16,
     "metadata": {},
     "output_type": "execute_result"
    },
    {
     "data": {
      "image/png": "[encoded data removed]",
      "text/plain": [
       "<Figure size 1440x360 with 2 Axes>"
      ]
     },
     "metadata": {
      "needs_background": "light"
     },
     "output_type": "display_data"
    }
   ],
   "source": [
    "x = features['Population_log']\n",
    "\n",
    "fig = plt.figure(figsize=(20,5))\n",
    "\n",
    "fig.add_subplot(121)\n",
    "sns.distplot(x, hist=True, color='b', kde_kws={'shade':True,'color':'g'})\n",
    "plt.title('Population')\n",
    "\n",
    "fig.add_subplot(122)\n",
    "sns.boxplot(x, linewidth=1, width=0.2, palette='pastel', orient='h')\n",
    "plt.title('Population')"
   ]
  },
  {
   "cell_type": "code",
   "execution_count": 17,
   "metadata": {},
   "outputs": [
    {
     "data": {
      "text/plain": [
       "City                                        0\n",
       "Population                                  3\n",
       "Violent\\ncrime                              3\n",
       "Murder and\\nnonnegligent\\nmanslaughter      3\n",
       "Rape\\n(revised\\ndefinition)1              351\n",
       "Rape\\n(legacy\\ndefinition)2                 3\n",
       "Robbery                                     3\n",
       "Aggravated\\nassault                         3\n",
       "Property\\ncrime                             3\n",
       "Burglary                                    3\n",
       "Larceny-\\ntheft                             3\n",
       "Motor\\nvehicle\\ntheft                       3\n",
       "Arson3                                    164\n",
       "dtype: int64"
      ]
     },
     "execution_count": 17,
     "metadata": {},
     "output_type": "execute_result"
    }
   ],
   "source": [
    "# Checking for null cells or outliers...\n",
    "\n",
    "df.isnull().sum()"
   ]
  },
  {
   "cell_type": "code",
   "execution_count": 18,
   "metadata": {},
   "outputs": [],
   "source": [
    "features['Murder_raw'] = df['Murder and\\nnonnegligent\\nmanslaughter']\n",
    "features['Robbery_raw'] = df['Robbery']\n",
    "features['Aggravated assault_raw'] = df['Aggravated\\nassault']\n",
    "features['Burglary_raw'] = df['Burglary']\n",
    "features['Rape_def2_raw'] = df['Rape\\n(legacy\\ndefinition)2']\n",
    "features['Property Crime'] = df['Property\\ncrime']"
   ]
  },
  {
   "cell_type": "code",
   "execution_count": 19,
   "metadata": {},
   "outputs": [],
   "source": [
    "features = features.dropna(subset=['Murder_raw'])\n",
    "features = features.dropna(subset=['Robbery_raw'])\n",
    "features = features.dropna(subset=['Aggravated assault_raw'])\n",
    "features = features.dropna(subset=['Burglary_raw'])\n",
    "features = features.dropna(subset=['Rape_def2_raw'])\n",
    "features = features.dropna(subset=['Property Crime'])"
   ]
  },
  {
   "cell_type": "code",
   "execution_count": 20,
   "metadata": {},
   "outputs": [],
   "source": [
    "# Population squared, Murder and Robbery categorical features\n",
    "\n",
    "features['Population_cat'] = 0\n",
    "features['Murder'] = 0\n",
    "features['Robbery'] = 0\n",
    "features['Aggravated assault'] = 0\n",
    "features['Burglary'] = 0\n",
    "features['Rape_def2'] = 0\n",
    "features.loc[(features['Population'] > 175000), 'Population_cat'] = 1\n",
    "features.loc[(features['Murder_raw'] > 0), 'Murder'] = 1\n",
    "features.loc[(features['Robbery_raw'] > 0), 'Robbery'] = 1\n",
    "features.loc[(features['Aggravated assault_raw'] > 0), 'Aggravated assault'] = 1\n",
    "features.loc[(features['Burglary_raw'] > 0), 'Burglary'] = 1\n",
    "features.loc[(features['Rape_def2_raw'] > 0), 'Rape_def2'] = 1\n",
    "features['Population^2'] = np.square(features['Population'])"
   ]
  },
  {
   "cell_type": "code",
   "execution_count": 21,
   "metadata": {},
   "outputs": [
    {
     "data": {
      "text/html": [
       "<div>\n",
       "<style scoped>\n",
       "    .dataframe tbody tr th:only-of-type {\n",
       "        vertical-align: middle;\n",
       "    }\n",
       "\n",
       "    .dataframe tbody tr th {\n",
       "        vertical-align: top;\n",
       "    }\n",
       "\n",
       "    .dataframe thead th {\n",
       "        text-align: right;\n",
       "    }\n",
       "</style>\n",
       "<table border=\"1\" class=\"dataframe\">\n",
       "  <thead>\n",
       "    <tr style=\"text-align: right;\">\n",
       "      <th></th>\n",
       "      <th>Population</th>\n",
       "      <th>Population_log</th>\n",
       "      <th>Murder_raw</th>\n",
       "      <th>Robbery_raw</th>\n",
       "      <th>Aggravated assault_raw</th>\n",
       "      <th>Burglary_raw</th>\n",
       "      <th>Rape_def2_raw</th>\n",
       "      <th>Property Crime</th>\n",
       "      <th>Population_cat</th>\n",
       "      <th>Murder</th>\n",
       "      <th>Robbery</th>\n",
       "      <th>Aggravated assault</th>\n",
       "      <th>Burglary</th>\n",
       "      <th>Rape_def2</th>\n",
       "      <th>Population^2</th>\n",
       "    </tr>\n",
       "  </thead>\n",
       "  <tbody>\n",
       "    <tr>\n",
       "      <th>0</th>\n",
       "      <td>1861.000</td>\n",
       "      <td>7.529</td>\n",
       "      <td>0.000</td>\n",
       "      <td>0.000</td>\n",
       "      <td>0.000</td>\n",
       "      <td>2.000</td>\n",
       "      <td>0.000</td>\n",
       "      <td>12.000</td>\n",
       "      <td>0</td>\n",
       "      <td>0</td>\n",
       "      <td>0</td>\n",
       "      <td>0</td>\n",
       "      <td>1</td>\n",
       "      <td>0</td>\n",
       "      <td>3463321.000</td>\n",
       "    </tr>\n",
       "    <tr>\n",
       "      <th>1</th>\n",
       "      <td>2577.000</td>\n",
       "      <td>7.854</td>\n",
       "      <td>0.000</td>\n",
       "      <td>0.000</td>\n",
       "      <td>3.000</td>\n",
       "      <td>3.000</td>\n",
       "      <td>0.000</td>\n",
       "      <td>24.000</td>\n",
       "      <td>0</td>\n",
       "      <td>0</td>\n",
       "      <td>0</td>\n",
       "      <td>1</td>\n",
       "      <td>1</td>\n",
       "      <td>0</td>\n",
       "      <td>6640929.000</td>\n",
       "    </tr>\n",
       "    <tr>\n",
       "      <th>2</th>\n",
       "      <td>2846.000</td>\n",
       "      <td>7.954</td>\n",
       "      <td>0.000</td>\n",
       "      <td>0.000</td>\n",
       "      <td>3.000</td>\n",
       "      <td>1.000</td>\n",
       "      <td>0.000</td>\n",
       "      <td>16.000</td>\n",
       "      <td>0</td>\n",
       "      <td>0</td>\n",
       "      <td>0</td>\n",
       "      <td>1</td>\n",
       "      <td>1</td>\n",
       "      <td>0</td>\n",
       "      <td>8099716.000</td>\n",
       "    </tr>\n",
       "    <tr>\n",
       "      <th>3</th>\n",
       "      <td>97956.000</td>\n",
       "      <td>11.492</td>\n",
       "      <td>8.000</td>\n",
       "      <td>227.000</td>\n",
       "      <td>526.000</td>\n",
       "      <td>705.000</td>\n",
       "      <td>30.000</td>\n",
       "      <td>4090.000</td>\n",
       "      <td>0</td>\n",
       "      <td>1</td>\n",
       "      <td>1</td>\n",
       "      <td>1</td>\n",
       "      <td>1</td>\n",
       "      <td>1</td>\n",
       "      <td>9595377936.000</td>\n",
       "    </tr>\n",
       "    <tr>\n",
       "      <th>4</th>\n",
       "      <td>6388.000</td>\n",
       "      <td>8.762</td>\n",
       "      <td>0.000</td>\n",
       "      <td>4.000</td>\n",
       "      <td>16.000</td>\n",
       "      <td>53.000</td>\n",
       "      <td>3.000</td>\n",
       "      <td>223.000</td>\n",
       "      <td>0</td>\n",
       "      <td>0</td>\n",
       "      <td>1</td>\n",
       "      <td>1</td>\n",
       "      <td>1</td>\n",
       "      <td>1</td>\n",
       "      <td>40806544.000</td>\n",
       "    </tr>\n",
       "  </tbody>\n",
       "</table>\n",
       "</div>"
      ],
      "text/plain": [
       "   Population  Population_log  Murder_raw  Robbery_raw  \\\n",
       "0    1861.000           7.529       0.000        0.000   \n",
       "1    2577.000           7.854       0.000        0.000   \n",
       "2    2846.000           7.954       0.000        0.000   \n",
       "3   97956.000          11.492       8.000      227.000   \n",
       "4    6388.000           8.762       0.000        4.000   \n",
       "\n",
       "   Aggravated assault_raw  Burglary_raw  Rape_def2_raw  Property Crime  \\\n",
       "0                   0.000         2.000          0.000          12.000   \n",
       "1                   3.000         3.000          0.000          24.000   \n",
       "2                   3.000         1.000          0.000          16.000   \n",
       "3                 526.000       705.000         30.000        4090.000   \n",
       "4                  16.000        53.000          3.000         223.000   \n",
       "\n",
       "   Population_cat  Murder  Robbery  Aggravated assault  Burglary  Rape_def2  \\\n",
       "0               0       0        0                   0         1          0   \n",
       "1               0       0        0                   1         1          0   \n",
       "2               0       0        0                   1         1          0   \n",
       "3               0       1        1                   1         1          1   \n",
       "4               0       0        1                   1         1          1   \n",
       "\n",
       "    Population^2  \n",
       "0    3463321.000  \n",
       "1    6640929.000  \n",
       "2    8099716.000  \n",
       "3 9595377936.000  \n",
       "4   40806544.000  "
      ]
     },
     "execution_count": 21,
     "metadata": {},
     "output_type": "execute_result"
    }
   ],
   "source": [
    "features.head()"
   ]
  },
  {
   "cell_type": "code",
   "execution_count": 22,
   "metadata": {},
   "outputs": [
    {
     "data": {
      "image/png": "[encoded data removed]",
      "text/plain": [
       "<Figure size 1440x360 with 4 Axes>"
      ]
     },
     "metadata": {
      "needs_background": "light"
     },
     "output_type": "display_data"
    }
   ],
   "source": [
    "# Linear Relationship\n",
    "\n",
    "fig = plt.figure(figsize=(20,5))\n",
    "\n",
    "fig.add_subplot(141)\n",
    "plt.scatter(features['Property Crime'],features['Population'])\n",
    "plt.ylabel('Population')\n",
    "plt.xlabel('Property Crime')\n",
    "\n",
    "fig.add_subplot(142)\n",
    "plt.scatter(features['Property Crime'],features['Population_log'])\n",
    "plt.ylabel('Population_log')\n",
    "plt.xlabel('Property Crime')\n",
    "\n",
    "fig.add_subplot(143)\n",
    "plt.scatter(features['Property Crime'],features['Aggravated assault_raw'])\n",
    "plt.ylabel('Aggravated assault_raw')\n",
    "plt.xlabel('Property Crime')\n",
    "\n",
    "fig.add_subplot(144)\n",
    "plt.scatter(features['Property Crime'],features['Burglary_raw'])\n",
    "plt.ylabel('Burglary_raw')\n",
    "plt.xlabel('Property Crime')\n",
    "\n",
    "plt.show()"
   ]
  },
  {
   "cell_type": "code",
   "execution_count": 52,
   "metadata": {},
   "outputs": [
    {
     "name": "stdout",
     "output_type": "stream",
     "text": [
      "\n",
      "Coefficients: \n",
      " [ 3.45072106e-02 -1.68895834e+01 -4.36445436e+01 -5.87203530e+01\n",
      " -6.67643298e+01  2.02950171e+01]\n",
      "\n",
      "Intercept: \n",
      " -30.18561419995973\n",
      "\n",
      "R-squared:\n",
      "0.789510562835373\n"
     ]
    }
   ],
   "source": [
    "# Instantiate and fit our model.\n",
    "regr = linear_model.LinearRegression()\n",
    "Y = features['Property Crime']\n",
    "X = features[['Population','Rape_def2','Aggravated assault','Burglary','Robbery','Murder']]\n",
    "regr.fit(X, Y)\n",
    "\n",
    "# Inspect the results.\n",
    "print('\\nCoefficients: \\n', regr.coef_)\n",
    "print('\\nIntercept: \\n', regr.intercept_)\n",
    "print('\\nR-squared:')\n",
    "print(regr.score(X, Y))"
   ]
  },
  {
   "cell_type": "code",
   "execution_count": 53,
   "metadata": {},
   "outputs": [
    {
     "data": {
      "image/png": "[encoded data removed]",
      "text/plain": [
       "<Figure size 432x288 with 1 Axes>"
      ]
     },
     "metadata": {
      "needs_background": "light"
     },
     "output_type": "display_data"
    }
   ],
   "source": [
    "# Multivariate Normality\n",
    "\n",
    "# Extract predicted values.\n",
    "predicted = regr.predict(X).ravel()\n",
    "actual = features['Property Crime']\n",
    "\n",
    "# Calculate the error, also called the residual.\n",
    "residual = actual - predicted\n",
    "\n",
    "plt.hist(residual)\n",
    "plt.title('Residual counts')\n",
    "plt.xlabel('Residual')\n",
    "plt.ylabel('Count')\n",
    "plt.show()"
   ]
  },
  {
   "cell_type": "code",
   "execution_count": 54,
   "metadata": {},
   "outputs": [
    {
     "data": {
      "image/png": "[encoded data removed]",
      "text/plain": [
       "<Figure size 432x288 with 1 Axes>"
      ]
     },
     "metadata": {
      "needs_background": "light"
     },
     "output_type": "display_data"
    }
   ],
   "source": [
    "# Homoscedasticity\n",
    "\n",
    "plt.scatter(predicted, residual)\n",
    "plt.xlabel('Predicted')\n",
    "plt.ylabel('Residual')\n",
    "plt.axhline(y=0)\n",
    "plt.title('Residual vs. Predicted')\n",
    "plt.show()"
   ]
  },
  {
   "cell_type": "code",
   "execution_count": 55,
   "metadata": {},
   "outputs": [
    {
     "data": {
      "text/html": [
       "<div>\n",
       "<style scoped>\n",
       "    .dataframe tbody tr th:only-of-type {\n",
       "        vertical-align: middle;\n",
       "    }\n",
       "\n",
       "    .dataframe tbody tr th {\n",
       "        vertical-align: top;\n",
       "    }\n",
       "\n",
       "    .dataframe thead th {\n",
       "        text-align: right;\n",
       "    }\n",
       "</style>\n",
       "<table border=\"1\" class=\"dataframe\">\n",
       "  <thead>\n",
       "    <tr style=\"text-align: right;\">\n",
       "      <th></th>\n",
       "      <th>Population</th>\n",
       "      <th>Rape_def2</th>\n",
       "      <th>Aggravated assault</th>\n",
       "      <th>Burglary</th>\n",
       "      <th>Robbery</th>\n",
       "      <th>Murder</th>\n",
       "    </tr>\n",
       "  </thead>\n",
       "  <tbody>\n",
       "    <tr>\n",
       "      <th>Population</th>\n",
       "      <td>1.000</td>\n",
       "      <td>0.393</td>\n",
       "      <td>0.221</td>\n",
       "      <td>0.135</td>\n",
       "      <td>0.344</td>\n",
       "      <td>0.503</td>\n",
       "    </tr>\n",
       "    <tr>\n",
       "      <th>Rape_def2</th>\n",
       "      <td>0.393</td>\n",
       "      <td>1.000</td>\n",
       "      <td>0.301</td>\n",
       "      <td>0.212</td>\n",
       "      <td>0.469</td>\n",
       "      <td>0.377</td>\n",
       "    </tr>\n",
       "    <tr>\n",
       "      <th>Aggravated assault</th>\n",
       "      <td>0.221</td>\n",
       "      <td>0.301</td>\n",
       "      <td>1.000</td>\n",
       "      <td>0.339</td>\n",
       "      <td>0.428</td>\n",
       "      <td>0.194</td>\n",
       "    </tr>\n",
       "    <tr>\n",
       "      <th>Burglary</th>\n",
       "      <td>0.135</td>\n",
       "      <td>0.212</td>\n",
       "      <td>0.339</td>\n",
       "      <td>1.000</td>\n",
       "      <td>0.286</td>\n",
       "      <td>0.102</td>\n",
       "    </tr>\n",
       "    <tr>\n",
       "      <th>Robbery</th>\n",
       "      <td>0.344</td>\n",
       "      <td>0.469</td>\n",
       "      <td>0.428</td>\n",
       "      <td>0.286</td>\n",
       "      <td>1.000</td>\n",
       "      <td>0.311</td>\n",
       "    </tr>\n",
       "    <tr>\n",
       "      <th>Murder</th>\n",
       "      <td>0.503</td>\n",
       "      <td>0.377</td>\n",
       "      <td>0.194</td>\n",
       "      <td>0.102</td>\n",
       "      <td>0.311</td>\n",
       "      <td>1.000</td>\n",
       "    </tr>\n",
       "  </tbody>\n",
       "</table>\n",
       "</div>"
      ],
      "text/plain": [
       "                    Population  Rape_def2  Aggravated assault  Burglary  \\\n",
       "Population               1.000      0.393               0.221     0.135   \n",
       "Rape_def2                0.393      1.000               0.301     0.212   \n",
       "Aggravated assault       0.221      0.301               1.000     0.339   \n",
       "Burglary                 0.135      0.212               0.339     1.000   \n",
       "Robbery                  0.344      0.469               0.428     0.286   \n",
       "Murder                   0.503      0.377               0.194     0.102   \n",
       "\n",
       "                    Robbery  Murder  \n",
       "Population            0.344   0.503  \n",
       "Rape_def2             0.469   0.377  \n",
       "Aggravated assault    0.428   0.194  \n",
       "Burglary              0.286   0.102  \n",
       "Robbery               1.000   0.311  \n",
       "Murder                0.311   1.000  "
      ]
     },
     "metadata": {},
     "output_type": "display_data"
    }
   ],
   "source": [
    "# Multicollinearity\n",
    "\n",
    "correlation_matrix = X.corr()\n",
    "display(correlation_matrix)"
   ]
  },
  {
   "cell_type": "markdown",
   "metadata": {},
   "source": [
    "# Writeup\n",
    "+ For this model I used simple linear manipulation and other techniques to develop features related to Property Crime in New York City. After creating a dataframe of features I simply substituted each one and measured Homoscedasticity, Multicollinearity, etc.\n",
    "- Going further, I would create two models - one for more populated areas and one for less populated areas due to the bimodal nature of the Population data. I would also continue to look at a full heatmap of feature correlations in order to further eliminate noise."
   ]
  }
 ],
 "metadata": {
  "kernelspec": {
   "display_name": "Python 3",
   "language": "python",
   "name": "python3"
  },
  "language_info": {
   "codemirror_mode": {
    "name": "ipython",
    "version": 3
   },
   "file_extension": ".py",
   "mimetype": "text/x-python",
   "name": "python",
   "nbconvert_exporter": "python",
   "pygments_lexer": "ipython3",
   "version": "3.7.0"
  }
 },
 "nbformat": 4,
 "nbformat_minor": 2
}
