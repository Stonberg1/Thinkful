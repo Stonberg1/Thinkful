{
 "cells": [
  {
   "cell_type": "markdown",
   "metadata": {},
   "source": [
    "# DRILL: Am I Biased?"
   ]
  },
  {
   "cell_type": "markdown",
   "metadata": {},
   "source": [
    "### For each of the following scenarios, call out the potential biases in the proposed experiment. Do your best to try to discover not only the bias, but the initial design. There is plenty of room for interpretation here, so make sure to state what assumptions you're making."
   ]
  },
  {
   "cell_type": "markdown",
   "metadata": {},
   "source": [
    "### You're testing advertising emails for a bathing suit company and you test one version of the email in February and the other in May."
   ]
  },
  {
   "cell_type": "markdown",
   "metadata": {},
   "source": [
    "In this case, there is bias in assignment to conditions. Surely the baithing suit business is seasonal. Whether that means people buy more in the summer or more in the winter in anticipation of the summer, there is almost certainly a difference there, making these two experimental groups dissimilar enough that any differences in purchasing behvior cannot be attributed only to differences in advertising."
   ]
  },
  {
   "cell_type": "markdown",
   "metadata": {},
   "source": [
    "### You open a clinic to treat anxiety and find that the people who visit show a higher rate of anxiety than the general population."
   ]
  },
  {
   "cell_type": "markdown",
   "metadata": {},
   "source": [
    "I assume the assumption on the part of clinic is that it has something to do with the clinic that makes people anxious, but there is likely a bias whereby the sample is result of self-selection (i.e. the people who are likely to visit a clinic that treats anxiety are people with higher levels of anxiety than the overall population in the first place - that is why they are visiting the clinic)."
   ]
  },
  {
   "cell_type": "markdown",
   "metadata": {},
   "source": [
    "### You launch a new ad billboard based campaign and see an increase in website visits in the first week."
   ]
  },
  {
   "cell_type": "markdown",
   "metadata": {},
   "source": [
    "Billboard advertisements target a specific sample of people not necessarily representative of the overall population, specifically people who drive more or commute more and the biases inherent there (e.g. maybe older people drive more than young people). "
   ]
  },
  {
   "cell_type": "markdown",
   "metadata": {},
   "source": [
    "### You launch a loyalty program but see no change in visits in the first week."
   ]
  },
  {
   "cell_type": "markdown",
   "metadata": {},
   "source": [
    "There could be a number of problems here. A loyalty program should be targted toward return customers who would ideally become even more loyal to the business as aresult of the program. That is to say that it is unlikely that there would be *new* visits. Also, my assumption is that a loyalty program takes longer than one week to translate to new visits - it may require a larger window of impact. Word may need to get around from current customers to new ones."
   ]
  },
  {
   "cell_type": "code",
   "execution_count": null,
   "metadata": {
    "collapsed": true
   },
   "outputs": [],
   "source": []
  }
 ],
 "metadata": {
  "kernelspec": {
   "display_name": "Python 3",
   "language": "python",
   "name": "python3"
  },
  "language_info": {
   "codemirror_mode": {
    "name": "ipython",
    "version": 3
   },
   "file_extension": ".py",
   "mimetype": "text/x-python",
   "name": "python",
   "nbconvert_exporter": "python",
   "pygments_lexer": "ipython3",
   "version": "3.5.2"
  }
 },
 "nbformat": 4,
 "nbformat_minor": 0
}
