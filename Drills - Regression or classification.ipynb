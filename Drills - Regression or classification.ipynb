{
 "cells": [
  {
   "cell_type": "markdown",
   "metadata": {},
   "source": [
    "# Decide if you would model using a regression or classification model. Discuss your reasoning with your mentor next time you meet."
   ]
  },
  {
   "cell_type": "markdown",
   "metadata": {},
   "source": [
    "**The amount a person will spend on a given site in the next 24 months.**\n",
    "+ The (continuous variable) time you are considering as an outcome variable could be unbounded, but this person couldn't spend negative time on a site and the next 24 months has a ceiling of time. I would use a regression model."
   ]
  },
  {
   "cell_type": "markdown",
   "metadata": {},
   "source": [
    "**What color car someone is going to buy.**\n",
    "+ This outcome variable is a categorization of colors. You could make it very complex, but it is a categorical variable. Classification."
   ]
  },
  {
   "cell_type": "markdown",
   "metadata": {},
   "source": [
    "**How many children a family will have.**\n",
    "+ Regression"
   ]
  },
  {
   "cell_type": "markdown",
   "metadata": {},
   "source": [
    "**If someone will sign up for a service.**\n",
    "+ This is the likelihood of a yes or no categorical variable. Classification."
   ]
  },
  {
   "cell_type": "markdown",
   "metadata": {},
   "source": [
    "**The number of times someone will get sick in a year.**\n",
    "+ Regression"
   ]
  },
  {
   "cell_type": "markdown",
   "metadata": {},
   "source": [
    "**The probability someone will get sick in the next month.**\n",
    "+ This is the likelihood of a yes or no categorical variable. Classification."
   ]
  },
  {
   "cell_type": "markdown",
   "metadata": {},
   "source": [
    "**Which medicine will work best for a given patient.**\n",
    "+ This is categorization along a set of medicines. Classification."
   ]
  }
 ],
 "metadata": {
  "kernelspec": {
   "display_name": "Python 3",
   "language": "python",
   "name": "python3"
  },
  "language_info": {
   "codemirror_mode": {
    "name": "ipython",
    "version": 3
   },
   "file_extension": ".py",
   "mimetype": "text/x-python",
   "name": "python",
   "nbconvert_exporter": "python",
   "pygments_lexer": "ipython3",
   "version": "3.5.2"
  }
 },
 "nbformat": 4,
 "nbformat_minor": 0
}
