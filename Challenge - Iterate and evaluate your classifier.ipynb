{
 "cells": [
  {
   "cell_type": "code",
   "execution_count": 1,
   "metadata": {},
   "outputs": [],
   "source": [
    "%matplotlib inline\n",
    "import numpy as np\n",
    "import pandas as pd\n",
    "import scipy\n",
    "import sklearn\n",
    "import matplotlib.pyplot as plt\n",
    "import seaborn as sns"
   ]
  },
  {
   "cell_type": "code",
   "execution_count": 2,
   "metadata": {},
   "outputs": [],
   "source": [
    "# Grab and process the raw data.\n",
    "training_text = ('imdb_labelled.txt')\n",
    "# training_text = ('amazon_cells_labelled.txt')\n",
    "text_raw = pd.read_csv(training_text, delimiter= '\\t', header=None)\n",
    "text_raw.columns = ['message', 'negative']"
   ]
  },
  {
   "cell_type": "code",
   "execution_count": 3,
   "metadata": {},
   "outputs": [],
   "source": [
    "keywords = ['crap', 'doomed', 'mediocre', 'predictable', 'lazy', 'disappointed', 'dissapointment', 'annoying',\n",
    "            'unnecessary', 'horrendus', 'bad', 'shallow', 'insincere', 'lousy', 'pretentious', 'unsatisfactory',\n",
    "            'hate', 'sucked', 'awful', 'disliked', 'appalling', 'torture', 'atrocity', 'stupid', 'waste', 'wasted',\n",
    "            'unremarkable', 'poor', 'trash', 'forced', 'lame', 'ridiculous', 'weak', 'bore', 'bored', 'boring',\n",
    "            'pointless', 'aimless', 'flat', 'lack', 'lacks', 'lacked', 'predictable', 'insult', 'insulting']\n",
    "\n",
    "for key in keywords:\n",
    "    text_raw[str(key)] = text_raw.message.str.contains(\n",
    "        ' ' + str(key) + ' ',\n",
    "        case=False\n",
    "    )"
   ]
  },
  {
   "cell_type": "code",
   "execution_count": 4,
   "metadata": {},
   "outputs": [],
   "source": [
    "text_raw['negative'] = (text_raw['negative'] == 0)"
   ]
  },
  {
   "cell_type": "code",
   "execution_count": 5,
   "metadata": {},
   "outputs": [
    {
     "data": {
      "text/plain": [
       "<matplotlib.axes._subplots.AxesSubplot at 0x1099d66d8>"
      ]
     },
     "execution_count": 5,
     "metadata": {},
     "output_type": "execute_result"
    },
    {
     "data": {
      "image/png": "[encoded data removed]",
      "text/plain": [
       "<Figure size 432x288 with 2 Axes>"
      ]
     },
     "metadata": {
      "needs_background": "light"
     },
     "output_type": "display_data"
    }
   ],
   "source": [
    "sns.heatmap(text_raw.corr())"
   ]
  },
  {
   "cell_type": "code",
   "execution_count": 6,
   "metadata": {},
   "outputs": [],
   "source": [
    "data = text_raw[keywords]\n",
    "target = text_raw['negative']"
   ]
  },
  {
   "cell_type": "code",
   "execution_count": 7,
   "metadata": {},
   "outputs": [
    {
     "name": "stdout",
     "output_type": "stream",
     "text": [
      "Number of mislabeled points out of a total 748 points : 282\n"
     ]
    }
   ],
   "source": [
    "# Our data is binary / boolean, so we're importing the Bernoulli classifier.\n",
    "from sklearn.naive_bayes import BernoulliNB\n",
    "\n",
    "# Instantiate our model and store it in a new variable.\n",
    "bnb = BernoulliNB()\n",
    "\n",
    "# Fit our model to the data.\n",
    "bnb.fit(data, target)\n",
    "\n",
    "# Classify, storing the result in a new variable.\n",
    "y_pred = bnb.predict(data)\n",
    "\n",
    "# Display our results.\n",
    "print(\"Number of mislabeled points out of a total {} points : {}\".format(\n",
    "    data.shape[0],\n",
    "    (target != y_pred).sum()\n",
    "))"
   ]
  },
  {
   "cell_type": "code",
   "execution_count": 8,
   "metadata": {},
   "outputs": [
    {
     "name": "stdout",
     "output_type": "stream",
     "text": [
      "[[378   8]\n",
      " [274  88]]\n"
     ]
    }
   ],
   "source": [
    "from sklearn.metrics import confusion_matrix\n",
    "array = confusion_matrix(target, y_pred)\n",
    "print(array)"
   ]
  },
  {
   "cell_type": "code",
   "execution_count": 9,
   "metadata": {},
   "outputs": [
    {
     "name": "stdout",
     "output_type": "stream",
     "text": [
      "0.2430939226519337\n",
      "0.9792746113989638\n"
     ]
    }
   ],
   "source": [
    "# (Type II) Mistakenly identified 274 messages as NOT NEGATIVE when they WERE NEGATIVE.\n",
    "\n",
    "# Sensitivity\n",
    "print(array[1][1] / (array[1][1] + array[1][0]))\n",
    "\n",
    "# Specificity\n",
    "print(array[0][0] / (array[0][1] + array[0][0]))"
   ]
  },
  {
   "cell_type": "code",
   "execution_count": 10,
   "metadata": {},
   "outputs": [
    {
     "name": "stdout",
     "output_type": "stream",
     "text": [
      "With 20% Holdout: 0.5733333333333334\n",
      "Testing on Sample: 0.6229946524064172\n"
     ]
    }
   ],
   "source": [
    "# Test your model with different holdout groups.\n",
    "\n",
    "from sklearn.model_selection import train_test_split\n",
    "# Use train_test_split to create the necessary training and test groups\n",
    "X_train, X_test, y_train, y_test = train_test_split(data, target, test_size=0.1, random_state=20)\n",
    "print('With 20% Holdout: ' + str(bnb.fit(X_train, y_train).score(X_test, y_test)))\n",
    "print('Testing on Sample: ' + str(bnb.fit(data, target).score(data, target)))"
   ]
  },
  {
   "cell_type": "code",
   "execution_count": 11,
   "metadata": {},
   "outputs": [
    {
     "data": {
      "text/plain": [
       "array([0.61538462, 0.51282051, 0.60526316, 0.60526316, 0.55263158,\n",
       "       0.57894737, 0.67567568, 0.64864865, 0.7027027 , 0.62162162,\n",
       "       0.56756757, 0.59459459, 0.59459459, 0.64864865, 0.64864865,\n",
       "       0.62162162, 0.51351351, 0.64864865, 0.62162162, 0.64864865])"
      ]
     },
     "execution_count": 11,
     "metadata": {},
     "output_type": "execute_result"
    }
   ],
   "source": [
    "from sklearn.model_selection import cross_val_score\n",
    "cross_val_score(bnb, data, target, cv=20)"
   ]
  },
  {
   "cell_type": "markdown",
   "metadata": {},
   "source": [
    "# Part II - Unit 2 / Lesson 3 / Project 4"
   ]
  },
  {
   "cell_type": "markdown",
   "metadata": {},
   "source": [
    "#### Classifier new version 1. Classifying \"positivity\""
   ]
  },
  {
   "cell_type": "code",
   "execution_count": 12,
   "metadata": {},
   "outputs": [],
   "source": [
    "# Grab and process the raw data.\n",
    "training_text = ('imdb_labelled.txt')\n",
    "# training_text = ('amazon_cells_labelled.txt')\n",
    "text_raw_1 = pd.read_csv(training_text, delimiter= '\\t', header=None)\n",
    "text_raw_1.columns = ['message', 'positive']"
   ]
  },
  {
   "cell_type": "code",
   "execution_count": 13,
   "metadata": {},
   "outputs": [],
   "source": [
    "keywords_pos = ['best', 'cool', 'hilarious', 'appealing', 'good', 'greatest', 'in love', 'excellent',\n",
    "            'perfect', 'masterpiece', 'beautiful', 'insane', 'fun', 'enjoy', 'love', 'believable',\n",
    "            'enjoyed', 'convincing', 'amazing', 'thought-provoking', 'terrific', 'funny', 'fresh',\n",
    "            'bold', 'nice', 'treat', 'like', 'liked', 'incredible', 'genius', 'perfected', 'fascinating',\n",
    "           'fascinated', 'thrilled', 'thrill', 'thrilling', 'favourite', 'favorite', 'super', 'superb', 'recommend']\n",
    "\n",
    "for key in keywords_pos:\n",
    "    text_raw_1[str(key)] = text_raw.message.str.contains(\n",
    "        ' ' + str(key) + ' ',\n",
    "        case=False\n",
    "    )"
   ]
  },
  {
   "cell_type": "code",
   "execution_count": 14,
   "metadata": {},
   "outputs": [],
   "source": [
    "text_raw_1['positive'] = (text_raw_1['positive'] == 0)"
   ]
  },
  {
   "cell_type": "code",
   "execution_count": 15,
   "metadata": {},
   "outputs": [
    {
     "data": {
      "text/plain": [
       "<matplotlib.axes._subplots.AxesSubplot at 0x1a1d568860>"
      ]
     },
     "execution_count": 15,
     "metadata": {},
     "output_type": "execute_result"
    },
    {
     "data": {
      "image/png": "[encoded data removed]",
      "text/plain": [
       "<Figure size 432x288 with 2 Axes>"
      ]
     },
     "metadata": {
      "needs_background": "light"
     },
     "output_type": "display_data"
    }
   ],
   "source": [
    "sns.heatmap(text_raw_1.corr())"
   ]
  },
  {
   "cell_type": "code",
   "execution_count": 16,
   "metadata": {},
   "outputs": [],
   "source": [
    "data_1 = text_raw_1[keywords_pos]\n",
    "target_1 = text_raw_1['positive']"
   ]
  },
  {
   "cell_type": "code",
   "execution_count": 17,
   "metadata": {},
   "outputs": [
    {
     "name": "stdout",
     "output_type": "stream",
     "text": [
      "Number of mislabeled points out of a total 748 points : 287\n"
     ]
    }
   ],
   "source": [
    "# Our data is binary / boolean, so we're importing the Bernoulli classifier.\n",
    "from sklearn.naive_bayes import BernoulliNB\n",
    "\n",
    "# Instantiate our model and store it in a new variable.\n",
    "bnb = BernoulliNB()\n",
    "\n",
    "# Fit our model to the data.\n",
    "bnb.fit(data_1, target_1)\n",
    "\n",
    "# Classify, storing the result in a new variable.\n",
    "y_pred = bnb.predict(data_1)\n",
    "\n",
    "# Display our results.\n",
    "print(\"Number of mislabeled points out of a total {} points : {}\".format(\n",
    "    data_1.shape[0],\n",
    "    (target_1 != y_pred).sum()\n",
    "))"
   ]
  },
  {
   "cell_type": "code",
   "execution_count": 18,
   "metadata": {},
   "outputs": [
    {
     "name": "stdout",
     "output_type": "stream",
     "text": [
      "[[118 268]\n",
      " [ 19 343]]\n"
     ]
    }
   ],
   "source": [
    "from sklearn.metrics import confusion_matrix\n",
    "array = confusion_matrix(target_1, y_pred)\n",
    "print(array)"
   ]
  },
  {
   "cell_type": "code",
   "execution_count": 19,
   "metadata": {},
   "outputs": [
    {
     "name": "stdout",
     "output_type": "stream",
     "text": [
      "0.9475138121546961\n",
      "0.30569948186528495\n"
     ]
    }
   ],
   "source": [
    "# (Type II) Mistakenly identified 19 messages as NOT NEGATIVE when they WERE NEGATIVE.\n",
    "\n",
    "# Sensitivity\n",
    "print(array[1][1] / (array[1][1] + array[1][0]))\n",
    "\n",
    "# Specificity\n",
    "print(array[0][0] / (array[0][1] + array[0][0]))"
   ]
  },
  {
   "cell_type": "code",
   "execution_count": 20,
   "metadata": {},
   "outputs": [
    {
     "name": "stdout",
     "output_type": "stream",
     "text": [
      "With 20% Holdout: 0.6\n",
      "Testing on Sample: 0.6163101604278075\n"
     ]
    }
   ],
   "source": [
    "# Test your model with different holdout groups.\n",
    "\n",
    "from sklearn.model_selection import train_test_split\n",
    "# Use train_test_split to create the necessary training and test groups\n",
    "X_train, X_test, y_train, y_test = train_test_split(data_1, target_1, test_size=0.1, random_state=20)\n",
    "print('With 20% Holdout: ' + str(bnb.fit(X_train, y_train).score(X_test, y_test)))\n",
    "print('Testing on Sample: ' + str(bnb.fit(data_1, target_1).score(data_1, target_1)))"
   ]
  },
  {
   "cell_type": "code",
   "execution_count": 21,
   "metadata": {},
   "outputs": [
    {
     "data": {
      "text/plain": [
       "array([0.51282051, 0.64102564, 0.60526316, 0.47368421, 0.71052632,\n",
       "       0.60526316, 0.48648649, 0.56756757, 0.59459459, 0.59459459,\n",
       "       0.59459459, 0.51351351, 0.75675676, 0.67567568, 0.59459459,\n",
       "       0.54054054, 0.62162162, 0.54054054, 0.51351351, 0.54054054])"
      ]
     },
     "execution_count": 21,
     "metadata": {},
     "output_type": "execute_result"
    }
   ],
   "source": [
    "from sklearn.model_selection import cross_val_score\n",
    "cross_val_score(bnb, data_1, target_1, cv=20)"
   ]
  },
  {
   "cell_type": "markdown",
   "metadata": {},
   "source": [
    "#### Classifier new version 2. Classifying with both \"negativity\" and \"negativity\" word count"
   ]
  },
  {
   "cell_type": "code",
   "execution_count": 22,
   "metadata": {},
   "outputs": [],
   "source": [
    "# Grab and process the raw data.\n",
    "training_text = ('imdb_labelled.txt')\n",
    "# training_text = ('amazon_cells_labelled.txt')\n",
    "text_raw_2 = pd.read_csv(training_text, delimiter= '\\t', header=None)\n",
    "text_raw_2.columns = ['message', 'negative']"
   ]
  },
  {
   "cell_type": "code",
   "execution_count": 23,
   "metadata": {},
   "outputs": [],
   "source": [
    "keywords_neg = ['crap', 'doomed', 'mediocre', 'predictable', 'lazy', 'disappointed', 'dissapointment', 'annoying',\n",
    "                'unnecessary', 'horrendus', 'bad', 'shallow', 'insincere', 'lousy', 'pretentious', 'unsatisfactory',\n",
    "                'hate', 'sucked', 'awful', 'disliked', 'appalling', 'torture', 'atrocity', 'stupid', 'waste', 'wasted',\n",
    "                'unremarkable', 'poor', 'trash', 'forced', 'lame', 'ridiculous', 'weak', 'bore', 'bored', 'boring',\n",
    "                'pointless', 'aimless', 'flat', 'lack', 'lacks', 'lacked', 'predictable', 'insult', 'insulting']\n",
    "\n",
    "for key in keywords_neg:\n",
    "    text_raw_2[str(key)] = text_raw.message.str.contains(\n",
    "        ' ' + str(key) + ' ',\n",
    "        case=False\n",
    "    )\n",
    "\n",
    "text_raw_2['keywords_weight'] = text_raw_2[keywords_neg].sum(axis=1)"
   ]
  },
  {
   "cell_type": "code",
   "execution_count": 24,
   "metadata": {},
   "outputs": [],
   "source": [
    "text_raw_2['negative'] = (text_raw_2['negative'] == 1)"
   ]
  },
  {
   "cell_type": "code",
   "execution_count": 25,
   "metadata": {},
   "outputs": [
    {
     "data": {
      "text/plain": [
       "<matplotlib.axes._subplots.AxesSubplot at 0x1a1e27f668>"
      ]
     },
     "execution_count": 25,
     "metadata": {},
     "output_type": "execute_result"
    },
    {
     "data": {
      "image/png": "[encoded data removed]",
      "text/plain": [
       "<Figure size 432x288 with 2 Axes>"
      ]
     },
     "metadata": {
      "needs_background": "light"
     },
     "output_type": "display_data"
    }
   ],
   "source": [
    "sns.heatmap(text_raw_2.corr())"
   ]
  },
  {
   "cell_type": "code",
   "execution_count": 26,
   "metadata": {},
   "outputs": [],
   "source": [
    "data_2 = text_raw_2[keywords_neg + ['keywords_weight']]\n",
    "target_2 = text_raw_2['negative']"
   ]
  },
  {
   "cell_type": "code",
   "execution_count": 27,
   "metadata": {},
   "outputs": [
    {
     "name": "stdout",
     "output_type": "stream",
     "text": [
      "Number of mislabeled points out of a total 748 points : 280\n"
     ]
    }
   ],
   "source": [
    "# Our data is binary / boolean, so we're importing the Bernoulli classifier.\n",
    "from sklearn.naive_bayes import BernoulliNB\n",
    "\n",
    "# Instantiate our model and store it in a new variable.\n",
    "bnb = BernoulliNB()\n",
    "\n",
    "# Fit our model to the data.\n",
    "bnb.fit(data_2, target_2)\n",
    "\n",
    "# Classify, storing the result in a new variable.\n",
    "y_pred = bnb.predict(data_2)\n",
    "\n",
    "# Display our results.\n",
    "print(\"Number of mislabeled points out of a total {} points : {}\".format(\n",
    "    data_2.shape[0],\n",
    "    (target_2 != y_pred).sum()\n",
    "))"
   ]
  },
  {
   "cell_type": "code",
   "execution_count": 28,
   "metadata": {},
   "outputs": [
    {
     "name": "stdout",
     "output_type": "stream",
     "text": [
      "[[ 91 271]\n",
      " [  9 377]]\n"
     ]
    }
   ],
   "source": [
    "from sklearn.metrics import confusion_matrix\n",
    "array = confusion_matrix(target_2, y_pred)\n",
    "print(array)"
   ]
  },
  {
   "cell_type": "code",
   "execution_count": 29,
   "metadata": {},
   "outputs": [
    {
     "name": "stdout",
     "output_type": "stream",
     "text": [
      "0.9766839378238342\n",
      "0.2513812154696133\n"
     ]
    }
   ],
   "source": [
    "# (Type II) Mistakenly identified 8 messages as NOT NEGATIVE when they WERE NEGATIVE.\n",
    "\n",
    "# Sensitivity\n",
    "print(array[1][1] / (array[1][1] + array[1][0]))\n",
    "\n",
    "# Specificity\n",
    "print(array[0][0] / (array[0][1] + array[0][0]))"
   ]
  },
  {
   "cell_type": "code",
   "execution_count": 30,
   "metadata": {},
   "outputs": [
    {
     "name": "stdout",
     "output_type": "stream",
     "text": [
      "With 20% Holdout: 0.6\n",
      "Testing on Sample: 0.6256684491978609\n"
     ]
    }
   ],
   "source": [
    "# Test your model with different holdout groups.\n",
    "\n",
    "from sklearn.model_selection import train_test_split\n",
    "# Use train_test_split to create the necessary training and test groups\n",
    "X_train, X_test, y_train, y_test = train_test_split(data_2, target_2, test_size=0.1, random_state=20)\n",
    "print('With 20% Holdout: ' + str(bnb.fit(X_train, y_train).score(X_test, y_test)))\n",
    "print('Testing on Sample: ' + str(bnb.fit(data_2, target_2).score(data_2, target_2)))"
   ]
  },
  {
   "cell_type": "code",
   "execution_count": 31,
   "metadata": {},
   "outputs": [
    {
     "data": {
      "text/plain": [
       "array([0.66666667, 0.56410256, 0.60526316, 0.60526316, 0.55263158,\n",
       "       0.63157895, 0.7027027 , 0.64864865, 0.7027027 , 0.59459459,\n",
       "       0.56756757, 0.67567568, 0.59459459, 0.64864865, 0.64864865,\n",
       "       0.62162162, 0.54054054, 0.64864865, 0.62162162, 0.67567568])"
      ]
     },
     "execution_count": 31,
     "metadata": {},
     "output_type": "execute_result"
    }
   ],
   "source": [
    "from sklearn.model_selection import cross_val_score\n",
    "cross_val_score(bnb, data_2, target_2, cv=20)"
   ]
  },
  {
   "cell_type": "markdown",
   "metadata": {},
   "source": [
    "#### Classifier new version 3. Classifying with both \"negativity\" and \"positivity\" and word count for each"
   ]
  },
  {
   "cell_type": "code",
   "execution_count": 32,
   "metadata": {},
   "outputs": [],
   "source": [
    "# Grab and process the raw data.\n",
    "training_text = ('imdb_labelled.txt')\n",
    "# training_text = ('amazon_cells_labelled.txt')\n",
    "text_raw_3 = pd.read_csv(training_text, delimiter= '\\t', header=None)\n",
    "text_raw_3.columns = ['message', 'negative']"
   ]
  },
  {
   "cell_type": "code",
   "execution_count": 33,
   "metadata": {},
   "outputs": [],
   "source": [
    "keywords_neg = ['crap', 'doomed', 'mediocre', 'predictable', 'lazy', 'disappointed', 'dissapointment', 'annoying',\n",
    "                'unnecessary', 'horrendus', 'bad', 'shallow', 'insincere', 'lousy', 'pretentious', 'unsatisfactory',\n",
    "                'hate', 'sucked', 'awful', 'disliked', 'appalling', 'torture', 'atrocity', 'stupid', 'waste', 'wasted',\n",
    "                'unremarkable', 'poor', 'trash', 'forced', 'lame', 'ridiculous', 'weak', 'bore', 'bored', 'boring',\n",
    "                'pointless', 'aimless', 'flat', 'lack', 'lacks', 'lacked', 'predictable', 'insult', 'insulting']\n",
    "\n",
    "for key in keywords_neg:\n",
    "    text_raw_3[str(key)] = text_raw.message.str.contains(\n",
    "        ' ' + str(key) + ' ',\n",
    "        case=False\n",
    "    )\n",
    "\n",
    "text_raw_3['keywords_weight_neg'] = text_raw_3[keywords_neg].sum(axis=1)\n",
    "\n",
    "keywords_pos = ['best', 'cool', 'hilarious', 'appealing', 'good', 'greatest', 'in love', 'excellent',\n",
    "            'perfect', 'masterpiece', 'beautiful', 'insane', 'fun', 'enjoy', 'love', 'believable',\n",
    "            'enjoyed', 'convincing', 'amazing', 'thought-provoking', 'terrific', 'funny', 'fresh',\n",
    "            'bold', 'nice', 'treat', 'like', 'liked', 'incredible', 'genius', 'perfected', 'fascinating',\n",
    "           'fascinated', 'thrilled', 'thrill', 'thrilling', 'favourite', 'favorite', 'super', 'superb', 'recommend']\n",
    "\n",
    "for key in keywords_pos:\n",
    "    text_raw_3[str(key)] = text_raw.message.str.contains(\n",
    "        ' ' + str(key) + ' ',\n",
    "        case=False\n",
    "    )\n",
    "    \n",
    "text_raw_3['keywords_weight_pos'] = text_raw_3[keywords_pos].sum(axis=1)"
   ]
  },
  {
   "cell_type": "code",
   "execution_count": 34,
   "metadata": {},
   "outputs": [],
   "source": [
    "text_raw_3['negative'] = (text_raw_3['negative'] == 1)"
   ]
  },
  {
   "cell_type": "code",
   "execution_count": 35,
   "metadata": {},
   "outputs": [
    {
     "data": {
      "text/plain": [
       "<matplotlib.axes._subplots.AxesSubplot at 0x1a1e26cc50>"
      ]
     },
     "execution_count": 35,
     "metadata": {},
     "output_type": "execute_result"
    },
    {
     "data": {
      "image/png": "[encoded data removed]",
      "text/plain": [
       "<Figure size 432x288 with 2 Axes>"
      ]
     },
     "metadata": {
      "needs_background": "light"
     },
     "output_type": "display_data"
    }
   ],
   "source": [
    "sns.heatmap(text_raw_3.corr())"
   ]
  },
  {
   "cell_type": "code",
   "execution_count": 36,
   "metadata": {},
   "outputs": [],
   "source": [
    "data_3 = text_raw_3[keywords_neg + ['keywords_weight_neg'] + ['keywords_weight_pos']]\n",
    "target_3 = text_raw_3['negative']"
   ]
  },
  {
   "cell_type": "code",
   "execution_count": 37,
   "metadata": {},
   "outputs": [
    {
     "name": "stdout",
     "output_type": "stream",
     "text": [
      "Number of mislabeled points out of a total 748 points : 280\n"
     ]
    }
   ],
   "source": [
    "# Our data is binary / boolean, so we're importing the Bernoulli classifier.\n",
    "from sklearn.naive_bayes import BernoulliNB\n",
    "\n",
    "# Instantiate our model and store it in a new variable.\n",
    "bnb = BernoulliNB()\n",
    "\n",
    "# Fit our model to the data.\n",
    "bnb.fit(data_3, target_3)\n",
    "\n",
    "# Classify, storing the result in a new variable.\n",
    "y_pred = bnb.predict(data_3)\n",
    "\n",
    "# Display our results.\n",
    "print(\"Number of mislabeled points out of a total {} points : {}\".format(\n",
    "    data_3.shape[0],\n",
    "    (target_3 != y_pred).sum()\n",
    "))"
   ]
  },
  {
   "cell_type": "code",
   "execution_count": 38,
   "metadata": {},
   "outputs": [
    {
     "name": "stdout",
     "output_type": "stream",
     "text": [
      "[[ 91 271]\n",
      " [  9 377]]\n"
     ]
    }
   ],
   "source": [
    "from sklearn.metrics import confusion_matrix\n",
    "array = confusion_matrix(target_3, y_pred)\n",
    "print(array)"
   ]
  },
  {
   "cell_type": "code",
   "execution_count": 39,
   "metadata": {},
   "outputs": [
    {
     "name": "stdout",
     "output_type": "stream",
     "text": [
      "0.9766839378238342\n",
      "0.2513812154696133\n"
     ]
    }
   ],
   "source": [
    "# (Type II) Mistakenly identified 9 messages as NOT NEGATIVE when they WERE NEGATIVE.\n",
    "\n",
    "# Sensitivity\n",
    "print(array[1][1] / (array[1][1] + array[1][0]))\n",
    "\n",
    "# Specificity\n",
    "print(array[0][0] / (array[0][1] + array[0][0]))"
   ]
  },
  {
   "cell_type": "code",
   "execution_count": 40,
   "metadata": {},
   "outputs": [
    {
     "name": "stdout",
     "output_type": "stream",
     "text": [
      "With 20% Holdout: 0.6\n",
      "Testing on Sample: 0.6256684491978609\n"
     ]
    }
   ],
   "source": [
    "# Test your model with different holdout groups.\n",
    "\n",
    "from sklearn.model_selection import train_test_split\n",
    "# Use train_test_split to create the necessary training and test groups\n",
    "X_train, X_test, y_train, y_test = train_test_split(data_3, target_3, test_size=0.1, random_state=20)\n",
    "print('With 20% Holdout: ' + str(bnb.fit(X_train, y_train).score(X_test, y_test)))\n",
    "print('Testing on Sample: ' + str(bnb.fit(data_3, target_3).score(data_3, target_3)))"
   ]
  },
  {
   "cell_type": "code",
   "execution_count": 41,
   "metadata": {},
   "outputs": [
    {
     "data": {
      "text/plain": [
       "array([0.66666667, 0.56410256, 0.60526316, 0.60526316, 0.55263158,\n",
       "       0.63157895, 0.7027027 , 0.64864865, 0.7027027 , 0.59459459,\n",
       "       0.56756757, 0.67567568, 0.59459459, 0.64864865, 0.64864865,\n",
       "       0.62162162, 0.54054054, 0.64864865, 0.62162162, 0.67567568])"
      ]
     },
     "execution_count": 41,
     "metadata": {},
     "output_type": "execute_result"
    }
   ],
   "source": [
    "from sklearn.model_selection import cross_val_score\n",
    "cross_val_score(bnb, data_3, target_3, cv=20)"
   ]
  },
  {
   "cell_type": "markdown",
   "metadata": {},
   "source": [
    "#### Classifier new version 4. Removing \"positive\" keywords to avoid false positives & sourced negative terms to avoid overfitting"
   ]
  },
  {
   "cell_type": "code",
   "execution_count": 161,
   "metadata": {},
   "outputs": [],
   "source": [
    "# Grab and process the raw data.\n",
    "training_text = ('imdb_labelled.txt')\n",
    "# training_text = ('amazon_cells_labelled.txt')\n",
    "text_raw_4 = pd.read_csv(training_text, delimiter= '\\t', header=None)\n",
    "text_raw_4.columns = ['message', 'negative']"
   ]
  },
  {
   "cell_type": "code",
   "execution_count": 162,
   "metadata": {},
   "outputs": [],
   "source": [
    "# Source (http://www.cs.uic.edu/~liub/FBS/sentiment-analysis.html)\n",
    "# Source (http://ptrckprry.com/course/ssd/data/negative-words.txt)\n",
    "\n",
    "keywords_neg = open('keywords_neg.csv', 'r').read().split('\\n')"
   ]
  },
  {
   "cell_type": "code",
   "execution_count": 163,
   "metadata": {},
   "outputs": [],
   "source": [
    "# Search and replacing regex (regular expressions)\n",
    "\n",
    "keywords_neg = [s.replace('*', '') for s in keywords_neg]"
   ]
  },
  {
   "cell_type": "code",
   "execution_count": 165,
   "metadata": {},
   "outputs": [],
   "source": [
    "for key in keywords_neg:\n",
    "    text_raw_4[str(key)] = text_raw_4.message.str.contains(\n",
    "        ' ' + str(key) + ' ',\n",
    "        case=False\n",
    "    )"
   ]
  },
  {
   "cell_type": "code",
   "execution_count": 178,
   "metadata": {},
   "outputs": [],
   "source": [
    "text_raw_4['keywords_weight_neg'] = text_raw_4[keywords_neg].sum(axis=1)"
   ]
  },
  {
   "cell_type": "code",
   "execution_count": 168,
   "metadata": {},
   "outputs": [],
   "source": [
    "text_raw_4['negative'] = (text_raw_4['negative'] == 1)"
   ]
  },
  {
   "cell_type": "code",
   "execution_count": 170,
   "metadata": {},
   "outputs": [],
   "source": [
    "data_4 = text_raw_4[keywords_neg + ['keywords_weight_neg']]\n",
    "target_4 = text_raw_4['negative']"
   ]
  },
  {
   "cell_type": "code",
   "execution_count": 171,
   "metadata": {},
   "outputs": [
    {
     "name": "stdout",
     "output_type": "stream",
     "text": [
      "Number of mislabeled points out of a total 748 points : 2\n"
     ]
    }
   ],
   "source": [
    "# Our data is binary / boolean, so we're importing the Bernoulli classifier.\n",
    "from sklearn.naive_bayes import BernoulliNB\n",
    "\n",
    "# Instantiate our model and store it in a new variable.\n",
    "bnb = BernoulliNB()\n",
    "\n",
    "# Fit our model to the data.\n",
    "bnb.fit(data_4, target_4)\n",
    "\n",
    "# Classify, storing the result in a new variable.\n",
    "y_pred = bnb.predict(data_4)\n",
    "\n",
    "# Display our results.\n",
    "print(\"Number of mislabeled points out of a total {} points : {}\".format(\n",
    "    data_4.shape[0],\n",
    "    (target_4 != y_pred).sum()\n",
    "))"
   ]
  },
  {
   "cell_type": "code",
   "execution_count": 172,
   "metadata": {},
   "outputs": [
    {
     "name": "stdout",
     "output_type": "stream",
     "text": [
      "[[746   0]\n",
      " [  2   0]]\n"
     ]
    }
   ],
   "source": [
    "from sklearn.metrics import confusion_matrix\n",
    "array = confusion_matrix(target_4, y_pred)\n",
    "print(array)"
   ]
  },
  {
   "cell_type": "code",
   "execution_count": 173,
   "metadata": {},
   "outputs": [
    {
     "name": "stdout",
     "output_type": "stream",
     "text": [
      "0.0\n",
      "1.0\n"
     ]
    }
   ],
   "source": [
    "# (Type II) Mistakenly identified 2 messages as NOT NEGATIVE when they WERE NEGATIVE.\n",
    "\n",
    "# Sensitivity\n",
    "print(array[1][1] / (array[1][1] + array[1][0]))\n",
    "\n",
    "# Specificity\n",
    "print(array[0][0] / (array[0][1] + array[0][0]))"
   ]
  },
  {
   "cell_type": "code",
   "execution_count": 174,
   "metadata": {},
   "outputs": [
    {
     "name": "stdout",
     "output_type": "stream",
     "text": [
      "With 20% Holdout: 1.0\n",
      "Testing on Sample: 0.9973262032085561\n"
     ]
    }
   ],
   "source": [
    "# Test your model with different holdout groups.\n",
    "\n",
    "from sklearn.model_selection import train_test_split\n",
    "# Use train_test_split to create the necessary training and test groups\n",
    "X_train, X_test, y_train, y_test = train_test_split(data_4, target_4, test_size=0.1, random_state=20)\n",
    "print('With 20% Holdout: ' + str(bnb.fit(X_train, y_train).score(X_test, y_test)))\n",
    "print('Testing on Sample: ' + str(bnb.fit(data_4, target_4).score(data_4, target_4)))"
   ]
  },
  {
   "cell_type": "code",
   "execution_count": 175,
   "metadata": {},
   "outputs": [
    {
     "name": "stderr",
     "output_type": "stream",
     "text": [
      "/anaconda3/lib/python3.7/site-packages/sklearn/model_selection/_split.py:605: Warning: The least populated class in y has only 2 members, which is too few. The minimum number of members in any class cannot be less than n_splits=20.\n",
      "  % (min_groups, self.n_splits)), Warning)\n"
     ]
    },
    {
     "data": {
      "text/plain": [
       "array([0.97435897, 0.97435897, 1.        , 1.        , 1.        ,\n",
       "       1.        , 1.        , 1.        , 1.        , 1.        ,\n",
       "       1.        , 1.        , 1.        , 1.        , 1.        ,\n",
       "       1.        , 1.        , 1.        , 1.        , 1.        ])"
      ]
     },
     "execution_count": 175,
     "metadata": {},
     "output_type": "execute_result"
    }
   ],
   "source": [
    "from sklearn.model_selection import cross_val_score\n",
    "cross_val_score(bnb, data_4, target_4, cv=20)"
   ]
  },
  {
   "cell_type": "markdown",
   "metadata": {},
   "source": [
    "#### Classifier new version 5. Re-introducing \"positive\" terms (now sourced) and count to possibly better identify ham (positives)"
   ]
  },
  {
   "cell_type": "code",
   "execution_count": 181,
   "metadata": {},
   "outputs": [],
   "source": [
    "# Grab and process the raw data.\n",
    "training_text = ('imdb_labelled.txt')\n",
    "# training_text = ('amazon_cells_labelled.txt')\n",
    "text_raw_5 = pd.read_csv(training_text, delimiter= '\\t', header=None)\n",
    "text_raw_5.columns = ['message', 'negative']"
   ]
  },
  {
   "cell_type": "code",
   "execution_count": 182,
   "metadata": {},
   "outputs": [],
   "source": [
    "# Source (http://www.cs.uic.edu/~liub/FBS/sentiment-analysis.html)\n",
    "# Source (http://ptrckprry.com/course/ssd/data/negative-words.txt)\n",
    "# Source (http://ptrckprry.com/course/ssd/data/positive-words.txt)\n",
    "\n",
    "keywords_neg = open('keywords_neg.csv', 'r').read().split('\\n')\n",
    "\n",
    "keywords_pos = open('keywords_pos.csv', 'r').read().split('\\n')"
   ]
  },
  {
   "cell_type": "code",
   "execution_count": 183,
   "metadata": {},
   "outputs": [],
   "source": [
    "# Search and replacing regex (regular expressions)\n",
    "\n",
    "keywords_neg = [s.replace('*', '') for s in keywords_neg]"
   ]
  },
  {
   "cell_type": "code",
   "execution_count": 184,
   "metadata": {},
   "outputs": [],
   "source": [
    "for key in keywords_neg:\n",
    "    text_raw_5[str(key)] = text_raw_5.message.str.contains(\n",
    "        ' ' + str(key) + ' ',\n",
    "        case=False\n",
    "    )\n",
    "\n",
    "for key in keywords_pos:\n",
    "    text_raw_5[str(key)] = text_raw_5.message.str.contains(\n",
    "        ' ' + str(key) + ' ',\n",
    "        case=False\n",
    "    )"
   ]
  },
  {
   "cell_type": "code",
   "execution_count": 185,
   "metadata": {},
   "outputs": [],
   "source": [
    "text_raw_5['keywords_weight_neg'] = text_raw_5[keywords_neg].sum(axis=1)\n",
    "text_raw_5['keywords_weight_pos'] = text_raw_5[keywords_pos].sum(axis=1)"
   ]
  },
  {
   "cell_type": "code",
   "execution_count": 186,
   "metadata": {},
   "outputs": [],
   "source": [
    "text_raw_5['negative'] = (text_raw_5['negative'] == 1)"
   ]
  },
  {
   "cell_type": "code",
   "execution_count": 187,
   "metadata": {},
   "outputs": [],
   "source": [
    "data_5 = text_raw_5[keywords_neg + keywords_pos + ['keywords_weight_neg'] + ['keywords_weight_pos']]\n",
    "target_5 = text_raw_5['negative']"
   ]
  },
  {
   "cell_type": "code",
   "execution_count": 188,
   "metadata": {},
   "outputs": [
    {
     "name": "stdout",
     "output_type": "stream",
     "text": [
      "Number of mislabeled points out of a total 748 points : 2\n"
     ]
    }
   ],
   "source": [
    "# Our data is binary / boolean, so we're importing the Bernoulli classifier.\n",
    "from sklearn.naive_bayes import BernoulliNB\n",
    "\n",
    "# Instantiate our model and store it in a new variable.\n",
    "bnb = BernoulliNB()\n",
    "\n",
    "# Fit our model to the data.\n",
    "bnb.fit(data_5, target_5)\n",
    "\n",
    "# Classify, storing the result in a new variable.\n",
    "y_pred = bnb.predict(data_5)\n",
    "\n",
    "# Display our results.\n",
    "print(\"Number of mislabeled points out of a total {} points : {}\".format(\n",
    "    data_5.shape[0],\n",
    "    (target_5 != y_pred).sum()\n",
    "))"
   ]
  },
  {
   "cell_type": "code",
   "execution_count": 189,
   "metadata": {},
   "outputs": [
    {
     "name": "stdout",
     "output_type": "stream",
     "text": [
      "[[746   0]\n",
      " [  2   0]]\n"
     ]
    }
   ],
   "source": [
    "from sklearn.metrics import confusion_matrix\n",
    "array = confusion_matrix(target_5, y_pred)\n",
    "print(array)"
   ]
  },
  {
   "cell_type": "code",
   "execution_count": 190,
   "metadata": {},
   "outputs": [
    {
     "name": "stdout",
     "output_type": "stream",
     "text": [
      "0.0\n",
      "1.0\n"
     ]
    }
   ],
   "source": [
    "# (Type II) Mistakenly identified 2 messages as NOT NEGATIVE when they WERE NEGATIVE.\n",
    "\n",
    "# Sensitivity\n",
    "print(array[1][1] / (array[1][1] + array[1][0]))\n",
    "\n",
    "# Specificity\n",
    "print(array[0][0] / (array[0][1] + array[0][0]))"
   ]
  },
  {
   "cell_type": "code",
   "execution_count": 191,
   "metadata": {},
   "outputs": [
    {
     "name": "stdout",
     "output_type": "stream",
     "text": [
      "With 20% Holdout: 1.0\n",
      "Testing on Sample: 0.9973262032085561\n"
     ]
    }
   ],
   "source": [
    "# Test your model with different holdout groups.\n",
    "\n",
    "from sklearn.model_selection import train_test_split\n",
    "# Use train_test_split to create the necessary training and test groups\n",
    "X_train, X_test, y_train, y_test = train_test_split(data_5, target_5, test_size=0.1, random_state=20)\n",
    "print('With 20% Holdout: ' + str(bnb.fit(X_train, y_train).score(X_test, y_test)))\n",
    "print('Testing on Sample: ' + str(bnb.fit(data_5, target_5).score(data_5, target_5)))"
   ]
  },
  {
   "cell_type": "code",
   "execution_count": 192,
   "metadata": {},
   "outputs": [
    {
     "name": "stderr",
     "output_type": "stream",
     "text": [
      "/anaconda3/lib/python3.7/site-packages/sklearn/model_selection/_split.py:605: Warning: The least populated class in y has only 2 members, which is too few. The minimum number of members in any class cannot be less than n_splits=20.\n",
      "  % (min_groups, self.n_splits)), Warning)\n"
     ]
    },
    {
     "data": {
      "text/plain": [
       "array([0.97435897, 0.97435897, 1.        , 1.        , 1.        ,\n",
       "       1.        , 1.        , 1.        , 1.        , 1.        ,\n",
       "       1.        , 1.        , 1.        , 1.        , 1.        ,\n",
       "       1.        , 1.        , 1.        , 1.        , 1.        ])"
      ]
     },
     "execution_count": 192,
     "metadata": {},
     "output_type": "execute_result"
    }
   ],
   "source": [
    "from sklearn.model_selection import cross_val_score\n",
    "cross_val_score(bnb, data_5, target_5, cv=20)"
   ]
  },
  {
   "cell_type": "markdown",
   "metadata": {},
   "source": [
    "+ **Do any of your classifiers seem to overfit?**\n",
    "- **Which seem to perform the best? Why?**\n",
    "- **Which features seemed to be most impactful to performance?**"
   ]
  },
  {
   "cell_type": "markdown",
   "metadata": {},
   "source": [
    "Classifiers appeared to overfit when I searched the test data for negative and positive terms. Cross validation showed varying scores. Importing sourced sets of many keywords seemed to take care of that and made all the difference in Specificity but perhaps made model Sensitivity weaker. I'm still uncertain of how to ID those positives (ham)."
   ]
  }
 ],
 "metadata": {
  "kernelspec": {
   "display_name": "Python 3",
   "language": "python",
   "name": "python3"
  },
  "language_info": {
   "codemirror_mode": {
    "name": "ipython",
    "version": 3
   },
   "file_extension": ".py",
   "mimetype": "text/x-python",
   "name": "python",
   "nbconvert_exporter": "python",
   "pygments_lexer": "ipython3",
   "version": "3.7.0"
  }
 },
 "nbformat": 4,
 "nbformat_minor": 1
}
