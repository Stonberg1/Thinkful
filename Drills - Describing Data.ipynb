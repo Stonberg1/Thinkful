{
 "cells": [
  {
   "cell_type": "code",
   "execution_count": 1,
   "metadata": {
    "collapsed": true
   },
   "outputs": [],
   "source": [
    "import pandas as pd\n",
    "import numpy as np\n",
    "import statistics"
   ]
  },
  {
   "cell_type": "code",
   "execution_count": 2,
   "metadata": {
    "collapsed": false
   },
   "outputs": [
    {
     "name": "stdout",
     "output_type": "stream",
     "text": [
      "9.857142857142858 10 8\n",
      "7.476190476190475 2.734262327610589 1.0334540197243192\n"
     ]
    }
   ],
   "source": [
    "# 1. Do these drills by hand, then use the Python code\n",
    "\n",
    "# Greg 14\n",
    "# Marcia 12\n",
    "# Peter 11\n",
    "# Jan 10\n",
    "# Bobby 8\n",
    "# Cousin Oliver 8\n",
    "# Cindy 6\n",
    "\n",
    "# What are the mean, median, and mode of the kids' ages when they first appeared on the show?\n",
    "\n",
    "mean = (14 + 12 + 11 + 10 + 8 + 6 + 8) / 7\n",
    "median = 10\n",
    "mode = 8\n",
    "\n",
    "# What are the variance, standard deviation, and standard error?\n",
    "\n",
    "data_minus_mean = (14 - 9.857142857142858) ** 2 + (12 - 9.857142857142858) ** 2 + (11 - 9.857142857142858) ** 2 + (10 - 9.857142857142858) ** 2 + (8 - 9.857142857142858) ** 2 + (8 - 9.857142857142858) ** 2 + (6 - 9.857142857142858) ** 2\n",
    "\n",
    "variance = data_minus_mean / (7 - 1)\n",
    "standard_deviation = variance ** 0.5\n",
    "standard_error = standard_deviation / (7 ** 0.5)\n",
    "\n",
    "print(mean, median, mode)\n",
    "print(variance, standard_deviation, standard_error)"
   ]
  },
  {
   "cell_type": "code",
   "execution_count": 3,
   "metadata": {
    "collapsed": false
   },
   "outputs": [
    {
     "data": {
      "text/html": [
       "<div>\n",
       "<table border=\"1\" class=\"dataframe\">\n",
       "  <thead>\n",
       "    <tr style=\"text-align: right;\">\n",
       "      <th></th>\n",
       "      <th>age</th>\n",
       "    </tr>\n",
       "  </thead>\n",
       "  <tbody>\n",
       "    <tr>\n",
       "      <th>Greg</th>\n",
       "      <td>14</td>\n",
       "    </tr>\n",
       "    <tr>\n",
       "      <th>Marcia</th>\n",
       "      <td>12</td>\n",
       "    </tr>\n",
       "    <tr>\n",
       "      <th>Peter</th>\n",
       "      <td>11</td>\n",
       "    </tr>\n",
       "    <tr>\n",
       "      <th>Jan</th>\n",
       "      <td>10</td>\n",
       "    </tr>\n",
       "    <tr>\n",
       "      <th>Bobby</th>\n",
       "      <td>8</td>\n",
       "    </tr>\n",
       "    <tr>\n",
       "      <th>Cousin Oliver</th>\n",
       "      <td>8</td>\n",
       "    </tr>\n",
       "    <tr>\n",
       "      <th>Cindy</th>\n",
       "      <td>6</td>\n",
       "    </tr>\n",
       "  </tbody>\n",
       "</table>\n",
       "</div>"
      ],
      "text/plain": [
       "               age\n",
       "Greg            14\n",
       "Marcia          12\n",
       "Peter           11\n",
       "Jan             10\n",
       "Bobby            8\n",
       "Cousin Oliver    8\n",
       "Cindy            6"
      ]
     },
     "execution_count": 3,
     "metadata": {},
     "output_type": "execute_result"
    }
   ],
   "source": [
    "# Now with Python Code\n",
    "\n",
    "my_array = np.array([[14],\n",
    "                     [12],\n",
    "                     [11],\n",
    "                     [10],\n",
    "                     [8],\n",
    "                     [8],\n",
    "                     [6]])\n",
    "df = pd.DataFrame(my_array)\n",
    "df.columns = ['age']\n",
    "df.index = ['Greg','Marcia','Peter','Jan','Bobby','Cousin Oliver','Cindy']\n",
    "df"
   ]
  },
  {
   "cell_type": "code",
   "execution_count": 4,
   "metadata": {
    "collapsed": false
   },
   "outputs": [
    {
     "name": "stdout",
     "output_type": "stream",
     "text": [
      "9.857142857142858\n",
      "10.0\n",
      "8\n",
      "6.408163265306122\n",
      "2.734262327610589\n",
      "1.03345401972\n"
     ]
    }
   ],
   "source": [
    "print(np.mean(df['age']))\n",
    "print(np.median(df['age']))\n",
    "print(statistics.mode(df['age']))\n",
    "\n",
    "print((np.var(df.age)))\n",
    "print(np.std(df['age'], ddof=1))\n",
    "print((np.std(df['age'], ddof=1) / np.sqrt(len(df['age']))))"
   ]
  },
  {
   "cell_type": "code",
   "execution_count": 5,
   "metadata": {
    "collapsed": true
   },
   "outputs": [],
   "source": [
    "# 2. Choose only one estimate of central tendency and one estimate of variance to describe the data\n",
    "# which would you pick and why?\n",
    "\n",
    "# Central Tendency\n",
    "\n",
    "# If I had to choose only one measure of central tendency, I would choose the *mean*.\n",
    "# While the mean is sensitive to extreme values, we can see that there are not many outliers\n",
    "# and therefore the mean accurately represents the cluster of datapoints.\n",
    "\n",
    "# Variance\n",
    "\n",
    "# If I had to choose only one estimate of variance, I would choose the *standard deviation*.\n",
    "# Because there is little variance / the datapoints don't differ from eachother a whole lot,\n",
    "# the standard deviation is most informative.\n",
    "\n",
    "# The variance itself is a good indicator of how spread out the data is, but not very informative, \n",
    "# considering the data falls consistantly far from the mean (as indicated by the standard deviation).\n",
    "\n",
    "# There is no use for the standard error, because in this case, our sample is the entire population\n",
    "# and is therefore extremely precise. "
   ]
  },
  {
   "cell_type": "code",
   "execution_count": 6,
   "metadata": {
    "collapsed": false
   },
   "outputs": [
    {
     "data": {
      "text/html": [
       "<div>\n",
       "<table border=\"1\" class=\"dataframe\">\n",
       "  <thead>\n",
       "    <tr style=\"text-align: right;\">\n",
       "      <th></th>\n",
       "      <th>age</th>\n",
       "    </tr>\n",
       "  </thead>\n",
       "  <tbody>\n",
       "    <tr>\n",
       "      <th>Greg</th>\n",
       "      <td>14</td>\n",
       "    </tr>\n",
       "    <tr>\n",
       "      <th>Marcia</th>\n",
       "      <td>12</td>\n",
       "    </tr>\n",
       "    <tr>\n",
       "      <th>Peter</th>\n",
       "      <td>11</td>\n",
       "    </tr>\n",
       "    <tr>\n",
       "      <th>Jan</th>\n",
       "      <td>10</td>\n",
       "    </tr>\n",
       "    <tr>\n",
       "      <th>Bobby</th>\n",
       "      <td>8</td>\n",
       "    </tr>\n",
       "    <tr>\n",
       "      <th>Cousin Oliver</th>\n",
       "      <td>8</td>\n",
       "    </tr>\n",
       "    <tr>\n",
       "      <th>Cindy</th>\n",
       "      <td>7</td>\n",
       "    </tr>\n",
       "  </tbody>\n",
       "</table>\n",
       "</div>"
      ],
      "text/plain": [
       "               age\n",
       "Greg            14\n",
       "Marcia          12\n",
       "Peter           11\n",
       "Jan             10\n",
       "Bobby            8\n",
       "Cousin Oliver    8\n",
       "Cindy            7"
      ]
     },
     "execution_count": 6,
     "metadata": {},
     "output_type": "execute_result"
    }
   ],
   "source": [
    "# 3. Cindy has a birthday\n",
    "\n",
    "# Now with Python Code\n",
    "\n",
    "my_array = np.array([[14],\n",
    "                     [12],\n",
    "                     [11],\n",
    "                     [10],\n",
    "                     [8],\n",
    "                     [8],\n",
    "                     [7]])\n",
    "df = pd.DataFrame(my_array)\n",
    "df.columns = ['age']\n",
    "df.index = ['Greg','Marcia','Peter','Jan','Bobby','Cousin Oliver','Cindy']\n",
    "df"
   ]
  },
  {
   "cell_type": "code",
   "execution_count": 7,
   "metadata": {
    "collapsed": false
   },
   "outputs": [
    {
     "name": "stdout",
     "output_type": "stream",
     "text": [
      "10.0\n",
      "10.0\n",
      "8\n",
      "5.428571428571429\n",
      "2.516611478423583\n",
      "0.951189731211\n"
     ]
    }
   ],
   "source": [
    "print(np.mean(df['age']))\n",
    "print(np.median(df['age']))\n",
    "print(statistics.mode(df['age']))\n",
    "\n",
    "print((np.var(df.age)))\n",
    "print(np.std(df['age'], ddof=1))\n",
    "print((np.std(df['age'], ddof=1) / np.sqrt(len(df['age']))))"
   ]
  },
  {
   "cell_type": "code",
   "execution_count": 8,
   "metadata": {
    "collapsed": true
   },
   "outputs": [],
   "source": [
    "# What changed, and what didn't?\n",
    "\n",
    "# The things that have changed are:\n",
    "# The mean is slightly higher, but basically unchanged.\n",
    "# The variance is smaller because there is even less difference now amongst datapoints.\n",
    "# The standard deviation and standard errors are smaller because the datapoints are more consistantly different\n",
    "# whereas earlier, to have a datapoint be 3 numbers removed from its neighbor was of greater significance."
   ]
  },
  {
   "cell_type": "code",
   "execution_count": 9,
   "metadata": {
    "collapsed": false
   },
   "outputs": [
    {
     "data": {
      "text/html": [
       "<div>\n",
       "<table border=\"1\" class=\"dataframe\">\n",
       "  <thead>\n",
       "    <tr style=\"text-align: right;\">\n",
       "      <th></th>\n",
       "      <th>age</th>\n",
       "    </tr>\n",
       "  </thead>\n",
       "  <tbody>\n",
       "    <tr>\n",
       "      <th>Greg</th>\n",
       "      <td>14</td>\n",
       "    </tr>\n",
       "    <tr>\n",
       "      <th>Marcia</th>\n",
       "      <td>12</td>\n",
       "    </tr>\n",
       "    <tr>\n",
       "      <th>Peter</th>\n",
       "      <td>11</td>\n",
       "    </tr>\n",
       "    <tr>\n",
       "      <th>Jan</th>\n",
       "      <td>10</td>\n",
       "    </tr>\n",
       "    <tr>\n",
       "      <th>Bobby</th>\n",
       "      <td>8</td>\n",
       "    </tr>\n",
       "    <tr>\n",
       "      <th>Jessica</th>\n",
       "      <td>1</td>\n",
       "    </tr>\n",
       "    <tr>\n",
       "      <th>Cindy</th>\n",
       "      <td>7</td>\n",
       "    </tr>\n",
       "  </tbody>\n",
       "</table>\n",
       "</div>"
      ],
      "text/plain": [
       "         age\n",
       "Greg      14\n",
       "Marcia    12\n",
       "Peter     11\n",
       "Jan       10\n",
       "Bobby      8\n",
       "Jessica    1\n",
       "Cindy      7"
      ]
     },
     "execution_count": 9,
     "metadata": {},
     "output_type": "execute_result"
    }
   ],
   "source": [
    "# 4. Replace Cousin Oliver with 1-year-old Jessica, then recalculate again.\n",
    "# Does this change your choice of central tendency or variance estimation methods?\n",
    "\n",
    "my_array = np.array([[14],\n",
    "                     [12],\n",
    "                     [11],\n",
    "                     [10],\n",
    "                     [8],\n",
    "                     [1],\n",
    "                     [7]])\n",
    "df = pd.DataFrame(my_array)\n",
    "df.columns = ['age']\n",
    "df.index = ['Greg','Marcia','Peter','Jan','Bobby','Jessica','Cindy']\n",
    "df"
   ]
  },
  {
   "cell_type": "code",
   "execution_count": 10,
   "metadata": {
    "collapsed": false
   },
   "outputs": [
    {
     "name": "stdout",
     "output_type": "stream",
     "text": [
      "9.0\n",
      "10.0\n",
      "1\n",
      "15.428571428571429\n",
      "4.242640687119285\n",
      "1.60356745147\n"
     ]
    }
   ],
   "source": [
    "print(np.mean(df['age']))\n",
    "print(np.median(df['age']))\n",
    "\n",
    "(values, counts) = np.unique(df['age'], return_counts=True)\n",
    "ind = np.argmax(counts)\n",
    "print(values[ind])\n",
    "\n",
    "print((np.var(df.age)))\n",
    "print(np.std(df['age'], ddof=1))\n",
    "print((np.std(df['age'], ddof=1) / np.sqrt(len(df['age']))))"
   ]
  },
  {
   "cell_type": "code",
   "execution_count": 11,
   "metadata": {
    "collapsed": true
   },
   "outputs": [],
   "source": [
    "# This does change my choice of central tendency and variance estimation methods.\n",
    "\n",
    "# I would choose the median as an estimation of central tendancy rather than the mode.\n",
    "# because the mean has been too heavily influenced by Jessica's age, which is essentially an outlier,\n",
    "# and therefore does not truly represent the area where the datapoints cluster.\n",
    "\n",
    "# Also, the mode function initially returned an error.\n",
    "# The alternative function returned \"1\", which represents that value which has the max of counts.\n",
    "# All values have the same count - so the function returned the first value having 1 count, being \"1\".\n",
    "\n",
    "# I would change my choice of variance as an estimation method from standard deviation to variance.\n",
    "# The variance give a good indication of just how wide the range has become now that age 1 has\n",
    "# widened the range of the sample size to such a degree"
   ]
  },
  {
   "cell_type": "code",
   "execution_count": 12,
   "metadata": {
    "collapsed": false
   },
   "outputs": [
    {
     "data": {
      "text/html": [
       "<div>\n",
       "<table border=\"1\" class=\"dataframe\">\n",
       "  <thead>\n",
       "    <tr style=\"text-align: right;\">\n",
       "      <th></th>\n",
       "      <th>percent</th>\n",
       "    </tr>\n",
       "  </thead>\n",
       "  <tbody>\n",
       "    <tr>\n",
       "      <th>TV Guide</th>\n",
       "      <td>20</td>\n",
       "    </tr>\n",
       "    <tr>\n",
       "      <th>Entertainment Weekly</th>\n",
       "      <td>23</td>\n",
       "    </tr>\n",
       "    <tr>\n",
       "      <th>Pop Culture Today</th>\n",
       "      <td>17</td>\n",
       "    </tr>\n",
       "    <tr>\n",
       "      <th>SciPhi Phanatic</th>\n",
       "      <td>5</td>\n",
       "    </tr>\n",
       "  </tbody>\n",
       "</table>\n",
       "</div>"
      ],
      "text/plain": [
       "                      percent\n",
       "TV Guide                   20\n",
       "Entertainment Weekly       23\n",
       "Pop Culture Today          17\n",
       "SciPhi Phanatic             5"
      ]
     },
     "execution_count": 12,
     "metadata": {},
     "output_type": "execute_result"
    }
   ],
   "source": [
    "# 5. Four different magazines asked their readers whether they were fans of the show.\n",
    "\n",
    "my_array = np.array([[20],\n",
    "                     [23],\n",
    "                     [17],\n",
    "                     [5]])\n",
    "df = pd.DataFrame(my_array)\n",
    "df.columns = ['percent']\n",
    "df.index = ['TV Guide','Entertainment Weekly','Pop Culture Today','SciPhi Phanatic']\n",
    "df"
   ]
  },
  {
   "cell_type": "code",
   "execution_count": 13,
   "metadata": {
    "collapsed": false
   },
   "outputs": [
    {
     "name": "stdout",
     "output_type": "stream",
     "text": [
      "16.25\n",
      "18.5\n",
      "5\n",
      "46.6875\n",
      "7.88986691902975\n",
      "3.94493345951\n"
     ]
    }
   ],
   "source": [
    "# What percentage of adult Americans would you estimate were Brady Bunch fans on the 50th anniversary of the show?\n",
    "\n",
    "# If we can say that the sample size of all of the total unique readers of these magazines\n",
    "# is a large enough sample to represent the (statistical) population of the United States,\n",
    "# then we would need to describe this data and look at the numbers:\n",
    "\n",
    "print(np.mean(df['percent']))\n",
    "print(np.median(df['percent']))\n",
    "\n",
    "(values, counts) = np.unique(df['percent'], return_counts=True)\n",
    "ind = np.argmax(counts)\n",
    "print(values[ind])\n",
    "\n",
    "print((np.var(df.percent)))\n",
    "print(np.std(df['percent'], ddof=1))\n",
    "print((np.std(df['percent'], ddof=1) / np.sqrt(len(df['percent']))))"
   ]
  },
  {
   "cell_type": "code",
   "execution_count": null,
   "metadata": {
    "collapsed": true
   },
   "outputs": [],
   "source": [
    "# The large variance suggests to me that the mean is not a useful measurement as it is susceptable to outliers.\n",
    "# There aren't a lot of occurances of values, so the mode wouldn't make a lot of sense either.\n",
    "# I would trust the mean of %18.5 as an estimate of fans. The small sample size and the large variance, however\n",
    "# would not allow me to be confident that the central tendancy was a reliable representative of the population."
   ]
  }
 ],
 "metadata": {
  "kernelspec": {
   "display_name": "Python 3",
   "language": "python",
   "name": "python3"
  },
  "language_info": {
   "codemirror_mode": {
    "name": "ipython",
    "version": 3
   },
   "file_extension": ".py",
   "mimetype": "text/x-python",
   "name": "python",
   "nbconvert_exporter": "python",
   "pygments_lexer": "ipython3",
   "version": "3.5.2"
  }
 },
 "nbformat": 4,
 "nbformat_minor": 0
}
