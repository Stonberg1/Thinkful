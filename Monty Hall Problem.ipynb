{
 "cells": [
  {
   "cell_type": "code",
   "execution_count": 1,
   "metadata": {
    "collapsed": true
   },
   "outputs": [],
   "source": [
    "# BEFORE READING THE WIKI ARTICLE\n",
    "\n",
    "# P(A | B) = P(B | A) * P(A) / [P(A) * P(B | A) + P(A~) * P(B | A~)]\n",
    "\n",
    "# \"You pick a door. Then the host opens one of the other two doors to reveal a dud.\"\n",
    "# The host now gives you the opportunity to switch your door.\n",
    "\n",
    "# Your chances have gone from 0.33 to 0.5.\n",
    "# Whether you chose a car or not is not informed by the fact that a 'Dud' door was revealed.\n",
    "# Each action is independent \n",
    "\n",
    "# In other words - before the 'Dud' is revealed you have:\n",
    "# 0.33 = 0.33 * 0.33 / 0.33\n",
    "\n",
    "# Afterwards - \n",
    "# 0.5 = 0.5 * 0.5 / 0.5"
   ]
  },
  {
   "cell_type": "code",
   "execution_count": null,
   "metadata": {
    "collapsed": true
   },
   "outputs": [],
   "source": [
    "# AFTER READING THE WIKI ARTICLE / The Bayes section - \n",
    "\n",
    "# I hadn't considered the chances of the actions of the host.\n",
    "# I think if nothing else this is a lesson on understanding possible Bayes factors\n",
    "# and what possibly really affects the posterior of any problem."
   ]
  }
 ],
 "metadata": {
  "kernelspec": {
   "display_name": "Python 3",
   "language": "python",
   "name": "python3"
  },
  "language_info": {
   "codemirror_mode": {
    "name": "ipython",
    "version": 3
   },
   "file_extension": ".py",
   "mimetype": "text/x-python",
   "name": "python",
   "nbconvert_exporter": "python",
   "pygments_lexer": "ipython3",
   "version": "3.5.2"
  }
 },
 "nbformat": 4,
 "nbformat_minor": 0
}
