{
 "cells": [
  {
   "cell_type": "markdown",
   "metadata": {},
   "source": [
    "**Create a model to algorithmically predict if a review is positive or negative just based on its text.**\n",
    "- http://jmcauley.ucsd.edu/data/amazon/"
   ]
  },
  {
   "cell_type": "code",
   "execution_count": 1,
   "metadata": {},
   "outputs": [],
   "source": [
    "import gzip\n",
    "import numpy as np\n",
    "import pandas as pd\n",
    "import scipy\n",
    "import sklearn\n",
    "from sklearn.model_selection import train_test_split\n",
    "import matplotlib.pyplot as plt\n",
    "%matplotlib inline\n",
    "\n",
    "from collections import Counter\n",
    "import string\n",
    "import nltk\n",
    "from textblob import TextBlob\n",
    "import numpy as np"
   ]
  },
  {
   "cell_type": "markdown",
   "metadata": {},
   "source": [
    "# Importing Data"
   ]
  },
  {
   "cell_type": "code",
   "execution_count": 2,
   "metadata": {},
   "outputs": [],
   "source": [
    "# parsing from .zip files\n",
    "\n",
    "def parse(path):\n",
    "  g = gzip.open(path, 'rb')\n",
    "  for l in g:\n",
    "    yield eval(l)\n",
    "\n",
    "def getDF(path):\n",
    "  i = 0\n",
    "  df = {}\n",
    "  for d in parse(path):\n",
    "    df[i] = d\n",
    "    i += 1\n",
    "  return pd.DataFrame.from_dict(df, orient='index')"
   ]
  },
  {
   "cell_type": "code",
   "execution_count": 3,
   "metadata": {},
   "outputs": [
    {
     "data": {
      "text/html": [
       "<div>\n",
       "<style scoped>\n",
       "    .dataframe tbody tr th:only-of-type {\n",
       "        vertical-align: middle;\n",
       "    }\n",
       "\n",
       "    .dataframe tbody tr th {\n",
       "        vertical-align: top;\n",
       "    }\n",
       "\n",
       "    .dataframe thead th {\n",
       "        text-align: right;\n",
       "    }\n",
       "</style>\n",
       "<table border=\"1\" class=\"dataframe\">\n",
       "  <thead>\n",
       "    <tr style=\"text-align: right;\">\n",
       "      <th></th>\n",
       "      <th>reviewerID</th>\n",
       "      <th>asin</th>\n",
       "      <th>reviewerName</th>\n",
       "      <th>helpful</th>\n",
       "      <th>reviewText</th>\n",
       "      <th>overall</th>\n",
       "      <th>summary</th>\n",
       "      <th>unixReviewTime</th>\n",
       "      <th>reviewTime</th>\n",
       "    </tr>\n",
       "  </thead>\n",
       "  <tbody>\n",
       "    <tr>\n",
       "      <th>0</th>\n",
       "      <td>A1KLRMWW2FWPL4</td>\n",
       "      <td>0000031887</td>\n",
       "      <td>Amazon Customer \"cameramom\"</td>\n",
       "      <td>[0, 0]</td>\n",
       "      <td>This is a great tutu and at a really great pri...</td>\n",
       "      <td>5.0</td>\n",
       "      <td>Great tutu-  not cheaply made</td>\n",
       "      <td>1297468800</td>\n",
       "      <td>02 12, 2011</td>\n",
       "    </tr>\n",
       "    <tr>\n",
       "      <th>1</th>\n",
       "      <td>A2G5TCU2WDFZ65</td>\n",
       "      <td>0000031887</td>\n",
       "      <td>Amazon Customer</td>\n",
       "      <td>[0, 0]</td>\n",
       "      <td>I bought this for my 4 yr old daughter for dan...</td>\n",
       "      <td>5.0</td>\n",
       "      <td>Very Cute!!</td>\n",
       "      <td>1358553600</td>\n",
       "      <td>01 19, 2013</td>\n",
       "    </tr>\n",
       "    <tr>\n",
       "      <th>2</th>\n",
       "      <td>A1RLQXYNCMWRWN</td>\n",
       "      <td>0000031887</td>\n",
       "      <td>Carola</td>\n",
       "      <td>[0, 0]</td>\n",
       "      <td>What can I say... my daughters have it in oran...</td>\n",
       "      <td>5.0</td>\n",
       "      <td>I have buy more than one</td>\n",
       "      <td>1357257600</td>\n",
       "      <td>01 4, 2013</td>\n",
       "    </tr>\n",
       "    <tr>\n",
       "      <th>3</th>\n",
       "      <td>A8U3FAMSJVHS5</td>\n",
       "      <td>0000031887</td>\n",
       "      <td>Caromcg</td>\n",
       "      <td>[0, 0]</td>\n",
       "      <td>We bought several tutus at once, and they are ...</td>\n",
       "      <td>5.0</td>\n",
       "      <td>Adorable, Sturdy</td>\n",
       "      <td>1398556800</td>\n",
       "      <td>04 27, 2014</td>\n",
       "    </tr>\n",
       "    <tr>\n",
       "      <th>4</th>\n",
       "      <td>A3GEOILWLK86XM</td>\n",
       "      <td>0000031887</td>\n",
       "      <td>CJ</td>\n",
       "      <td>[0, 0]</td>\n",
       "      <td>Thank you Halo Heaven great product for Little...</td>\n",
       "      <td>5.0</td>\n",
       "      <td>Grammy's Angels Love it</td>\n",
       "      <td>1394841600</td>\n",
       "      <td>03 15, 2014</td>\n",
       "    </tr>\n",
       "  </tbody>\n",
       "</table>\n",
       "</div>"
      ],
      "text/plain": [
       "       reviewerID        asin                 reviewerName helpful  \\\n",
       "0  A1KLRMWW2FWPL4  0000031887  Amazon Customer \"cameramom\"  [0, 0]   \n",
       "1  A2G5TCU2WDFZ65  0000031887              Amazon Customer  [0, 0]   \n",
       "2  A1RLQXYNCMWRWN  0000031887                       Carola  [0, 0]   \n",
       "3   A8U3FAMSJVHS5  0000031887                      Caromcg  [0, 0]   \n",
       "4  A3GEOILWLK86XM  0000031887                           CJ  [0, 0]   \n",
       "\n",
       "                                          reviewText  overall  \\\n",
       "0  This is a great tutu and at a really great pri...      5.0   \n",
       "1  I bought this for my 4 yr old daughter for dan...      5.0   \n",
       "2  What can I say... my daughters have it in oran...      5.0   \n",
       "3  We bought several tutus at once, and they are ...      5.0   \n",
       "4  Thank you Halo Heaven great product for Little...      5.0   \n",
       "\n",
       "                         summary  unixReviewTime   reviewTime  \n",
       "0  Great tutu-  not cheaply made      1297468800  02 12, 2011  \n",
       "1                    Very Cute!!      1358553600  01 19, 2013  \n",
       "2       I have buy more than one      1357257600   01 4, 2013  \n",
       "3               Adorable, Sturdy      1398556800  04 27, 2014  \n",
       "4        Grammy's Angels Love it      1394841600  03 15, 2014  "
      ]
     },
     "execution_count": 3,
     "metadata": {},
     "output_type": "execute_result"
    }
   ],
   "source": [
    "df = getDF('datasets/reviews_Clothing_Shoes_and_Jewelry_5.json.gz')\n",
    "df.head()"
   ]
  },
  {
   "cell_type": "markdown",
   "metadata": {},
   "source": [
    "**Reviewing the data**"
   ]
  },
  {
   "cell_type": "code",
   "execution_count": 4,
   "metadata": {},
   "outputs": [
    {
     "data": {
      "text/plain": [
       "(278677, 9)"
      ]
     },
     "execution_count": 4,
     "metadata": {},
     "output_type": "execute_result"
    }
   ],
   "source": [
    "df.shape"
   ]
  },
  {
   "cell_type": "code",
   "execution_count": 5,
   "metadata": {},
   "outputs": [
    {
     "data": {
      "text/plain": [
       "reviewerID          0\n",
       "asin                0\n",
       "reviewerName      452\n",
       "helpful             0\n",
       "reviewText          0\n",
       "overall             0\n",
       "summary             0\n",
       "unixReviewTime      0\n",
       "reviewTime          0\n",
       "dtype: int64"
      ]
     },
     "execution_count": 5,
     "metadata": {},
     "output_type": "execute_result"
    }
   ],
   "source": [
    "df.isnull().sum()"
   ]
  },
  {
   "cell_type": "code",
   "execution_count": 6,
   "metadata": {},
   "outputs": [
    {
     "data": {
      "text/plain": [
       "<matplotlib.axes._subplots.AxesSubplot at 0x111032e48>"
      ]
     },
     "execution_count": 6,
     "metadata": {},
     "output_type": "execute_result"
    },
    {
     "data": {
      "image/png": "[encoded data removed]",
      "text/plain": [
       "<Figure size 432x288 with 1 Axes>"
      ]
     },
     "metadata": {
      "needs_background": "light"
     },
     "output_type": "display_data"
    }
   ],
   "source": [
    "df.overall.hist()"
   ]
  },
  {
   "cell_type": "code",
   "execution_count": 7,
   "metadata": {},
   "outputs": [
    {
     "data": {
      "text/plain": [
       "5.0    163240\n",
       "4.0     58357\n",
       "3.0     30425\n",
       "2.0     15463\n",
       "1.0     11192\n",
       "Name: overall, dtype: int64"
      ]
     },
     "execution_count": 7,
     "metadata": {},
     "output_type": "execute_result"
    }
   ],
   "source": [
    "# Describing target data\n",
    "\n",
    "df['overall'].value_counts()"
   ]
  },
  {
   "cell_type": "markdown",
   "metadata": {},
   "source": [
    "**Creating feature set with randomized data subset for computational workload reduction**"
   ]
  },
  {
   "cell_type": "code",
   "execution_count": 8,
   "metadata": {},
   "outputs": [],
   "source": [
    "df = df.sample(frac=0.25)\n",
    "features = df[['reviewerID', 'reviewText', 'summary', 'overall']]"
   ]
  },
  {
   "cell_type": "code",
   "execution_count": 9,
   "metadata": {},
   "outputs": [
    {
     "data": {
      "text/html": [
       "<div>\n",
       "<style scoped>\n",
       "    .dataframe tbody tr th:only-of-type {\n",
       "        vertical-align: middle;\n",
       "    }\n",
       "\n",
       "    .dataframe tbody tr th {\n",
       "        vertical-align: top;\n",
       "    }\n",
       "\n",
       "    .dataframe thead th {\n",
       "        text-align: right;\n",
       "    }\n",
       "</style>\n",
       "<table border=\"1\" class=\"dataframe\">\n",
       "  <thead>\n",
       "    <tr style=\"text-align: right;\">\n",
       "      <th></th>\n",
       "      <th>reviewerID</th>\n",
       "      <th>reviewText</th>\n",
       "      <th>summary</th>\n",
       "      <th>overall</th>\n",
       "    </tr>\n",
       "  </thead>\n",
       "  <tbody>\n",
       "    <tr>\n",
       "      <th>134605</th>\n",
       "      <td>A2NDA5EJ22W4B</td>\n",
       "      <td>These arrived quickly and looked just like the...</td>\n",
       "      <td>Looks just like the picture</td>\n",
       "      <td>2.0</td>\n",
       "    </tr>\n",
       "    <tr>\n",
       "      <th>265513</th>\n",
       "      <td>A19HJ0A46JBRWH</td>\n",
       "      <td>They are warm, tight fit, ship quickly, no sho...</td>\n",
       "      <td>Perfect leggings</td>\n",
       "      <td>5.0</td>\n",
       "    </tr>\n",
       "    <tr>\n",
       "      <th>273203</th>\n",
       "      <td>A2YP323KXIBPQ9</td>\n",
       "      <td>I bought this shirt to sleep in.  Looking at t...</td>\n",
       "      <td>Not as long as in pic</td>\n",
       "      <td>2.0</td>\n",
       "    </tr>\n",
       "    <tr>\n",
       "      <th>33995</th>\n",
       "      <td>A1Z13WY11V4SQ</td>\n",
       "      <td>I live in NH and walk my dogs in the wind and ...</td>\n",
       "      <td>Very Useful</td>\n",
       "      <td>5.0</td>\n",
       "    </tr>\n",
       "    <tr>\n",
       "      <th>233966</th>\n",
       "      <td>A2VWASAGNCY16L</td>\n",
       "      <td>A better universal fit for the non model body ...</td>\n",
       "      <td>Nice cut and fit</td>\n",
       "      <td>4.0</td>\n",
       "    </tr>\n",
       "  </tbody>\n",
       "</table>\n",
       "</div>"
      ],
      "text/plain": [
       "            reviewerID                                         reviewText  \\\n",
       "134605   A2NDA5EJ22W4B  These arrived quickly and looked just like the...   \n",
       "265513  A19HJ0A46JBRWH  They are warm, tight fit, ship quickly, no sho...   \n",
       "273203  A2YP323KXIBPQ9  I bought this shirt to sleep in.  Looking at t...   \n",
       "33995    A1Z13WY11V4SQ  I live in NH and walk my dogs in the wind and ...   \n",
       "233966  A2VWASAGNCY16L  A better universal fit for the non model body ...   \n",
       "\n",
       "                            summary  overall  \n",
       "134605  Looks just like the picture      2.0  \n",
       "265513             Perfect leggings      5.0  \n",
       "273203        Not as long as in pic      2.0  \n",
       "33995                   Very Useful      5.0  \n",
       "233966             Nice cut and fit      4.0  "
      ]
     },
     "execution_count": 9,
     "metadata": {},
     "output_type": "execute_result"
    }
   ],
   "source": [
    "features.head()"
   ]
  },
  {
   "cell_type": "code",
   "execution_count": 10,
   "metadata": {},
   "outputs": [
    {
     "data": {
      "text/plain": [
       "reviewerID         object\n",
       "asin               object\n",
       "reviewerName       object\n",
       "helpful            object\n",
       "reviewText         object\n",
       "overall           float64\n",
       "summary            object\n",
       "unixReviewTime      int64\n",
       "reviewTime         object\n",
       "dtype: object"
      ]
     },
     "execution_count": 10,
     "metadata": {},
     "output_type": "execute_result"
    }
   ],
   "source": [
    "df.dtypes"
   ]
  },
  {
   "cell_type": "markdown",
   "metadata": {},
   "source": [
    "# Sentiment Ratings"
   ]
  },
  {
   "cell_type": "code",
   "execution_count": 11,
   "metadata": {},
   "outputs": [
    {
     "name": "stderr",
     "output_type": "stream",
     "text": [
      "/anaconda3/lib/python3.6/site-packages/ipykernel_launcher.py:11: SettingWithCopyWarning: \n",
      "A value is trying to be set on a copy of a slice from a DataFrame.\n",
      "Try using .loc[row_indexer,col_indexer] = value instead\n",
      "\n",
      "See the caveats in the documentation: http://pandas.pydata.org/pandas-docs/stable/indexing.html#indexing-view-versus-copy\n",
      "  # This is added back by InteractiveShellApp.init_path()\n",
      "/anaconda3/lib/python3.6/site-packages/ipykernel_launcher.py:21: SettingWithCopyWarning: \n",
      "A value is trying to be set on a copy of a slice from a DataFrame.\n",
      "Try using .loc[row_indexer,col_indexer] = value instead\n",
      "\n",
      "See the caveats in the documentation: http://pandas.pydata.org/pandas-docs/stable/indexing.html#indexing-view-versus-copy\n"
     ]
    }
   ],
   "source": [
    "# --sentiment--\n",
    "\n",
    "# reviewText sentiment\n",
    "\n",
    "reviewText_sentiment_list = list(features['reviewText'])\n",
    "reviewText_sentiment_column = []\n",
    "\n",
    "for i in reviewText_sentiment_list:\n",
    "    reviewText_sentiment_column.append(TextBlob(i).sentiment.polarity)\n",
    "    \n",
    "features['reviewText_sentiment'] = reviewText_sentiment_column\n",
    "\n",
    "# summary sentiment\n",
    "\n",
    "summary_sentiment_list = list(features['summary'])\n",
    "summary_sentiment_column = []\n",
    "\n",
    "for j in summary_sentiment_list:\n",
    "    summary_sentiment_column.append(TextBlob(j).sentiment.polarity)\n",
    "    \n",
    "features['summary_sentiment'] = summary_sentiment_column"
   ]
  },
  {
   "cell_type": "markdown",
   "metadata": {},
   "source": [
    "# Term Counts"
   ]
  },
  {
   "cell_type": "markdown",
   "metadata": {},
   "source": [
    "**Importing positive and negative lists**"
   ]
  },
  {
   "cell_type": "code",
   "execution_count": 12,
   "metadata": {},
   "outputs": [],
   "source": [
    "positive_terms = pd.read_csv('datasets/keywords_pos.csv', header=None)\n",
    "negative_terms = pd.read_csv('datasets/keywords_neg.csv', header=None)"
   ]
  },
  {
   "cell_type": "code",
   "execution_count": 13,
   "metadata": {},
   "outputs": [
    {
     "data": {
      "text/plain": [
       "0       2-faced\n",
       "1       2-faces\n",
       "2      abnormal\n",
       "3       abolish\n",
       "4    abominable\n",
       "Name: 0, dtype: object"
      ]
     },
     "execution_count": 13,
     "metadata": {},
     "output_type": "execute_result"
    }
   ],
   "source": [
    "negative_terms[0].head()"
   ]
  },
  {
   "cell_type": "code",
   "execution_count": 14,
   "metadata": {},
   "outputs": [],
   "source": [
    "positive_terms = positive_terms[0].tolist()\n",
    "negative_terms = negative_terms[0].tolist()"
   ]
  },
  {
   "cell_type": "markdown",
   "metadata": {},
   "source": [
    "**Preparing text for term count**"
   ]
  },
  {
   "cell_type": "code",
   "execution_count": 15,
   "metadata": {},
   "outputs": [],
   "source": [
    "# Columns to lowercase strings\n",
    "\n",
    "all_review_text = features['reviewText'].str.lower()\n",
    "all_summary_text = features['summary'].str.lower()\n",
    "\n",
    "# Strings to arrays\n",
    "\n",
    "all_review_text = all_review_text.tolist()\n",
    "all_summary_text = all_summary_text.tolist()\n",
    "\n",
    "# Tokenizing\n",
    "\n",
    "all_review_text_break = [nltk.tokenize.wordpunct_tokenize(text) for text in all_review_text]\n",
    "all_summary_text_break = [nltk.tokenize.wordpunct_tokenize(text) for text in all_summary_text]"
   ]
  },
  {
   "cell_type": "code",
   "execution_count": 16,
   "metadata": {},
   "outputs": [],
   "source": [
    "# Flatten the list of lists from dataframe\n",
    "\n",
    "all_review_text_break = [item for sublist in all_review_text_break for item in sublist]\n",
    "all_summary_text_break = [item for sublist in all_summary_text_break for item in sublist]"
   ]
  },
  {
   "cell_type": "code",
   "execution_count": 17,
   "metadata": {},
   "outputs": [
    {
     "data": {
      "text/plain": [
       "[',', 'and', 'make', 'my', 'legs', 'look']"
      ]
     },
     "execution_count": 17,
     "metadata": {},
     "output_type": "execute_result"
    }
   ],
   "source": [
    "all_review_text_break[40:46]"
   ]
  },
  {
   "cell_type": "code",
   "execution_count": 18,
   "metadata": {},
   "outputs": [],
   "source": [
    "stopwords = nltk.corpus.stopwords.words('english')\n",
    "\n",
    "# reviewText\n",
    "\n",
    "all_review_text_clean = []\n",
    "\n",
    "for w in all_review_text_break:\n",
    "    if w not in stopwords:\n",
    "        all_review_text_clean.append(w)\n",
    "        \n",
    "# summary text\n",
    "    \n",
    "all_summary_text_clean = []\n",
    "\n",
    "for w in all_summary_text_break:\n",
    "    if w not in stopwords:\n",
    "        all_summary_text_clean.append(w)"
   ]
  },
  {
   "cell_type": "code",
   "execution_count": 19,
   "metadata": {},
   "outputs": [
    {
     "data": {
      "text/plain": [
       "['pic', ',', 'looks', 'extra', 'long', '.']"
      ]
     },
     "execution_count": 19,
     "metadata": {},
     "output_type": "execute_result"
    }
   ],
   "source": [
    "all_review_text_clean[40:46]"
   ]
  },
  {
   "cell_type": "markdown",
   "metadata": {},
   "source": [
    "**Counting words**"
   ]
  },
  {
   "cell_type": "code",
   "execution_count": 20,
   "metadata": {},
   "outputs": [],
   "source": [
    "# Function that counts the number of times each word appeared in the sentiment lists\n",
    "\n",
    "# reviewText\n",
    "\n",
    "most_common_reviewText_pos = {}\n",
    "\n",
    "for i in positive_terms:\n",
    "    most_common_reviewText_pos[i] = all_review_text_clean.count(i)\n",
    "\n",
    "most_common_reviewText_neg = {}\n",
    "\n",
    "for j in negative_terms:\n",
    "    most_common_reviewText_neg[j] = all_review_text_clean.count(j)\n",
    "    \n",
    "# summary text\n",
    "\n",
    "most_common_summary_pos = {}\n",
    "\n",
    "for i in positive_terms:\n",
    "    most_common_summary_pos[i] = all_summary_text_clean.count(i)\n",
    "\n",
    "most_common_summary_neg = {}\n",
    "\n",
    "for j in negative_terms:\n",
    "    most_common_summary_neg[j] = all_summary_text_clean.count(j)"
   ]
  },
  {
   "cell_type": "code",
   "execution_count": 21,
   "metadata": {},
   "outputs": [],
   "source": [
    "# Slicing the top 10 most counted terms in the reviewText and summary\n",
    "\n",
    "# reviewText\n",
    "\n",
    "pos = Counter(most_common_reviewText_pos)\n",
    "pos.most_common()\n",
    "\n",
    "pos_reviewText_list = []\n",
    "\n",
    "for k, v in pos.most_common(10):\n",
    "    pos_reviewText_list.append(k)\n",
    "\n",
    "neg_reviewText_list = []\n",
    "\n",
    "neg = Counter(most_common_reviewText_neg)\n",
    "neg.most_common()\n",
    "\n",
    "for k, v in neg.most_common(10):\n",
    "    neg_reviewText_list.append(k) \n",
    "    \n",
    "# summary text\n",
    "\n",
    "pos = Counter(most_common_summary_pos)\n",
    "pos.most_common()\n",
    "\n",
    "pos_summary_list = []\n",
    "\n",
    "for k, v in pos.most_common(10):\n",
    "    pos_summary_list.append(k)\n",
    "\n",
    "neg_summary_list = []\n",
    "\n",
    "neg = Counter(most_common_summary_neg)\n",
    "neg.most_common()\n",
    "\n",
    "for k, v in neg.most_common(10):\n",
    "    neg_summary_list.append(k) "
   ]
  },
  {
   "cell_type": "code",
   "execution_count": 22,
   "metadata": {},
   "outputs": [
    {
     "data": {
      "text/plain": [
       "['like',\n",
       " 'great',\n",
       " 'good',\n",
       " 'well',\n",
       " 'love',\n",
       " 'comfortable',\n",
       " 'nice',\n",
       " 'perfect',\n",
       " 'recommend',\n",
       " 'work']"
      ]
     },
     "execution_count": 22,
     "metadata": {},
     "output_type": "execute_result"
    }
   ],
   "source": [
    "pos_reviewText_list"
   ]
  },
  {
   "cell_type": "code",
   "execution_count": 23,
   "metadata": {},
   "outputs": [
    {
     "name": "stderr",
     "output_type": "stream",
     "text": [
      "/anaconda3/lib/python3.6/site-packages/ipykernel_launcher.py:3: SettingWithCopyWarning: \n",
      "A value is trying to be set on a copy of a slice from a DataFrame.\n",
      "Try using .loc[row_indexer,col_indexer] = value instead\n",
      "\n",
      "See the caveats in the documentation: http://pandas.pydata.org/pandas-docs/stable/indexing.html#indexing-view-versus-copy\n",
      "  This is separate from the ipykernel package so we can avoid doing imports until\n",
      "/anaconda3/lib/python3.6/site-packages/ipykernel_launcher.py:4: SettingWithCopyWarning: \n",
      "A value is trying to be set on a copy of a slice from a DataFrame.\n",
      "Try using .loc[row_indexer,col_indexer] = value instead\n",
      "\n",
      "See the caveats in the documentation: http://pandas.pydata.org/pandas-docs/stable/indexing.html#indexing-view-versus-copy\n",
      "  after removing the cwd from sys.path.\n"
     ]
    }
   ],
   "source": [
    "# Creating columns of formerly cleaned data to search for words in each record and create a term count feature\n",
    "\n",
    "features['reviewText'] = [nltk.tokenize.wordpunct_tokenize(text) for text in all_review_text]\n",
    "features['summary'] = [nltk.tokenize.wordpunct_tokenize(text) for text in all_summary_text]"
   ]
  },
  {
   "cell_type": "code",
   "execution_count": 24,
   "metadata": {},
   "outputs": [
    {
     "data": {
      "text/html": [
       "<div>\n",
       "<style scoped>\n",
       "    .dataframe tbody tr th:only-of-type {\n",
       "        vertical-align: middle;\n",
       "    }\n",
       "\n",
       "    .dataframe tbody tr th {\n",
       "        vertical-align: top;\n",
       "    }\n",
       "\n",
       "    .dataframe thead th {\n",
       "        text-align: right;\n",
       "    }\n",
       "</style>\n",
       "<table border=\"1\" class=\"dataframe\">\n",
       "  <thead>\n",
       "    <tr style=\"text-align: right;\">\n",
       "      <th></th>\n",
       "      <th>reviewerID</th>\n",
       "      <th>reviewText</th>\n",
       "      <th>summary</th>\n",
       "      <th>overall</th>\n",
       "      <th>reviewText_sentiment</th>\n",
       "      <th>summary_sentiment</th>\n",
       "    </tr>\n",
       "  </thead>\n",
       "  <tbody>\n",
       "    <tr>\n",
       "      <th>134605</th>\n",
       "      <td>A2NDA5EJ22W4B</td>\n",
       "      <td>[these, arrived, quickly, and, looked, just, l...</td>\n",
       "      <td>[looks, just, like, the, picture]</td>\n",
       "      <td>2.0</td>\n",
       "      <td>-0.003333</td>\n",
       "      <td>0.00</td>\n",
       "    </tr>\n",
       "    <tr>\n",
       "      <th>265513</th>\n",
       "      <td>A19HJ0A46JBRWH</td>\n",
       "      <td>[they, are, warm, ,, tight, fit, ,, ship, quic...</td>\n",
       "      <td>[perfect, leggings]</td>\n",
       "      <td>5.0</td>\n",
       "      <td>0.309127</td>\n",
       "      <td>1.00</td>\n",
       "    </tr>\n",
       "    <tr>\n",
       "      <th>273203</th>\n",
       "      <td>A2YP323KXIBPQ9</td>\n",
       "      <td>[i, bought, this, shirt, to, sleep, in, ., loo...</td>\n",
       "      <td>[not, as, long, as, in, pic]</td>\n",
       "      <td>2.0</td>\n",
       "      <td>-0.074444</td>\n",
       "      <td>-0.05</td>\n",
       "    </tr>\n",
       "    <tr>\n",
       "      <th>33995</th>\n",
       "      <td>A1Z13WY11V4SQ</td>\n",
       "      <td>[i, live, in, nh, and, walk, my, dogs, in, the...</td>\n",
       "      <td>[very, useful]</td>\n",
       "      <td>5.0</td>\n",
       "      <td>0.090130</td>\n",
       "      <td>0.39</td>\n",
       "    </tr>\n",
       "    <tr>\n",
       "      <th>233966</th>\n",
       "      <td>A2VWASAGNCY16L</td>\n",
       "      <td>[a, better, universal, fit, for, the, non, mod...</td>\n",
       "      <td>[nice, cut, and, fit]</td>\n",
       "      <td>4.0</td>\n",
       "      <td>0.375000</td>\n",
       "      <td>0.50</td>\n",
       "    </tr>\n",
       "  </tbody>\n",
       "</table>\n",
       "</div>"
      ],
      "text/plain": [
       "            reviewerID                                         reviewText  \\\n",
       "134605   A2NDA5EJ22W4B  [these, arrived, quickly, and, looked, just, l...   \n",
       "265513  A19HJ0A46JBRWH  [they, are, warm, ,, tight, fit, ,, ship, quic...   \n",
       "273203  A2YP323KXIBPQ9  [i, bought, this, shirt, to, sleep, in, ., loo...   \n",
       "33995    A1Z13WY11V4SQ  [i, live, in, nh, and, walk, my, dogs, in, the...   \n",
       "233966  A2VWASAGNCY16L  [a, better, universal, fit, for, the, non, mod...   \n",
       "\n",
       "                                  summary  overall  reviewText_sentiment  \\\n",
       "134605  [looks, just, like, the, picture]      2.0             -0.003333   \n",
       "265513                [perfect, leggings]      5.0              0.309127   \n",
       "273203       [not, as, long, as, in, pic]      2.0             -0.074444   \n",
       "33995                      [very, useful]      5.0              0.090130   \n",
       "233966              [nice, cut, and, fit]      4.0              0.375000   \n",
       "\n",
       "        summary_sentiment  \n",
       "134605               0.00  \n",
       "265513               1.00  \n",
       "273203              -0.05  \n",
       "33995                0.39  \n",
       "233966               0.50  "
      ]
     },
     "execution_count": 24,
     "metadata": {},
     "output_type": "execute_result"
    }
   ],
   "source": [
    "features.head()"
   ]
  },
  {
   "cell_type": "markdown",
   "metadata": {},
   "source": [
    "**Creating columns with word counts**"
   ]
  },
  {
   "cell_type": "code",
   "execution_count": 25,
   "metadata": {},
   "outputs": [
    {
     "name": "stderr",
     "output_type": "stream",
     "text": [
      "/anaconda3/lib/python3.6/site-packages/ipykernel_launcher.py:9: SettingWithCopyWarning: \n",
      "A value is trying to be set on a copy of a slice from a DataFrame.\n",
      "Try using .loc[row_indexer,col_indexer] = value instead\n",
      "\n",
      "See the caveats in the documentation: http://pandas.pydata.org/pandas-docs/stable/indexing.html#indexing-view-versus-copy\n",
      "  if __name__ == '__main__':\n",
      "/anaconda3/lib/python3.6/site-packages/ipykernel_launcher.py:10: SettingWithCopyWarning: \n",
      "A value is trying to be set on a copy of a slice from a DataFrame.\n",
      "Try using .loc[row_indexer,col_indexer] = value instead\n",
      "\n",
      "See the caveats in the documentation: http://pandas.pydata.org/pandas-docs/stable/indexing.html#indexing-view-versus-copy\n",
      "  # Remove the CWD from sys.path while we load stuff.\n"
     ]
    }
   ],
   "source": [
    "def count_words(word_list,column):\n",
    "    new_column = 0\n",
    "    for word in word_list:\n",
    "        new_column = column.apply(lambda x: x.count(word))\n",
    "    return new_column\n",
    "\n",
    "# reviewText\n",
    "\n",
    "features['pos_reviewText_count'] = count_words(pos_reviewText_list,features['reviewText'])\n",
    "features['neg_reviewText_count'] = count_words(neg_reviewText_list, features['reviewText'])\n",
    "\n",
    "# summary\n",
    "\n",
    "features['pos_summary_count'] = count_words(pos_summary_list, features['summary'])\n",
    "features['neg_summary_count'] = count_words(neg_summary_list, features['summary'])"
   ]
  },
  {
   "cell_type": "code",
   "execution_count": 26,
   "metadata": {},
   "outputs": [],
   "source": [
    "# Separating negative sentiment from positive and averaging term count across all text for context\n",
    "\n",
    "# reviewText\n",
    "\n",
    "features['pos_reviewText_count'] = features['pos_reviewText_count'] / features['pos_reviewText_count'].sum()\n",
    "features['neg_reviewText_count'] = features['neg_reviewText_count'] * -1 / features['neg_reviewText_count'].sum()\n",
    "\n",
    "# summary\n",
    "\n",
    "features['pos_summary_count'] = features['pos_summary_count'] / features['pos_summary_count'].sum()\n",
    "features['neg_summary_count'] = features['neg_summary_count'] * -1 / features['neg_summary_count'].sum()"
   ]
  },
  {
   "cell_type": "code",
   "execution_count": 27,
   "metadata": {},
   "outputs": [
    {
     "data": {
      "text/html": [
       "<div>\n",
       "<style scoped>\n",
       "    .dataframe tbody tr th:only-of-type {\n",
       "        vertical-align: middle;\n",
       "    }\n",
       "\n",
       "    .dataframe tbody tr th {\n",
       "        vertical-align: top;\n",
       "    }\n",
       "\n",
       "    .dataframe thead th {\n",
       "        text-align: right;\n",
       "    }\n",
       "</style>\n",
       "<table border=\"1\" class=\"dataframe\">\n",
       "  <thead>\n",
       "    <tr style=\"text-align: right;\">\n",
       "      <th></th>\n",
       "      <th>reviewerID</th>\n",
       "      <th>reviewText</th>\n",
       "      <th>summary</th>\n",
       "      <th>overall</th>\n",
       "      <th>reviewText_sentiment</th>\n",
       "      <th>summary_sentiment</th>\n",
       "      <th>pos_reviewText_count</th>\n",
       "      <th>neg_reviewText_count</th>\n",
       "      <th>pos_summary_count</th>\n",
       "      <th>neg_summary_count</th>\n",
       "    </tr>\n",
       "  </thead>\n",
       "  <tbody>\n",
       "    <tr>\n",
       "      <th>87727</th>\n",
       "      <td>A1H4R7TY2G50DH</td>\n",
       "      <td>[i, paid, $, 9, ., 45everything, works, and, e...</td>\n",
       "      <td>[good, for, price]</td>\n",
       "      <td>5.0</td>\n",
       "      <td>0.175901</td>\n",
       "      <td>0.700000</td>\n",
       "      <td>0.001046</td>\n",
       "      <td>0.00000</td>\n",
       "      <td>0.0</td>\n",
       "      <td>0.0</td>\n",
       "    </tr>\n",
       "    <tr>\n",
       "      <th>117974</th>\n",
       "      <td>A2WVX35E4263BR</td>\n",
       "      <td>[i, ordered, the, black, 8, petite, ,, i, am, ...</td>\n",
       "      <td>[dressy, but, comfortable, for, work, &amp;, runni...</td>\n",
       "      <td>4.0</td>\n",
       "      <td>0.295767</td>\n",
       "      <td>0.400000</td>\n",
       "      <td>0.001046</td>\n",
       "      <td>0.00000</td>\n",
       "      <td>0.0</td>\n",
       "      <td>0.0</td>\n",
       "    </tr>\n",
       "    <tr>\n",
       "      <th>47802</th>\n",
       "      <td>AFHYEO3Y1IIDD</td>\n",
       "      <td>[campaign, :, one, for, one, ., for, every, pa...</td>\n",
       "      <td>[disposable, shoes, -, but, good, intentions, ...</td>\n",
       "      <td>2.0</td>\n",
       "      <td>0.160194</td>\n",
       "      <td>0.350000</td>\n",
       "      <td>0.001046</td>\n",
       "      <td>0.00000</td>\n",
       "      <td>0.0</td>\n",
       "      <td>0.0</td>\n",
       "    </tr>\n",
       "    <tr>\n",
       "      <th>4746</th>\n",
       "      <td>A9RTRKZM3IEOY</td>\n",
       "      <td>[i, am, a, contractor, and, i, use, these, sho...</td>\n",
       "      <td>[tough, work, shorts, !]</td>\n",
       "      <td>5.0</td>\n",
       "      <td>0.113000</td>\n",
       "      <td>-0.486111</td>\n",
       "      <td>0.001046</td>\n",
       "      <td>-0.00084</td>\n",
       "      <td>0.0</td>\n",
       "      <td>0.0</td>\n",
       "    </tr>\n",
       "    <tr>\n",
       "      <th>175344</th>\n",
       "      <td>AJTI9FHNONU8Y</td>\n",
       "      <td>[i, would, not, choose, these, as, running, sh...</td>\n",
       "      <td>[great, looking, and, i, get, compliments, all...</td>\n",
       "      <td>4.0</td>\n",
       "      <td>0.266038</td>\n",
       "      <td>0.800000</td>\n",
       "      <td>0.001221</td>\n",
       "      <td>0.00000</td>\n",
       "      <td>0.0</td>\n",
       "      <td>0.0</td>\n",
       "    </tr>\n",
       "  </tbody>\n",
       "</table>\n",
       "</div>"
      ],
      "text/plain": [
       "            reviewerID                                         reviewText  \\\n",
       "87727   A1H4R7TY2G50DH  [i, paid, $, 9, ., 45everything, works, and, e...   \n",
       "117974  A2WVX35E4263BR  [i, ordered, the, black, 8, petite, ,, i, am, ...   \n",
       "47802    AFHYEO3Y1IIDD  [campaign, :, one, for, one, ., for, every, pa...   \n",
       "4746     A9RTRKZM3IEOY  [i, am, a, contractor, and, i, use, these, sho...   \n",
       "175344   AJTI9FHNONU8Y  [i, would, not, choose, these, as, running, sh...   \n",
       "\n",
       "                                                  summary  overall  \\\n",
       "87727                                  [good, for, price]      5.0   \n",
       "117974  [dressy, but, comfortable, for, work, &, runni...      4.0   \n",
       "47802   [disposable, shoes, -, but, good, intentions, ...      2.0   \n",
       "4746                             [tough, work, shorts, !]      5.0   \n",
       "175344  [great, looking, and, i, get, compliments, all...      4.0   \n",
       "\n",
       "        reviewText_sentiment  summary_sentiment  pos_reviewText_count  \\\n",
       "87727               0.175901           0.700000              0.001046   \n",
       "117974              0.295767           0.400000              0.001046   \n",
       "47802               0.160194           0.350000              0.001046   \n",
       "4746                0.113000          -0.486111              0.001046   \n",
       "175344              0.266038           0.800000              0.001221   \n",
       "\n",
       "        neg_reviewText_count  pos_summary_count  neg_summary_count  \n",
       "87727                0.00000                0.0                0.0  \n",
       "117974               0.00000                0.0                0.0  \n",
       "47802                0.00000                0.0                0.0  \n",
       "4746                -0.00084                0.0                0.0  \n",
       "175344               0.00000                0.0                0.0  "
      ]
     },
     "execution_count": 27,
     "metadata": {},
     "output_type": "execute_result"
    }
   ],
   "source": [
    "features[features['pos_reviewText_count'] > .001].head()"
   ]
  },
  {
   "cell_type": "markdown",
   "metadata": {},
   "source": [
    "+ **Some reviews are not in english. Translation with googletrans is not feasible even with reinitializing the API with each 15k cap. Non-english text will continue to affect the performance of the model(s) unless it can be removed or translated**"
   ]
  },
  {
   "cell_type": "markdown",
   "metadata": {},
   "source": [
    "# Preparing target data for modeling"
   ]
  },
  {
   "cell_type": "markdown",
   "metadata": {},
   "source": [
    "**Transforming target variable for predicting a perfect 5 score**"
   ]
  },
  {
   "cell_type": "code",
   "execution_count": 28,
   "metadata": {},
   "outputs": [],
   "source": [
    "features['overall_bin'] = 0\n",
    "features.loc[(features['overall'] > 4), 'overall_bin'] = 1"
   ]
  },
  {
   "cell_type": "markdown",
   "metadata": {},
   "source": [
    "# Running and tuning models"
   ]
  },
  {
   "cell_type": "markdown",
   "metadata": {},
   "source": [
    "**Naive Bayes**"
   ]
  },
  {
   "cell_type": "code",
   "execution_count": 29,
   "metadata": {},
   "outputs": [
    {
     "name": "stdout",
     "output_type": "stream",
     "text": [
      "Number of mislabeled points out of a total 69669 points : 25298\n"
     ]
    }
   ],
   "source": [
    "data = features[['reviewText_sentiment', 'summary_sentiment', 'pos_reviewText_count', 'neg_reviewText_count', 'pos_summary_count', 'neg_summary_count']]\n",
    "target = features['overall_bin']\n",
    "\n",
    "# Bernoulli classifier.\n",
    "from sklearn.naive_bayes import BernoulliNB\n",
    "\n",
    "# Instantiate our model and store it in a new variable.\n",
    "bnb = BernoulliNB()\n",
    "\n",
    "# Fit our model to the data.\n",
    "bnb.fit(data, target)\n",
    "\n",
    "# Classify, storing the result in a new variable.\n",
    "y_pred = bnb.predict(data)\n",
    "\n",
    "# Display our results.\n",
    "print(\"Number of mislabeled points out of a total {} points : {}\".format(\n",
    "    data.shape[0],\n",
    "    (target != y_pred).sum()\n",
    "))"
   ]
  },
  {
   "cell_type": "markdown",
   "metadata": {},
   "source": [
    "**Random Forest Classifier**"
   ]
  },
  {
   "cell_type": "code",
   "execution_count": 30,
   "metadata": {},
   "outputs": [
    {
     "name": "stdout",
     "output_type": "stream",
     "text": [
      "[0.66360505 0.6608783  0.66173938 0.66733639 0.66054256 0.65733563\n",
      " 0.65360322 0.65877117 0.65633075 0.66078094]\n",
      "Accuracy: 0.66 (+/- 0.01)\n"
     ]
    }
   ],
   "source": [
    "from sklearn import ensemble\n",
    "from sklearn.model_selection import cross_val_score\n",
    "\n",
    "rfc = ensemble.RandomForestClassifier(n_estimators=350)\n",
    "\n",
    "X = features[['reviewText_sentiment', 'summary_sentiment', 'pos_reviewText_count', 'neg_reviewText_count', 'pos_summary_count', 'neg_summary_count']]\n",
    "Y = features['overall_bin']\n",
    "\n",
    "score = cross_val_score(rfc, X, Y, cv=10)\n",
    "print(score)\n",
    "print('Accuracy: %0.2f (+/- %0.2f)' % (score.mean(), score.std() * 2))"
   ]
  },
  {
   "cell_type": "markdown",
   "metadata": {},
   "source": [
    "# Does a review classification model for one category work for another?"
   ]
  },
  {
   "cell_type": "code",
   "execution_count": 31,
   "metadata": {},
   "outputs": [],
   "source": [
    "df_clothing = getDF('datasets/reviews_Video_Games_5.json.gz')"
   ]
  },
  {
   "cell_type": "code",
   "execution_count": 32,
   "metadata": {},
   "outputs": [],
   "source": [
    "df_clothing = df_clothing.sample(frac=0.25)\n",
    "features = df_clothing[['reviewerID', 'reviewText', 'summary', 'overall']]"
   ]
  },
  {
   "cell_type": "markdown",
   "metadata": {},
   "source": [
    "# Sentiment Ratings"
   ]
  },
  {
   "cell_type": "code",
   "execution_count": 33,
   "metadata": {},
   "outputs": [
    {
     "name": "stderr",
     "output_type": "stream",
     "text": [
      "/anaconda3/lib/python3.6/site-packages/ipykernel_launcher.py:11: SettingWithCopyWarning: \n",
      "A value is trying to be set on a copy of a slice from a DataFrame.\n",
      "Try using .loc[row_indexer,col_indexer] = value instead\n",
      "\n",
      "See the caveats in the documentation: http://pandas.pydata.org/pandas-docs/stable/indexing.html#indexing-view-versus-copy\n",
      "  # This is added back by InteractiveShellApp.init_path()\n",
      "/anaconda3/lib/python3.6/site-packages/ipykernel_launcher.py:21: SettingWithCopyWarning: \n",
      "A value is trying to be set on a copy of a slice from a DataFrame.\n",
      "Try using .loc[row_indexer,col_indexer] = value instead\n",
      "\n",
      "See the caveats in the documentation: http://pandas.pydata.org/pandas-docs/stable/indexing.html#indexing-view-versus-copy\n"
     ]
    }
   ],
   "source": [
    "# --sentiment--\n",
    "\n",
    "# reviewText sentiment\n",
    "\n",
    "reviewText_sentiment_list = list(features['reviewText'])\n",
    "reviewText_sentiment_column = []\n",
    "\n",
    "for i in reviewText_sentiment_list:\n",
    "    reviewText_sentiment_column.append(TextBlob(i).sentiment.polarity)\n",
    "    \n",
    "features['reviewText_sentiment'] = reviewText_sentiment_column\n",
    "\n",
    "# summary sentiment\n",
    "\n",
    "summary_sentiment_list = list(features['summary'])\n",
    "summary_sentiment_column = []\n",
    "\n",
    "for j in summary_sentiment_list:\n",
    "    summary_sentiment_column.append(TextBlob(j).sentiment.polarity)\n",
    "    \n",
    "features['summary_sentiment'] = summary_sentiment_column"
   ]
  },
  {
   "cell_type": "markdown",
   "metadata": {},
   "source": [
    "# Term Counts"
   ]
  },
  {
   "cell_type": "markdown",
   "metadata": {},
   "source": [
    "**Preparing text for term count**"
   ]
  },
  {
   "cell_type": "code",
   "execution_count": 34,
   "metadata": {},
   "outputs": [],
   "source": [
    "# Columns to lowercase strings\n",
    "\n",
    "all_review_text = features['reviewText'].str.lower()\n",
    "all_summary_text = features['summary'].str.lower()\n",
    "\n",
    "# Strings to arrays\n",
    "\n",
    "all_review_text = all_review_text.tolist()\n",
    "all_summary_text = all_summary_text.tolist()\n",
    "\n",
    "# Tokenizing\n",
    "\n",
    "all_review_text_break = [nltk.tokenize.wordpunct_tokenize(text) for text in all_review_text]\n",
    "all_summary_text_break = [nltk.tokenize.wordpunct_tokenize(text) for text in all_summary_text]"
   ]
  },
  {
   "cell_type": "code",
   "execution_count": 35,
   "metadata": {},
   "outputs": [],
   "source": [
    "# Flatten the list of lists from dataframe\n",
    "\n",
    "all_review_text_break = [item for sublist in all_review_text_break for item in sublist]\n",
    "all_summary_text_break = [item for sublist in all_summary_text_break for item in sublist]"
   ]
  },
  {
   "cell_type": "code",
   "execution_count": 36,
   "metadata": {},
   "outputs": [],
   "source": [
    "stopwords = nltk.corpus.stopwords.words('english')\n",
    "\n",
    "# reviewText\n",
    "\n",
    "all_review_text_clean = []\n",
    "\n",
    "for w in all_review_text_break:\n",
    "    if w not in stopwords:\n",
    "        all_review_text_clean.append(w)\n",
    "        \n",
    "# summary text\n",
    "    \n",
    "all_summary_text_clean = []\n",
    "\n",
    "for w in all_summary_text_break:\n",
    "    if w not in stopwords:\n",
    "        all_summary_text_clean.append(w)"
   ]
  },
  {
   "cell_type": "markdown",
   "metadata": {},
   "source": [
    "**Counting words**"
   ]
  },
  {
   "cell_type": "code",
   "execution_count": 37,
   "metadata": {},
   "outputs": [],
   "source": [
    "# Function that counts the number of times each word appeared in the sentiment lists\n",
    "\n",
    "# reviewText\n",
    "\n",
    "most_common_reviewText_pos = {}\n",
    "\n",
    "for i in positive_terms:\n",
    "    most_common_reviewText_pos[i] = all_review_text_clean.count(i)\n",
    "\n",
    "most_common_reviewText_neg = {}\n",
    "\n",
    "for j in negative_terms:\n",
    "    most_common_reviewText_neg[j] = all_review_text_clean.count(j)\n",
    "    \n",
    "# summary text\n",
    "\n",
    "most_common_summary_pos = {}\n",
    "\n",
    "for i in positive_terms:\n",
    "    most_common_summary_pos[i] = all_summary_text_clean.count(i)\n",
    "\n",
    "most_common_summary_neg = {}\n",
    "\n",
    "for j in negative_terms:\n",
    "    most_common_summary_neg[j] = all_summary_text_clean.count(j)"
   ]
  },
  {
   "cell_type": "code",
   "execution_count": 38,
   "metadata": {},
   "outputs": [],
   "source": [
    "# Slicing the top 10 most counted terms in the reviewText and summary\n",
    "\n",
    "# reviewText\n",
    "\n",
    "pos = Counter(most_common_reviewText_pos)\n",
    "pos.most_common()\n",
    "\n",
    "pos_reviewText_list = []\n",
    "\n",
    "for k, v in pos.most_common(10):\n",
    "    pos_reviewText_list.append(k)\n",
    "\n",
    "neg_reviewText_list = []\n",
    "\n",
    "neg = Counter(most_common_reviewText_neg)\n",
    "neg.most_common()\n",
    "\n",
    "for k, v in neg.most_common(10):\n",
    "    neg_reviewText_list.append(k) \n",
    "    \n",
    "# summary text\n",
    "\n",
    "pos = Counter(most_common_summary_pos)\n",
    "pos.most_common()\n",
    "\n",
    "pos_summary_list = []\n",
    "\n",
    "for k, v in pos.most_common(10):\n",
    "    pos_summary_list.append(k)\n",
    "\n",
    "neg_summary_list = []\n",
    "\n",
    "neg = Counter(most_common_summary_neg)\n",
    "neg.most_common()\n",
    "\n",
    "for k, v in neg.most_common(10):\n",
    "    neg_summary_list.append(k) "
   ]
  },
  {
   "cell_type": "code",
   "execution_count": 39,
   "metadata": {},
   "outputs": [
    {
     "name": "stderr",
     "output_type": "stream",
     "text": [
      "/anaconda3/lib/python3.6/site-packages/ipykernel_launcher.py:3: SettingWithCopyWarning: \n",
      "A value is trying to be set on a copy of a slice from a DataFrame.\n",
      "Try using .loc[row_indexer,col_indexer] = value instead\n",
      "\n",
      "See the caveats in the documentation: http://pandas.pydata.org/pandas-docs/stable/indexing.html#indexing-view-versus-copy\n",
      "  This is separate from the ipykernel package so we can avoid doing imports until\n",
      "/anaconda3/lib/python3.6/site-packages/ipykernel_launcher.py:4: SettingWithCopyWarning: \n",
      "A value is trying to be set on a copy of a slice from a DataFrame.\n",
      "Try using .loc[row_indexer,col_indexer] = value instead\n",
      "\n",
      "See the caveats in the documentation: http://pandas.pydata.org/pandas-docs/stable/indexing.html#indexing-view-versus-copy\n",
      "  after removing the cwd from sys.path.\n"
     ]
    }
   ],
   "source": [
    "# Creating columns of formerly cleaned data to search for words in each record and create a term count feature\n",
    "\n",
    "features['reviewText'] = [nltk.tokenize.wordpunct_tokenize(text) for text in all_review_text]\n",
    "features['summary'] = [nltk.tokenize.wordpunct_tokenize(text) for text in all_summary_text]"
   ]
  },
  {
   "cell_type": "markdown",
   "metadata": {},
   "source": [
    "**Creating columns with word counts**"
   ]
  },
  {
   "cell_type": "code",
   "execution_count": 40,
   "metadata": {},
   "outputs": [
    {
     "name": "stderr",
     "output_type": "stream",
     "text": [
      "/anaconda3/lib/python3.6/site-packages/ipykernel_launcher.py:9: SettingWithCopyWarning: \n",
      "A value is trying to be set on a copy of a slice from a DataFrame.\n",
      "Try using .loc[row_indexer,col_indexer] = value instead\n",
      "\n",
      "See the caveats in the documentation: http://pandas.pydata.org/pandas-docs/stable/indexing.html#indexing-view-versus-copy\n",
      "  if __name__ == '__main__':\n",
      "/anaconda3/lib/python3.6/site-packages/ipykernel_launcher.py:10: SettingWithCopyWarning: \n",
      "A value is trying to be set on a copy of a slice from a DataFrame.\n",
      "Try using .loc[row_indexer,col_indexer] = value instead\n",
      "\n",
      "See the caveats in the documentation: http://pandas.pydata.org/pandas-docs/stable/indexing.html#indexing-view-versus-copy\n",
      "  # Remove the CWD from sys.path while we load stuff.\n"
     ]
    }
   ],
   "source": [
    "def count_words(word_list,column):\n",
    "    new_column = 0\n",
    "    for word in word_list:\n",
    "        new_column = column.apply(lambda x: x.count(word))\n",
    "    return new_column\n",
    "\n",
    "# reviewText\n",
    "\n",
    "features['pos_reviewText_count'] = count_words(pos_reviewText_list,features['reviewText'])\n",
    "features['neg_reviewText_count'] = count_words(neg_reviewText_list, features['reviewText'])\n",
    "\n",
    "# summary\n",
    "\n",
    "features['pos_summary_count'] = count_words(pos_summary_list, features['summary'])\n",
    "features['neg_summary_count'] = count_words(neg_summary_list, features['summary'])"
   ]
  },
  {
   "cell_type": "code",
   "execution_count": 41,
   "metadata": {},
   "outputs": [],
   "source": [
    "# Separating negative sentiment from positive and averaging term count across all text for context\n",
    "\n",
    "# reviewText\n",
    "\n",
    "features['pos_reviewText_count'] = features['pos_reviewText_count'] / features['pos_reviewText_count'].sum()\n",
    "features['neg_reviewText_count'] = features['neg_reviewText_count'] * -1 / features['neg_reviewText_count'].sum()\n",
    "\n",
    "# summary\n",
    "\n",
    "features['pos_summary_count'] = features['pos_summary_count'] / features['pos_summary_count'].sum()\n",
    "features['neg_summary_count'] = features['neg_summary_count'] * -1 / features['neg_summary_count'].sum()"
   ]
  },
  {
   "cell_type": "markdown",
   "metadata": {},
   "source": [
    "# Preparing target data for modeling"
   ]
  },
  {
   "cell_type": "code",
   "execution_count": 43,
   "metadata": {},
   "outputs": [],
   "source": [
    "features['overall_bin'] = 0\n",
    "features.loc[(features['overall'] > 4), 'overall_bin'] = 1"
   ]
  },
  {
   "cell_type": "markdown",
   "metadata": {},
   "source": [
    "# Running and tuning models"
   ]
  },
  {
   "cell_type": "markdown",
   "metadata": {},
   "source": [
    "**Naive Bayes**"
   ]
  },
  {
   "cell_type": "code",
   "execution_count": 44,
   "metadata": {},
   "outputs": [
    {
     "name": "stdout",
     "output_type": "stream",
     "text": [
      "Number of mislabeled points out of a total 57945 points : 23755\n"
     ]
    }
   ],
   "source": [
    "data = features[['reviewText_sentiment', 'summary_sentiment', 'pos_reviewText_count', 'neg_reviewText_count', 'pos_summary_count', 'neg_summary_count']]\n",
    "target = features['overall_bin']\n",
    "\n",
    "# Bernoulli classifier.\n",
    "from sklearn.naive_bayes import BernoulliNB\n",
    "\n",
    "# Instantiate our model and store it in a new variable.\n",
    "bnb = BernoulliNB()\n",
    "\n",
    "# Fit our model to the data.\n",
    "bnb.fit(data, target)\n",
    "\n",
    "# Classify, storing the result in a new variable.\n",
    "y_pred = bnb.predict(data)\n",
    "\n",
    "# Display our results.\n",
    "print(\"Number of mislabeled points out of a total {} points : {}\".format(\n",
    "    data.shape[0],\n",
    "    (target != y_pred).sum()\n",
    "))"
   ]
  },
  {
   "cell_type": "markdown",
   "metadata": {},
   "source": [
    "**Random Forest Classifier**"
   ]
  },
  {
   "cell_type": "code",
   "execution_count": 45,
   "metadata": {},
   "outputs": [
    {
     "name": "stdout",
     "output_type": "stream",
     "text": [
      "[0.60569456 0.60448663 0.60103538 0.59792925 0.60431406 0.60120794\n",
      " 0.60510873 0.60269244 0.60424577 0.60227861]\n",
      "Accuracy: 0.60 (+/- 0.00)\n"
     ]
    }
   ],
   "source": [
    "from sklearn import ensemble\n",
    "from sklearn.model_selection import cross_val_score\n",
    "\n",
    "rfc = ensemble.RandomForestClassifier(n_estimators=350)\n",
    "\n",
    "X = features[['reviewText_sentiment', 'summary_sentiment', 'pos_reviewText_count', 'neg_reviewText_count', 'pos_summary_count', 'neg_summary_count']]\n",
    "Y = features['overall_bin']\n",
    "\n",
    "score = cross_val_score(rfc, X, Y, cv=10)\n",
    "print(score)\n",
    "print('Accuracy: %0.2f (+/- %0.2f)' % (score.mean(), score.std() * 2))"
   ]
  },
  {
   "cell_type": "code",
   "execution_count": null,
   "metadata": {},
   "outputs": [],
   "source": []
  }
 ],
 "metadata": {
  "kernelspec": {
   "display_name": "Python 3",
   "language": "python",
   "name": "python3"
  },
  "language_info": {
   "codemirror_mode": {
    "name": "ipython",
    "version": 3
   },
   "file_extension": ".py",
   "mimetype": "text/x-python",
   "name": "python",
   "nbconvert_exporter": "python",
   "pygments_lexer": "ipython3",
   "version": "3.6.6"
  }
 },
 "nbformat": 4,
 "nbformat_minor": 2
}
