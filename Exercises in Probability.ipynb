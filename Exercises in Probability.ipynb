{
 "cells": [
  {
   "cell_type": "code",
   "execution_count": 1,
   "metadata": {
    "collapsed": false
   },
   "outputs": [
    {
     "name": "stdout",
     "output_type": "stream",
     "text": [
      "0.0625\n",
      "0.0625\n",
      "0.0625\n"
     ]
    }
   ],
   "source": [
    "# 1. Probability of flipping a coin:\n",
    "\n",
    "# HTTH\n",
    "HTTH = .5 * .5 * .5 * .5\n",
    "print(HTTH)\n",
    "\n",
    "# HHHH\n",
    "HHHH = .5 * .5 * .5 * .5\n",
    "print(HTTH)\n",
    "    \n",
    "# TTHH\n",
    "TTHH = .5 * .5 * .5 * .5\n",
    "print(HTTH)"
   ]
  },
  {
   "cell_type": "code",
   "execution_count": 2,
   "metadata": {
    "collapsed": false
   },
   "outputs": [
    {
     "name": "stdout",
     "output_type": "stream",
     "text": [
      "0.5333333333333333\n"
     ]
    }
   ],
   "source": [
    "# 2. 24 women and 21 men. Probability of choosing a man from the list is 21/45.\n",
    "# What is the probability of not choosing a man?\n",
    "\n",
    "choose_man = 1 - (21/45)\n",
    "print(choose_man)"
   ]
  },
  {
   "cell_type": "code",
   "execution_count": 8,
   "metadata": {
    "collapsed": false
   },
   "outputs": [
    {
     "name": "stdout",
     "output_type": "stream",
     "text": [
      "5e-06\n"
     ]
    }
   ],
   "source": [
    "# 3. 10% that Bernice will travel by plane sometime in the next year\n",
    "# Probability of a plane crash at any time is .005%\n",
    "\n",
    "# Probability that Bernice will be in a plane crash sometime in the next year?\n",
    "\n",
    "plane_crash = .10 * .00005\n",
    "print(plane_crash)\n",
    "\n",
    "# aka .0005%"
   ]
  },
  {
   "cell_type": "code",
   "execution_count": null,
   "metadata": {
    "collapsed": true
   },
   "outputs": [],
   "source": [
    "# 4. 5% chance that the user will be asked to complete a short survey\n",
    "# Conclusion: on avg, users spend 15m surfing the website before moving on\n",
    "\n",
    "# The sample is flawed with selection bias. The data obtained through the survey relies\n",
    "# on users who are more likely to take a survey. The data scientist applies that data\n",
    "# to all website users.\n",
    "\n",
    "# Also the likelihood a user takes the survey is influenced by how long (the longer) they surf the website."
   ]
  }
 ],
 "metadata": {
  "kernelspec": {
   "display_name": "Python 3",
   "language": "python",
   "name": "python3"
  },
  "language_info": {
   "codemirror_mode": {
    "name": "ipython",
    "version": 3
   },
   "file_extension": ".py",
   "mimetype": "text/x-python",
   "name": "python",
   "nbconvert_exporter": "python",
   "pygments_lexer": "ipython3",
   "version": "3.5.2"
  }
 },
 "nbformat": 4,
 "nbformat_minor": 0
}
