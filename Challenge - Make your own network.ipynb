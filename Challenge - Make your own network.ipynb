{
 "cells": [
  {
   "cell_type": "markdown",
   "metadata": {},
   "source": [
    "**Create a multi-layer perceptron neural network model to predict on a labeled dataset of your choosing. Compare this model to either a boosted tree or a random forest model and describe the relative tradeoffs between complexity and accuracy. Be sure to vary the hyperparameters of your MLP!**"
   ]
  },
  {
   "cell_type": "markdown",
   "metadata": {},
   "source": [
    "# Predicting..."
   ]
  },
  {
   "cell_type": "code",
   "execution_count": 103,
   "metadata": {},
   "outputs": [],
   "source": [
    "import numpy as np\n",
    "import pandas as pd\n",
    "import matplotlib.pyplot as plt\n",
    "import seaborn as sns\n",
    "\n",
    "from sklearn import ensemble\n",
    "from sklearn import datasets\n",
    "from sklearn.utils import shuffle\n",
    "\n",
    "from sklearn.metrics import make_scorer, mean_squared_error\n",
    "\n",
    "from sklearn.neural_network import MLPRegressor\n",
    "\n",
    "%matplotlib inline"
   ]
  },
  {
   "cell_type": "code",
   "execution_count": 53,
   "metadata": {},
   "outputs": [],
   "source": [
    "df = pd.read_csv('datasets/dc-residential-properties/raw_residential_data.csv')"
   ]
  },
  {
   "cell_type": "code",
   "execution_count": 54,
   "metadata": {},
   "outputs": [
    {
     "data": {
      "text/plain": [
       "(107154, 39)"
      ]
     },
     "execution_count": 54,
     "metadata": {},
     "output_type": "execute_result"
    }
   ],
   "source": [
    "df.shape"
   ]
  },
  {
   "cell_type": "code",
   "execution_count": 55,
   "metadata": {},
   "outputs": [],
   "source": [
    "df = df.sample(n=100000)"
   ]
  },
  {
   "cell_type": "code",
   "execution_count": 56,
   "metadata": {},
   "outputs": [
    {
     "data": {
      "text/html": [
       "<div>\n",
       "<style scoped>\n",
       "    .dataframe tbody tr th:only-of-type {\n",
       "        vertical-align: middle;\n",
       "    }\n",
       "\n",
       "    .dataframe tbody tr th {\n",
       "        vertical-align: top;\n",
       "    }\n",
       "\n",
       "    .dataframe thead th {\n",
       "        text-align: right;\n",
       "    }\n",
       "</style>\n",
       "<table border=\"1\" class=\"dataframe\">\n",
       "  <thead>\n",
       "    <tr style=\"text-align: right;\">\n",
       "      <th></th>\n",
       "      <th>OBJECTID</th>\n",
       "      <th>SSL</th>\n",
       "      <th>BATHRM</th>\n",
       "      <th>HF_BATHRM</th>\n",
       "      <th>HEAT</th>\n",
       "      <th>HEAT_D</th>\n",
       "      <th>AC</th>\n",
       "      <th>NUM_UNITS</th>\n",
       "      <th>ROOMS</th>\n",
       "      <th>BEDRM</th>\n",
       "      <th>...</th>\n",
       "      <th>EXTWALL_D</th>\n",
       "      <th>ROOF</th>\n",
       "      <th>ROOF_D</th>\n",
       "      <th>INTWALL</th>\n",
       "      <th>INTWALL_D</th>\n",
       "      <th>KITCHENS</th>\n",
       "      <th>FIREPLACES</th>\n",
       "      <th>USECODE</th>\n",
       "      <th>LANDAREA</th>\n",
       "      <th>GIS_LAST_MOD_DTTM</th>\n",
       "    </tr>\n",
       "  </thead>\n",
       "  <tbody>\n",
       "    <tr>\n",
       "      <th>21335</th>\n",
       "      <td>21336</td>\n",
       "      <td>1290    0280</td>\n",
       "      <td>3.0</td>\n",
       "      <td>1.0</td>\n",
       "      <td>7.0</td>\n",
       "      <td>Warm Cool</td>\n",
       "      <td>Y</td>\n",
       "      <td>1.0</td>\n",
       "      <td>7.0</td>\n",
       "      <td>3.0</td>\n",
       "      <td>...</td>\n",
       "      <td>Common Brick</td>\n",
       "      <td>11.0</td>\n",
       "      <td>Slate</td>\n",
       "      <td>6.0</td>\n",
       "      <td>Hardwood</td>\n",
       "      <td>2.0</td>\n",
       "      <td>2.0</td>\n",
       "      <td>12</td>\n",
       "      <td>1208</td>\n",
       "      <td>2018-07-22T18:01:43.000Z</td>\n",
       "    </tr>\n",
       "    <tr>\n",
       "      <th>37981</th>\n",
       "      <td>37982</td>\n",
       "      <td>2295    0005</td>\n",
       "      <td>3.0</td>\n",
       "      <td>1.0</td>\n",
       "      <td>7.0</td>\n",
       "      <td>Warm Cool</td>\n",
       "      <td>Y</td>\n",
       "      <td>1.0</td>\n",
       "      <td>7.0</td>\n",
       "      <td>3.0</td>\n",
       "      <td>...</td>\n",
       "      <td>Common Brick</td>\n",
       "      <td>11.0</td>\n",
       "      <td>Slate</td>\n",
       "      <td>6.0</td>\n",
       "      <td>Hardwood</td>\n",
       "      <td>1.0</td>\n",
       "      <td>1.0</td>\n",
       "      <td>12</td>\n",
       "      <td>5111</td>\n",
       "      <td>2018-07-22T18:01:43.000Z</td>\n",
       "    </tr>\n",
       "    <tr>\n",
       "      <th>73086</th>\n",
       "      <td>73087</td>\n",
       "      <td>3812    0016</td>\n",
       "      <td>2.0</td>\n",
       "      <td>0.0</td>\n",
       "      <td>7.0</td>\n",
       "      <td>Warm Cool</td>\n",
       "      <td>Y</td>\n",
       "      <td>1.0</td>\n",
       "      <td>8.0</td>\n",
       "      <td>4.0</td>\n",
       "      <td>...</td>\n",
       "      <td>Aluminum</td>\n",
       "      <td>1.0</td>\n",
       "      <td>Comp Shingle</td>\n",
       "      <td>3.0</td>\n",
       "      <td>Wood Floor</td>\n",
       "      <td>1.0</td>\n",
       "      <td>0.0</td>\n",
       "      <td>13</td>\n",
       "      <td>3275</td>\n",
       "      <td>2018-07-22T18:01:43.000Z</td>\n",
       "    </tr>\n",
       "    <tr>\n",
       "      <th>57479</th>\n",
       "      <td>60480</td>\n",
       "      <td>3213    0083</td>\n",
       "      <td>1.0</td>\n",
       "      <td>0.0</td>\n",
       "      <td>13.0</td>\n",
       "      <td>Hot Water Rad</td>\n",
       "      <td>N</td>\n",
       "      <td>1.0</td>\n",
       "      <td>9.0</td>\n",
       "      <td>4.0</td>\n",
       "      <td>...</td>\n",
       "      <td>Common Brick</td>\n",
       "      <td>11.0</td>\n",
       "      <td>Slate</td>\n",
       "      <td>6.0</td>\n",
       "      <td>Hardwood</td>\n",
       "      <td>1.0</td>\n",
       "      <td>0.0</td>\n",
       "      <td>11</td>\n",
       "      <td>2565</td>\n",
       "      <td>2018-07-22T18:01:43.000Z</td>\n",
       "    </tr>\n",
       "    <tr>\n",
       "      <th>68342</th>\n",
       "      <td>68343</td>\n",
       "      <td>3684    0041</td>\n",
       "      <td>1.0</td>\n",
       "      <td>0.0</td>\n",
       "      <td>7.0</td>\n",
       "      <td>Warm Cool</td>\n",
       "      <td>Y</td>\n",
       "      <td>1.0</td>\n",
       "      <td>6.0</td>\n",
       "      <td>3.0</td>\n",
       "      <td>...</td>\n",
       "      <td>Common Brick</td>\n",
       "      <td>6.0</td>\n",
       "      <td>Metal- Sms</td>\n",
       "      <td>11.0</td>\n",
       "      <td>Hardwood/Carp</td>\n",
       "      <td>1.0</td>\n",
       "      <td>0.0</td>\n",
       "      <td>11</td>\n",
       "      <td>1600</td>\n",
       "      <td>2018-07-22T18:01:43.000Z</td>\n",
       "    </tr>\n",
       "  </tbody>\n",
       "</table>\n",
       "<p>5 rows × 39 columns</p>\n",
       "</div>"
      ],
      "text/plain": [
       "       OBJECTID           SSL  BATHRM  HF_BATHRM  HEAT         HEAT_D AC  \\\n",
       "21335     21336  1290    0280     3.0        1.0   7.0      Warm Cool  Y   \n",
       "37981     37982  2295    0005     3.0        1.0   7.0      Warm Cool  Y   \n",
       "73086     73087  3812    0016     2.0        0.0   7.0      Warm Cool  Y   \n",
       "57479     60480  3213    0083     1.0        0.0  13.0  Hot Water Rad  N   \n",
       "68342     68343  3684    0041     1.0        0.0   7.0      Warm Cool  Y   \n",
       "\n",
       "       NUM_UNITS  ROOMS  BEDRM            ...                EXTWALL_D  ROOF  \\\n",
       "21335        1.0    7.0    3.0            ...             Common Brick  11.0   \n",
       "37981        1.0    7.0    3.0            ...             Common Brick  11.0   \n",
       "73086        1.0    8.0    4.0            ...                 Aluminum   1.0   \n",
       "57479        1.0    9.0    4.0            ...             Common Brick  11.0   \n",
       "68342        1.0    6.0    3.0            ...             Common Brick   6.0   \n",
       "\n",
       "             ROOF_D  INTWALL      INTWALL_D  KITCHENS FIREPLACES  USECODE  \\\n",
       "21335         Slate      6.0       Hardwood       2.0        2.0       12   \n",
       "37981         Slate      6.0       Hardwood       1.0        1.0       12   \n",
       "73086  Comp Shingle      3.0     Wood Floor       1.0        0.0       13   \n",
       "57479         Slate      6.0       Hardwood       1.0        0.0       11   \n",
       "68342    Metal- Sms     11.0  Hardwood/Carp       1.0        0.0       11   \n",
       "\n",
       "       LANDAREA         GIS_LAST_MOD_DTTM  \n",
       "21335      1208  2018-07-22T18:01:43.000Z  \n",
       "37981      5111  2018-07-22T18:01:43.000Z  \n",
       "73086      3275  2018-07-22T18:01:43.000Z  \n",
       "57479      2565  2018-07-22T18:01:43.000Z  \n",
       "68342      1600  2018-07-22T18:01:43.000Z  \n",
       "\n",
       "[5 rows x 39 columns]"
      ]
     },
     "execution_count": 56,
     "metadata": {},
     "output_type": "execute_result"
    }
   ],
   "source": [
    "df.head()"
   ]
  },
  {
   "cell_type": "code",
   "execution_count": 57,
   "metadata": {},
   "outputs": [
    {
     "data": {
      "text/plain": [
       "Index(['OBJECTID', 'SSL', 'BATHRM', 'HF_BATHRM', 'HEAT', 'HEAT_D', 'AC',\n",
       "       'NUM_UNITS', 'ROOMS', 'BEDRM', 'AYB', 'YR_RMDL', 'EYB', 'STORIES',\n",
       "       'SALEDATE', 'PRICE', 'QUALIFIED', 'SALE_NUM', 'GBA', 'BLDG_NUM',\n",
       "       'STYLE', 'STYLE_D', 'STRUCT', 'STRUCT_D', 'GRADE', 'GRADE_D', 'CNDTN',\n",
       "       'CNDTN_D', 'EXTWALL', 'EXTWALL_D', 'ROOF', 'ROOF_D', 'INTWALL',\n",
       "       'INTWALL_D', 'KITCHENS', 'FIREPLACES', 'USECODE', 'LANDAREA',\n",
       "       'GIS_LAST_MOD_DTTM'],\n",
       "      dtype='object')"
      ]
     },
     "execution_count": 57,
     "metadata": {},
     "output_type": "execute_result"
    }
   ],
   "source": [
    "df.columns"
   ]
  },
  {
   "cell_type": "code",
   "execution_count": 58,
   "metadata": {},
   "outputs": [],
   "source": [
    "features = df[['BATHRM', 'HF_BATHRM', 'HEAT', 'AC',\n",
    "               'NUM_UNITS', 'ROOMS', 'BEDRM', 'AYB', 'YR_RMDL', 'EYB', 'STORIES',\n",
    "               'SALEDATE', 'PRICE', 'STYLE', 'STYLE_D', 'STRUCT', 'STRUCT_D',\n",
    "               'GRADE', 'GRADE_D', 'CNDTN', 'CNDTN_D', 'EXTWALL', 'EXTWALL_D',\n",
    "               'ROOF', 'ROOF_D', 'INTWALL', 'INTWALL_D', 'KITCHENS', 'FIREPLACES',\n",
    "               'LANDAREA']]"
   ]
  },
  {
   "cell_type": "code",
   "execution_count": 59,
   "metadata": {},
   "outputs": [
    {
     "data": {
      "text/html": [
       "<div>\n",
       "<style scoped>\n",
       "    .dataframe tbody tr th:only-of-type {\n",
       "        vertical-align: middle;\n",
       "    }\n",
       "\n",
       "    .dataframe tbody tr th {\n",
       "        vertical-align: top;\n",
       "    }\n",
       "\n",
       "    .dataframe thead th {\n",
       "        text-align: right;\n",
       "    }\n",
       "</style>\n",
       "<table border=\"1\" class=\"dataframe\">\n",
       "  <thead>\n",
       "    <tr style=\"text-align: right;\">\n",
       "      <th></th>\n",
       "      <th>BATHRM</th>\n",
       "      <th>HF_BATHRM</th>\n",
       "      <th>HEAT</th>\n",
       "      <th>AC</th>\n",
       "      <th>NUM_UNITS</th>\n",
       "      <th>ROOMS</th>\n",
       "      <th>BEDRM</th>\n",
       "      <th>AYB</th>\n",
       "      <th>YR_RMDL</th>\n",
       "      <th>EYB</th>\n",
       "      <th>...</th>\n",
       "      <th>CNDTN_D</th>\n",
       "      <th>EXTWALL</th>\n",
       "      <th>EXTWALL_D</th>\n",
       "      <th>ROOF</th>\n",
       "      <th>ROOF_D</th>\n",
       "      <th>INTWALL</th>\n",
       "      <th>INTWALL_D</th>\n",
       "      <th>KITCHENS</th>\n",
       "      <th>FIREPLACES</th>\n",
       "      <th>LANDAREA</th>\n",
       "    </tr>\n",
       "  </thead>\n",
       "  <tbody>\n",
       "    <tr>\n",
       "      <th>84486</th>\n",
       "      <td>2.0</td>\n",
       "      <td>0.0</td>\n",
       "      <td>1.0</td>\n",
       "      <td>Y</td>\n",
       "      <td>1.0</td>\n",
       "      <td>6.0</td>\n",
       "      <td>3.0</td>\n",
       "      <td>1941.0</td>\n",
       "      <td>2012.0</td>\n",
       "      <td>1964</td>\n",
       "      <td>...</td>\n",
       "      <td>Good</td>\n",
       "      <td>14.0</td>\n",
       "      <td>Common Brick</td>\n",
       "      <td>2.0</td>\n",
       "      <td>Built Up</td>\n",
       "      <td>11.0</td>\n",
       "      <td>Hardwood/Carp</td>\n",
       "      <td>1.0</td>\n",
       "      <td>0.0</td>\n",
       "      <td>1040</td>\n",
       "    </tr>\n",
       "    <tr>\n",
       "      <th>77371</th>\n",
       "      <td>1.0</td>\n",
       "      <td>1.0</td>\n",
       "      <td>13.0</td>\n",
       "      <td>N</td>\n",
       "      <td>1.0</td>\n",
       "      <td>6.0</td>\n",
       "      <td>3.0</td>\n",
       "      <td>1939.0</td>\n",
       "      <td>NaN</td>\n",
       "      <td>1957</td>\n",
       "      <td>...</td>\n",
       "      <td>Average</td>\n",
       "      <td>14.0</td>\n",
       "      <td>Common Brick</td>\n",
       "      <td>11.0</td>\n",
       "      <td>Slate</td>\n",
       "      <td>6.0</td>\n",
       "      <td>Hardwood</td>\n",
       "      <td>1.0</td>\n",
       "      <td>1.0</td>\n",
       "      <td>4880</td>\n",
       "    </tr>\n",
       "    <tr>\n",
       "      <th>59794</th>\n",
       "      <td>2.0</td>\n",
       "      <td>1.0</td>\n",
       "      <td>13.0</td>\n",
       "      <td>N</td>\n",
       "      <td>2.0</td>\n",
       "      <td>9.0</td>\n",
       "      <td>4.0</td>\n",
       "      <td>1907.0</td>\n",
       "      <td>2015.0</td>\n",
       "      <td>1957</td>\n",
       "      <td>...</td>\n",
       "      <td>Average</td>\n",
       "      <td>14.0</td>\n",
       "      <td>Common Brick</td>\n",
       "      <td>11.0</td>\n",
       "      <td>Slate</td>\n",
       "      <td>6.0</td>\n",
       "      <td>Hardwood</td>\n",
       "      <td>2.0</td>\n",
       "      <td>1.0</td>\n",
       "      <td>1500</td>\n",
       "    </tr>\n",
       "    <tr>\n",
       "      <th>41950</th>\n",
       "      <td>4.0</td>\n",
       "      <td>0.0</td>\n",
       "      <td>7.0</td>\n",
       "      <td>Y</td>\n",
       "      <td>4.0</td>\n",
       "      <td>16.0</td>\n",
       "      <td>6.0</td>\n",
       "      <td>1900.0</td>\n",
       "      <td>2005.0</td>\n",
       "      <td>1970</td>\n",
       "      <td>...</td>\n",
       "      <td>Good</td>\n",
       "      <td>14.0</td>\n",
       "      <td>Common Brick</td>\n",
       "      <td>2.0</td>\n",
       "      <td>Built Up</td>\n",
       "      <td>6.0</td>\n",
       "      <td>Hardwood</td>\n",
       "      <td>4.0</td>\n",
       "      <td>4.0</td>\n",
       "      <td>2162</td>\n",
       "    </tr>\n",
       "    <tr>\n",
       "      <th>96301</th>\n",
       "      <td>2.0</td>\n",
       "      <td>1.0</td>\n",
       "      <td>13.0</td>\n",
       "      <td>Y</td>\n",
       "      <td>1.0</td>\n",
       "      <td>8.0</td>\n",
       "      <td>4.0</td>\n",
       "      <td>1960.0</td>\n",
       "      <td>1982.0</td>\n",
       "      <td>1971</td>\n",
       "      <td>...</td>\n",
       "      <td>Average</td>\n",
       "      <td>14.0</td>\n",
       "      <td>Common Brick</td>\n",
       "      <td>1.0</td>\n",
       "      <td>Comp Shingle</td>\n",
       "      <td>11.0</td>\n",
       "      <td>Hardwood/Carp</td>\n",
       "      <td>1.0</td>\n",
       "      <td>2.0</td>\n",
       "      <td>5750</td>\n",
       "    </tr>\n",
       "  </tbody>\n",
       "</table>\n",
       "<p>5 rows × 30 columns</p>\n",
       "</div>"
      ],
      "text/plain": [
       "       BATHRM  HF_BATHRM  HEAT AC  NUM_UNITS  ROOMS  BEDRM     AYB  YR_RMDL  \\\n",
       "84486     2.0        0.0   1.0  Y        1.0    6.0    3.0  1941.0   2012.0   \n",
       "77371     1.0        1.0  13.0  N        1.0    6.0    3.0  1939.0      NaN   \n",
       "59794     2.0        1.0  13.0  N        2.0    9.0    4.0  1907.0   2015.0   \n",
       "41950     4.0        0.0   7.0  Y        4.0   16.0    6.0  1900.0   2005.0   \n",
       "96301     2.0        1.0  13.0  Y        1.0    8.0    4.0  1960.0   1982.0   \n",
       "\n",
       "        EYB    ...     CNDTN_D EXTWALL     EXTWALL_D  ROOF        ROOF_D  \\\n",
       "84486  1964    ...        Good    14.0  Common Brick   2.0      Built Up   \n",
       "77371  1957    ...     Average    14.0  Common Brick  11.0         Slate   \n",
       "59794  1957    ...     Average    14.0  Common Brick  11.0         Slate   \n",
       "41950  1970    ...        Good    14.0  Common Brick   2.0      Built Up   \n",
       "96301  1971    ...     Average    14.0  Common Brick   1.0  Comp Shingle   \n",
       "\n",
       "       INTWALL      INTWALL_D  KITCHENS FIREPLACES  LANDAREA  \n",
       "84486     11.0  Hardwood/Carp       1.0        0.0      1040  \n",
       "77371      6.0       Hardwood       1.0        1.0      4880  \n",
       "59794      6.0       Hardwood       2.0        1.0      1500  \n",
       "41950      6.0       Hardwood       4.0        4.0      2162  \n",
       "96301     11.0  Hardwood/Carp       1.0        2.0      5750  \n",
       "\n",
       "[5 rows x 30 columns]"
      ]
     },
     "execution_count": 59,
     "metadata": {},
     "output_type": "execute_result"
    }
   ],
   "source": [
    "features.tail()"
   ]
  },
  {
   "cell_type": "code",
   "execution_count": 60,
   "metadata": {},
   "outputs": [
    {
     "data": {
      "text/plain": [
       "BATHRM           24\n",
       "HF_BATHRM        25\n",
       "HEAT             24\n",
       "AC               24\n",
       "NUM_UNITS        24\n",
       "ROOMS            39\n",
       "BEDRM            28\n",
       "AYB              12\n",
       "YR_RMDL       53849\n",
       "EYB               0\n",
       "STORIES          68\n",
       "SALEDATE          0\n",
       "PRICE         17967\n",
       "STYLE            24\n",
       "STYLE_D          24\n",
       "STRUCT           24\n",
       "STRUCT_D         24\n",
       "GRADE            24\n",
       "GRADE_D          24\n",
       "CNDTN            24\n",
       "CNDTN_D          24\n",
       "EXTWALL          24\n",
       "EXTWALL_D        24\n",
       "ROOF             24\n",
       "ROOF_D           24\n",
       "INTWALL          24\n",
       "INTWALL_D        24\n",
       "KITCHENS         25\n",
       "FIREPLACES       25\n",
       "LANDAREA          0\n",
       "dtype: int64"
      ]
     },
     "execution_count": 60,
     "metadata": {},
     "output_type": "execute_result"
    }
   ],
   "source": [
    "features.isnull().sum()"
   ]
  },
  {
   "cell_type": "code",
   "execution_count": 61,
   "metadata": {},
   "outputs": [
    {
     "data": {
      "text/plain": [
       "(98, 30)"
      ]
     },
     "execution_count": 61,
     "metadata": {},
     "output_type": "execute_result"
    }
   ],
   "source": [
    "# Looks like there are only a few rows with null outside of YR_RMDL and PRICE..\n",
    "\n",
    "features[features.drop(['YR_RMDL', 'PRICE'],axis=1).isnull().any(axis=1)].shape"
   ]
  },
  {
   "cell_type": "code",
   "execution_count": 62,
   "metadata": {},
   "outputs": [
    {
     "data": {
      "text/plain": [
       "BATHRM            0\n",
       "HF_BATHRM         0\n",
       "HEAT              0\n",
       "AC                0\n",
       "NUM_UNITS         0\n",
       "ROOMS             0\n",
       "BEDRM             0\n",
       "AYB               0\n",
       "YR_RMDL       53762\n",
       "EYB               0\n",
       "STORIES           0\n",
       "SALEDATE          0\n",
       "PRICE         17966\n",
       "STYLE             0\n",
       "STYLE_D           0\n",
       "STRUCT            0\n",
       "STRUCT_D          0\n",
       "GRADE             0\n",
       "GRADE_D           0\n",
       "CNDTN             0\n",
       "CNDTN_D           0\n",
       "EXTWALL           0\n",
       "EXTWALL_D         0\n",
       "ROOF              0\n",
       "ROOF_D            0\n",
       "INTWALL           0\n",
       "INTWALL_D         0\n",
       "KITCHENS          0\n",
       "FIREPLACES        0\n",
       "LANDAREA          0\n",
       "dtype: int64"
      ]
     },
     "execution_count": 62,
     "metadata": {},
     "output_type": "execute_result"
    }
   ],
   "source": [
    "# Let's make sure...\n",
    "\n",
    "drop_rows = features[features.drop(['YR_RMDL', 'PRICE'],axis=1).isnull().any(axis=1)].index\n",
    "features.drop(drop_rows, axis=0).isnull().sum()"
   ]
  },
  {
   "cell_type": "code",
   "execution_count": 63,
   "metadata": {},
   "outputs": [],
   "source": [
    "# Great, let's take those out...\n",
    "\n",
    "features = features.drop(drop_rows, axis=0)\n",
    "\n",
    "# ...call non-remodeled houses '0' and drop houses without prices...\n",
    "\n",
    "features['YR_RMDL'] = features['YR_RMDL'].fillna(0)\n",
    "features = features.dropna(subset=['PRICE'])"
   ]
  },
  {
   "cell_type": "code",
   "execution_count": 64,
   "metadata": {},
   "outputs": [
    {
     "data": {
      "text/plain": [
       "Index(['BATHRM', 'HF_BATHRM', 'HEAT', 'AC', 'NUM_UNITS', 'ROOMS', 'BEDRM',\n",
       "       'AYB', 'YR_RMDL', 'EYB', 'STORIES', 'SALEDATE', 'PRICE', 'STYLE',\n",
       "       'STYLE_D', 'STRUCT', 'STRUCT_D', 'GRADE', 'GRADE_D', 'CNDTN', 'CNDTN_D',\n",
       "       'EXTWALL', 'EXTWALL_D', 'ROOF', 'ROOF_D', 'INTWALL', 'INTWALL_D',\n",
       "       'KITCHENS', 'FIREPLACES', 'LANDAREA'],\n",
       "      dtype='object')"
      ]
     },
     "execution_count": 64,
     "metadata": {},
     "output_type": "execute_result"
    }
   ],
   "source": [
    "features.columns"
   ]
  },
  {
   "cell_type": "code",
   "execution_count": 65,
   "metadata": {},
   "outputs": [],
   "source": [
    "# What else can we do about categorical data?\n",
    "# Let's drop a few things...\n",
    "\n",
    "features = features.drop(['STYLE_D', 'STRUCT_D', 'EXTWALL_D', 'ROOF_D', 'INTWALL_D'], axis=1)"
   ]
  },
  {
   "cell_type": "code",
   "execution_count": 66,
   "metadata": {},
   "outputs": [],
   "source": [
    "# Let's replace and encode a few things...\n",
    "\n",
    "features['AC'] = features['AC'].replace('Y', 1)\n",
    "features['AC'] = features['AC'].replace('N', 0)\n",
    "\n",
    "features['GRADE_D'] = features['GRADE_D'].replace('No Data', 0)\n",
    "features['GRADE_D'] = features['GRADE_D'].replace('Low Quality', 1)\n",
    "features['GRADE_D'] = features['GRADE_D'].replace('Fair Quality', 2)\n",
    "features['GRADE_D'] = features['GRADE_D'].replace('Average', 3)\n",
    "features['GRADE_D'] = features['GRADE_D'].replace('Good Quality', 4)\n",
    "features['GRADE_D'] = features['GRADE_D'].replace('Above Average', 5)\n",
    "features['GRADE_D'] = features['GRADE_D'].replace('Very Good', 6)\n",
    "features['GRADE_D'] = features['GRADE_D'].replace('Excellent', 7)\n",
    "features['GRADE_D'] = features['GRADE_D'].replace('Superior', 8)\n",
    "features['GRADE_D'] = features['GRADE_D'].replace('Exceptional-D', 9)\n",
    "features['GRADE_D'] = features['GRADE_D'].replace('Exceptional-C', 10)\n",
    "features['GRADE_D'] = features['GRADE_D'].replace('Exceptional-B', 11)\n",
    "features['GRADE_D'] = features['GRADE_D'].replace('Exceptional-A', 12)\n",
    "\n",
    "features['CNDTN_D'] = features['CNDTN_D'].replace('Default', 0)\n",
    "features['CNDTN_D'] = features['CNDTN_D'].replace('Poor', 1)\n",
    "features['CNDTN_D'] = features['CNDTN_D'].replace('Fair', 2)\n",
    "features['CNDTN_D'] = features['CNDTN_D'].replace('Average', 3)\n",
    "features['CNDTN_D'] = features['CNDTN_D'].replace('Good', 4)\n",
    "features['CNDTN_D'] = features['CNDTN_D'].replace('Very Good', 5)\n",
    "features['CNDTN_D'] = features['CNDTN_D'].replace('Excellent', 6)"
   ]
  },
  {
   "cell_type": "code",
   "execution_count": 67,
   "metadata": {},
   "outputs": [],
   "source": [
    "# Extracting month and year from sale date\n",
    "\n",
    "import datetime\n",
    "\n",
    "features['SALEDATE'] = pd.to_datetime(features['SALEDATE'])\n",
    "features['SALEYEAR'], features['SALEMONTH'] = features['SALEDATE'].dt.year, features['SALEDATE'].dt.month\n",
    "\n",
    "features = features.drop(['SALEDATE'], axis=1)"
   ]
  },
  {
   "cell_type": "code",
   "execution_count": 68,
   "metadata": {},
   "outputs": [
    {
     "data": {
      "text/plain": [
       "BATHRM        float64\n",
       "HF_BATHRM     float64\n",
       "HEAT          float64\n",
       "AC             object\n",
       "NUM_UNITS     float64\n",
       "ROOMS         float64\n",
       "BEDRM         float64\n",
       "AYB           float64\n",
       "YR_RMDL       float64\n",
       "EYB             int64\n",
       "STORIES       float64\n",
       "PRICE         float64\n",
       "STYLE         float64\n",
       "STRUCT        float64\n",
       "GRADE         float64\n",
       "GRADE_D         int64\n",
       "CNDTN         float64\n",
       "CNDTN_D         int64\n",
       "EXTWALL       float64\n",
       "ROOF          float64\n",
       "INTWALL       float64\n",
       "KITCHENS      float64\n",
       "FIREPLACES    float64\n",
       "LANDAREA        int64\n",
       "SALEYEAR        int64\n",
       "SALEMONTH       int64\n",
       "dtype: object"
      ]
     },
     "execution_count": 68,
     "metadata": {},
     "output_type": "execute_result"
    }
   ],
   "source": [
    "features.dtypes"
   ]
  },
  {
   "cell_type": "code",
   "execution_count": 69,
   "metadata": {},
   "outputs": [
    {
     "data": {
      "text/html": [
       "<div>\n",
       "<style scoped>\n",
       "    .dataframe tbody tr th:only-of-type {\n",
       "        vertical-align: middle;\n",
       "    }\n",
       "\n",
       "    .dataframe tbody tr th {\n",
       "        vertical-align: top;\n",
       "    }\n",
       "\n",
       "    .dataframe thead th {\n",
       "        text-align: right;\n",
       "    }\n",
       "</style>\n",
       "<table border=\"1\" class=\"dataframe\">\n",
       "  <thead>\n",
       "    <tr style=\"text-align: right;\">\n",
       "      <th></th>\n",
       "      <th>BATHRM</th>\n",
       "      <th>HF_BATHRM</th>\n",
       "      <th>HEAT</th>\n",
       "      <th>AC</th>\n",
       "      <th>NUM_UNITS</th>\n",
       "      <th>ROOMS</th>\n",
       "      <th>BEDRM</th>\n",
       "      <th>AYB</th>\n",
       "      <th>YR_RMDL</th>\n",
       "      <th>EYB</th>\n",
       "      <th>...</th>\n",
       "      <th>CNDTN</th>\n",
       "      <th>CNDTN_D</th>\n",
       "      <th>EXTWALL</th>\n",
       "      <th>ROOF</th>\n",
       "      <th>INTWALL</th>\n",
       "      <th>KITCHENS</th>\n",
       "      <th>FIREPLACES</th>\n",
       "      <th>LANDAREA</th>\n",
       "      <th>SALEYEAR</th>\n",
       "      <th>SALEMONTH</th>\n",
       "    </tr>\n",
       "  </thead>\n",
       "  <tbody>\n",
       "    <tr>\n",
       "      <th>21335</th>\n",
       "      <td>3.0</td>\n",
       "      <td>1.0</td>\n",
       "      <td>7.0</td>\n",
       "      <td>1</td>\n",
       "      <td>1.0</td>\n",
       "      <td>7.0</td>\n",
       "      <td>3.0</td>\n",
       "      <td>1936.0</td>\n",
       "      <td>2015.0</td>\n",
       "      <td>1987</td>\n",
       "      <td>...</td>\n",
       "      <td>3.0</td>\n",
       "      <td>3</td>\n",
       "      <td>14.0</td>\n",
       "      <td>11.0</td>\n",
       "      <td>6.0</td>\n",
       "      <td>2.0</td>\n",
       "      <td>2.0</td>\n",
       "      <td>1208</td>\n",
       "      <td>2017</td>\n",
       "      <td>9</td>\n",
       "    </tr>\n",
       "    <tr>\n",
       "      <th>37981</th>\n",
       "      <td>3.0</td>\n",
       "      <td>1.0</td>\n",
       "      <td>7.0</td>\n",
       "      <td>1</td>\n",
       "      <td>1.0</td>\n",
       "      <td>7.0</td>\n",
       "      <td>3.0</td>\n",
       "      <td>1931.0</td>\n",
       "      <td>1992.0</td>\n",
       "      <td>1969</td>\n",
       "      <td>...</td>\n",
       "      <td>5.0</td>\n",
       "      <td>5</td>\n",
       "      <td>14.0</td>\n",
       "      <td>11.0</td>\n",
       "      <td>6.0</td>\n",
       "      <td>1.0</td>\n",
       "      <td>1.0</td>\n",
       "      <td>5111</td>\n",
       "      <td>2017</td>\n",
       "      <td>12</td>\n",
       "    </tr>\n",
       "    <tr>\n",
       "      <th>73086</th>\n",
       "      <td>2.0</td>\n",
       "      <td>0.0</td>\n",
       "      <td>7.0</td>\n",
       "      <td>1</td>\n",
       "      <td>1.0</td>\n",
       "      <td>8.0</td>\n",
       "      <td>4.0</td>\n",
       "      <td>1978.0</td>\n",
       "      <td>0.0</td>\n",
       "      <td>1986</td>\n",
       "      <td>...</td>\n",
       "      <td>3.0</td>\n",
       "      <td>3</td>\n",
       "      <td>19.0</td>\n",
       "      <td>1.0</td>\n",
       "      <td>3.0</td>\n",
       "      <td>1.0</td>\n",
       "      <td>0.0</td>\n",
       "      <td>3275</td>\n",
       "      <td>1900</td>\n",
       "      <td>1</td>\n",
       "    </tr>\n",
       "    <tr>\n",
       "      <th>57479</th>\n",
       "      <td>1.0</td>\n",
       "      <td>0.0</td>\n",
       "      <td>13.0</td>\n",
       "      <td>0</td>\n",
       "      <td>1.0</td>\n",
       "      <td>9.0</td>\n",
       "      <td>4.0</td>\n",
       "      <td>1926.0</td>\n",
       "      <td>1984.0</td>\n",
       "      <td>1950</td>\n",
       "      <td>...</td>\n",
       "      <td>3.0</td>\n",
       "      <td>3</td>\n",
       "      <td>14.0</td>\n",
       "      <td>11.0</td>\n",
       "      <td>6.0</td>\n",
       "      <td>1.0</td>\n",
       "      <td>0.0</td>\n",
       "      <td>2565</td>\n",
       "      <td>1999</td>\n",
       "      <td>4</td>\n",
       "    </tr>\n",
       "    <tr>\n",
       "      <th>68342</th>\n",
       "      <td>1.0</td>\n",
       "      <td>0.0</td>\n",
       "      <td>7.0</td>\n",
       "      <td>1</td>\n",
       "      <td>1.0</td>\n",
       "      <td>6.0</td>\n",
       "      <td>3.0</td>\n",
       "      <td>1938.0</td>\n",
       "      <td>0.0</td>\n",
       "      <td>1957</td>\n",
       "      <td>...</td>\n",
       "      <td>3.0</td>\n",
       "      <td>3</td>\n",
       "      <td>14.0</td>\n",
       "      <td>6.0</td>\n",
       "      <td>11.0</td>\n",
       "      <td>1.0</td>\n",
       "      <td>0.0</td>\n",
       "      <td>1600</td>\n",
       "      <td>2002</td>\n",
       "      <td>3</td>\n",
       "    </tr>\n",
       "  </tbody>\n",
       "</table>\n",
       "<p>5 rows × 26 columns</p>\n",
       "</div>"
      ],
      "text/plain": [
       "       BATHRM  HF_BATHRM  HEAT AC  NUM_UNITS  ROOMS  BEDRM     AYB  YR_RMDL  \\\n",
       "21335     3.0        1.0   7.0  1        1.0    7.0    3.0  1936.0   2015.0   \n",
       "37981     3.0        1.0   7.0  1        1.0    7.0    3.0  1931.0   1992.0   \n",
       "73086     2.0        0.0   7.0  1        1.0    8.0    4.0  1978.0      0.0   \n",
       "57479     1.0        0.0  13.0  0        1.0    9.0    4.0  1926.0   1984.0   \n",
       "68342     1.0        0.0   7.0  1        1.0    6.0    3.0  1938.0      0.0   \n",
       "\n",
       "        EYB    ...      CNDTN  CNDTN_D  EXTWALL  ROOF  INTWALL  KITCHENS  \\\n",
       "21335  1987    ...        3.0        3     14.0  11.0      6.0       2.0   \n",
       "37981  1969    ...        5.0        5     14.0  11.0      6.0       1.0   \n",
       "73086  1986    ...        3.0        3     19.0   1.0      3.0       1.0   \n",
       "57479  1950    ...        3.0        3     14.0  11.0      6.0       1.0   \n",
       "68342  1957    ...        3.0        3     14.0   6.0     11.0       1.0   \n",
       "\n",
       "       FIREPLACES  LANDAREA  SALEYEAR  SALEMONTH  \n",
       "21335         2.0      1208      2017          9  \n",
       "37981         1.0      5111      2017         12  \n",
       "73086         0.0      3275      1900          1  \n",
       "57479         0.0      2565      1999          4  \n",
       "68342         0.0      1600      2002          3  \n",
       "\n",
       "[5 rows x 26 columns]"
      ]
     },
     "execution_count": 69,
     "metadata": {},
     "output_type": "execute_result"
    }
   ],
   "source": [
    "features.head()"
   ]
  },
  {
   "cell_type": "code",
   "execution_count": 70,
   "metadata": {},
   "outputs": [],
   "source": [
    "X = features.drop(['PRICE'], axis=1)\n",
    "y = features['PRICE']"
   ]
  },
  {
   "cell_type": "code",
   "execution_count": 71,
   "metadata": {},
   "outputs": [
    {
     "data": {
      "image/png": "[encoded data removed]",
      "text/plain": [
       "<Figure size 1080x576 with 2 Axes>"
      ]
     },
     "metadata": {
      "needs_background": "light"
     },
     "output_type": "display_data"
    }
   ],
   "source": [
    "f,ax = plt.subplots(figsize=(15, 8))\n",
    "sns.heatmap(X.corr(), annot=True, linewidths=.2, fmt= '.1f',ax=ax)\n",
    "plt.show()"
   ]
  },
  {
   "cell_type": "code",
   "execution_count": 72,
   "metadata": {},
   "outputs": [
    {
     "name": "stdout",
     "output_type": "stream",
     "text": [
      "(73742, 25) (73742,)\n",
      "(8194, 25) (8194,)\n"
     ]
    }
   ],
   "source": [
    "from sklearn.model_selection import train_test_split\n",
    "\n",
    "X_train, X_test, y_train, y_test = train_test_split(X, y, test_size=0.1)\n",
    "\n",
    "print(X_train.shape, y_train.shape)\n",
    "print(X_test.shape, y_test.shape)"
   ]
  },
  {
   "cell_type": "markdown",
   "metadata": {},
   "source": [
    "**Random Forest Regressor**"
   ]
  },
  {
   "cell_type": "code",
   "execution_count": 73,
   "metadata": {},
   "outputs": [
    {
     "name": "stderr",
     "output_type": "stream",
     "text": [
      "/anaconda3/lib/python3.6/site-packages/sklearn/ensemble/forest.py:246: FutureWarning: The default value of n_estimators will change from 10 in version 0.20 to 100 in 0.22.\n",
      "  \"10 in version 0.20 to 100 in 0.22.\", FutureWarning)\n"
     ]
    },
    {
     "data": {
      "text/plain": [
       "RandomForestRegressor(bootstrap=True, criterion='mse', max_depth=None,\n",
       "           max_features='auto', max_leaf_nodes=None,\n",
       "           min_impurity_decrease=0.0, min_impurity_split=None,\n",
       "           min_samples_leaf=1, min_samples_split=2,\n",
       "           min_weight_fraction_leaf=0.0, n_estimators=10, n_jobs=None,\n",
       "           oob_score=False, random_state=None, verbose=0, warm_start=False)"
      ]
     },
     "execution_count": 73,
     "metadata": {},
     "output_type": "execute_result"
    }
   ],
   "source": [
    "from sklearn.ensemble import RandomForestRegressor\n",
    "from sklearn.model_selection import cross_val_score\n",
    "\n",
    "rfr = ensemble.RandomForestRegressor(n_estimators=500)\n",
    "\n",
    "rfr = RandomForestRegressor()\n",
    "rfr.fit(X, y)"
   ]
  },
  {
   "cell_type": "code",
   "execution_count": 74,
   "metadata": {},
   "outputs": [
    {
     "data": {
      "text/html": [
       "<div>\n",
       "<style scoped>\n",
       "    .dataframe tbody tr th:only-of-type {\n",
       "        vertical-align: middle;\n",
       "    }\n",
       "\n",
       "    .dataframe tbody tr th {\n",
       "        vertical-align: top;\n",
       "    }\n",
       "\n",
       "    .dataframe thead th {\n",
       "        text-align: right;\n",
       "    }\n",
       "</style>\n",
       "<table border=\"1\" class=\"dataframe\">\n",
       "  <thead>\n",
       "    <tr style=\"text-align: right;\">\n",
       "      <th></th>\n",
       "      <th>importance</th>\n",
       "    </tr>\n",
       "  </thead>\n",
       "  <tbody>\n",
       "    <tr>\n",
       "      <th>GRADE</th>\n",
       "      <td>0.117325</td>\n",
       "    </tr>\n",
       "    <tr>\n",
       "      <th>EYB</th>\n",
       "      <td>0.103639</td>\n",
       "    </tr>\n",
       "    <tr>\n",
       "      <th>SALEYEAR</th>\n",
       "      <td>0.100288</td>\n",
       "    </tr>\n",
       "    <tr>\n",
       "      <th>GRADE_D</th>\n",
       "      <td>0.088071</td>\n",
       "    </tr>\n",
       "    <tr>\n",
       "      <th>LANDAREA</th>\n",
       "      <td>0.088031</td>\n",
       "    </tr>\n",
       "    <tr>\n",
       "      <th>AYB</th>\n",
       "      <td>0.074864</td>\n",
       "    </tr>\n",
       "    <tr>\n",
       "      <th>BATHRM</th>\n",
       "      <td>0.067166</td>\n",
       "    </tr>\n",
       "    <tr>\n",
       "      <th>YR_RMDL</th>\n",
       "      <td>0.049631</td>\n",
       "    </tr>\n",
       "    <tr>\n",
       "      <th>ROOMS</th>\n",
       "      <td>0.043361</td>\n",
       "    </tr>\n",
       "    <tr>\n",
       "      <th>SALEMONTH</th>\n",
       "      <td>0.036119</td>\n",
       "    </tr>\n",
       "    <tr>\n",
       "      <th>BEDRM</th>\n",
       "      <td>0.028828</td>\n",
       "    </tr>\n",
       "    <tr>\n",
       "      <th>FIREPLACES</th>\n",
       "      <td>0.028636</td>\n",
       "    </tr>\n",
       "    <tr>\n",
       "      <th>CNDTN</th>\n",
       "      <td>0.025246</td>\n",
       "    </tr>\n",
       "    <tr>\n",
       "      <th>HF_BATHRM</th>\n",
       "      <td>0.021424</td>\n",
       "    </tr>\n",
       "    <tr>\n",
       "      <th>EXTWALL</th>\n",
       "      <td>0.019247</td>\n",
       "    </tr>\n",
       "    <tr>\n",
       "      <th>ROOF</th>\n",
       "      <td>0.017666</td>\n",
       "    </tr>\n",
       "    <tr>\n",
       "      <th>CNDTN_D</th>\n",
       "      <td>0.015983</td>\n",
       "    </tr>\n",
       "    <tr>\n",
       "      <th>STRUCT</th>\n",
       "      <td>0.014233</td>\n",
       "    </tr>\n",
       "    <tr>\n",
       "      <th>STORIES</th>\n",
       "      <td>0.013499</td>\n",
       "    </tr>\n",
       "    <tr>\n",
       "      <th>HEAT</th>\n",
       "      <td>0.011563</td>\n",
       "    </tr>\n",
       "    <tr>\n",
       "      <th>INTWALL</th>\n",
       "      <td>0.009601</td>\n",
       "    </tr>\n",
       "    <tr>\n",
       "      <th>STYLE</th>\n",
       "      <td>0.008655</td>\n",
       "    </tr>\n",
       "    <tr>\n",
       "      <th>KITCHENS</th>\n",
       "      <td>0.008575</td>\n",
       "    </tr>\n",
       "    <tr>\n",
       "      <th>AC</th>\n",
       "      <td>0.004680</td>\n",
       "    </tr>\n",
       "    <tr>\n",
       "      <th>NUM_UNITS</th>\n",
       "      <td>0.003669</td>\n",
       "    </tr>\n",
       "  </tbody>\n",
       "</table>\n",
       "</div>"
      ],
      "text/plain": [
       "            importance\n",
       "GRADE         0.117325\n",
       "EYB           0.103639\n",
       "SALEYEAR      0.100288\n",
       "GRADE_D       0.088071\n",
       "LANDAREA      0.088031\n",
       "AYB           0.074864\n",
       "BATHRM        0.067166\n",
       "YR_RMDL       0.049631\n",
       "ROOMS         0.043361\n",
       "SALEMONTH     0.036119\n",
       "BEDRM         0.028828\n",
       "FIREPLACES    0.028636\n",
       "CNDTN         0.025246\n",
       "HF_BATHRM     0.021424\n",
       "EXTWALL       0.019247\n",
       "ROOF          0.017666\n",
       "CNDTN_D       0.015983\n",
       "STRUCT        0.014233\n",
       "STORIES       0.013499\n",
       "HEAT          0.011563\n",
       "INTWALL       0.009601\n",
       "STYLE         0.008655\n",
       "KITCHENS      0.008575\n",
       "AC            0.004680\n",
       "NUM_UNITS     0.003669"
      ]
     },
     "execution_count": 74,
     "metadata": {},
     "output_type": "execute_result"
    }
   ],
   "source": [
    "feature_importances = pd.DataFrame(rfr.feature_importances_,\n",
    "                                   index = X.columns,\n",
    "                                   columns=['importance']).sort_values('importance', ascending=False)\n",
    "\n",
    "feature_importances"
   ]
  },
  {
   "cell_type": "code",
   "execution_count": 85,
   "metadata": {},
   "outputs": [
    {
     "name": "stdout",
     "output_type": "stream",
     "text": [
      "(73742, 25) (73742,)\n",
      "(8194, 25) (8194,)\n"
     ]
    }
   ],
   "source": [
    "X = features.drop(['PRICE', 'INTWALL', 'STYLE', 'KITCHENS', 'AC', 'NUM_UNITS'], axis=1)\n",
    "y = features['PRICE']\n",
    "\n",
    "x_train, x_test, y_train, y_test = train_test_split(X, y, test_size=0.1)\n",
    "\n",
    "print(X_train.shape, y_train.shape)\n",
    "print(X_test.shape, y_test.shape)"
   ]
  },
  {
   "cell_type": "code",
   "execution_count": 86,
   "metadata": {},
   "outputs": [
    {
     "name": "stdout",
     "output_type": "stream",
     "text": [
      "[0.48036628 0.3836273  0.42882447 0.45378979 0.32767254]\n"
     ]
    }
   ],
   "source": [
    "score = cross_val_score(rfr, X, y, cv=5)\n",
    "print(score)"
   ]
  },
  {
   "cell_type": "markdown",
   "metadata": {},
   "source": [
    "**Boosting Model**"
   ]
  },
  {
   "cell_type": "code",
   "execution_count": 104,
   "metadata": {},
   "outputs": [
    {
     "data": {
      "text/plain": [
       "GradientBoostingRegressor(alpha=0.9, criterion='friedman_mse', init=None,\n",
       "             learning_rate=0.1, loss='ls', max_depth=5, max_features=12,\n",
       "             max_leaf_nodes=None, min_impurity_decrease=0.0,\n",
       "             min_impurity_split=None, min_samples_leaf=1,\n",
       "             min_samples_split=2, min_weight_fraction_leaf=0.0,\n",
       "             n_estimators=400, n_iter_no_change=None, presort='auto',\n",
       "             random_state=0, subsample=1, tol=0.0001,\n",
       "             validation_fraction=0.1, verbose=0, warm_start=False)"
      ]
     },
     "execution_count": 104,
     "metadata": {},
     "output_type": "execute_result"
    }
   ],
   "source": [
    "model = ensemble.GradientBoostingRegressor(n_estimators=400, random_state=0, max_features=12,\n",
    "                                  max_depth=5, learning_rate=0.1, subsample=1)\n",
    "model.fit(X, y)"
   ]
  },
  {
   "cell_type": "code",
   "execution_count": 105,
   "metadata": {},
   "outputs": [
    {
     "data": {
      "text/plain": [
       "0.7261171218819513"
      ]
     },
     "execution_count": 105,
     "metadata": {},
     "output_type": "execute_result"
    }
   ],
   "source": [
    "model.score(X, y)"
   ]
  },
  {
   "cell_type": "markdown",
   "metadata": {},
   "source": [
    "**SKLearn MLPClassifier**"
   ]
  },
  {
   "cell_type": "code",
   "execution_count": 115,
   "metadata": {},
   "outputs": [
    {
     "data": {
      "text/plain": [
       "MLPRegressor(activation='relu', alpha=1e-05, batch_size='auto', beta_1=0.9,\n",
       "       beta_2=0.999, early_stopping=False, epsilon=1e-08,\n",
       "       hidden_layer_sizes=(100, 50, 25), learning_rate='constant',\n",
       "       learning_rate_init=0.001, max_iter=200, momentum=0.9,\n",
       "       n_iter_no_change=10, nesterovs_momentum=True, power_t=0.5,\n",
       "       random_state=0, shuffle=True, solver='adam', tol=0.0001,\n",
       "       validation_fraction=0.1, verbose=False, warm_start=False)"
      ]
     },
     "execution_count": 115,
     "metadata": {},
     "output_type": "execute_result"
    }
   ],
   "source": [
    "mlp = MLPRegressor(random_state=0, alpha=1e-5, hidden_layer_sizes=(100, 50, 25))\n",
    "\n",
    "mlp.fit(X, y)"
   ]
  },
  {
   "cell_type": "code",
   "execution_count": 117,
   "metadata": {},
   "outputs": [
    {
     "data": {
      "text/plain": [
       "0.3483076711462017"
      ]
     },
     "execution_count": 117,
     "metadata": {},
     "output_type": "execute_result"
    }
   ],
   "source": [
    "mlp.score(X, y)"
   ]
  }
 ],
 "metadata": {
  "kernelspec": {
   "display_name": "Python 3",
   "language": "python",
   "name": "python3"
  },
  "language_info": {
   "codemirror_mode": {
    "name": "ipython",
    "version": 3
   },
   "file_extension": ".py",
   "mimetype": "text/x-python",
   "name": "python",
   "nbconvert_exporter": "python",
   "pygments_lexer": "ipython3",
   "version": "3.6.6"
  }
 },
 "nbformat": 4,
 "nbformat_minor": 2
}
