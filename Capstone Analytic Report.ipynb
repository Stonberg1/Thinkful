{
 "cells": [
  {
   "cell_type": "code",
   "execution_count": 2,
   "metadata": {
    "collapsed": true
   },
   "outputs": [],
   "source": [
    "import numpy as np\n",
    "import pandas as pd\n",
    "import scipy\n",
    "import matplotlib.pyplot as plt\n",
    "%matplotlib inline"
   ]
  },
  {
   "cell_type": "code",
   "execution_count": 3,
   "metadata": {
    "collapsed": false
   },
   "outputs": [],
   "source": [
    "df2015 = pd.read_csv('finishers-boston-marathon-2015-2016-2017/marathon_results_2015.csv')\n",
    "df2016 = pd.read_csv('finishers-boston-marathon-2015-2016-2017/marathon_results_2016.csv')\n",
    "df2017 = pd.read_csv('finishers-boston-marathon-2015-2016-2017/marathon_results_2017.csv')"
   ]
  },
  {
   "cell_type": "code",
   "execution_count": 4,
   "metadata": {
    "collapsed": false
   },
   "outputs": [
    {
     "name": "stdout",
     "output_type": "stream",
     "text": [
      "82 83 84\n"
     ]
    }
   ],
   "source": [
    "# Summary statistics\n",
    "# Oldest by Year\n",
    "# Figure 1\n",
    "\n",
    "print(df2015['Age'].max(), df2016['Age'].max(), df2017['Age'].max())"
   ]
  },
  {
   "cell_type": "code",
   "execution_count": 5,
   "metadata": {
    "collapsed": false
   },
   "outputs": [
    {
     "data": {
      "text/html": [
       "<div>\n",
       "<table border=\"1\" class=\"dataframe\">\n",
       "  <thead>\n",
       "    <tr style=\"text-align: right;\">\n",
       "      <th></th>\n",
       "      <th>Unnamed: 0</th>\n",
       "      <th>Bib</th>\n",
       "      <th>Name</th>\n",
       "      <th>Age</th>\n",
       "      <th>M/F</th>\n",
       "      <th>City</th>\n",
       "      <th>State</th>\n",
       "      <th>Country</th>\n",
       "      <th>Citizen</th>\n",
       "      <th>Unnamed: 9</th>\n",
       "      <th>...</th>\n",
       "      <th>25K</th>\n",
       "      <th>30K</th>\n",
       "      <th>35K</th>\n",
       "      <th>40K</th>\n",
       "      <th>Pace</th>\n",
       "      <th>Proj Time</th>\n",
       "      <th>Official Time</th>\n",
       "      <th>Overall</th>\n",
       "      <th>Gender</th>\n",
       "      <th>Division</th>\n",
       "    </tr>\n",
       "  </thead>\n",
       "  <tbody>\n",
       "    <tr>\n",
       "      <th>0</th>\n",
       "      <td>0</td>\n",
       "      <td>11</td>\n",
       "      <td>Kirui, Geoffrey</td>\n",
       "      <td>24</td>\n",
       "      <td>M</td>\n",
       "      <td>Keringet</td>\n",
       "      <td>NaN</td>\n",
       "      <td>KEN</td>\n",
       "      <td>NaN</td>\n",
       "      <td>NaN</td>\n",
       "      <td>...</td>\n",
       "      <td>1:16:59</td>\n",
       "      <td>1:33:01</td>\n",
       "      <td>1:48:19</td>\n",
       "      <td>2:02:53</td>\n",
       "      <td>0:04:57</td>\n",
       "      <td>-</td>\n",
       "      <td>2:09:37</td>\n",
       "      <td>1</td>\n",
       "      <td>1</td>\n",
       "      <td>1</td>\n",
       "    </tr>\n",
       "    <tr>\n",
       "      <th>20</th>\n",
       "      <td>20</td>\n",
       "      <td>F3</td>\n",
       "      <td>Kiplagat, Edna</td>\n",
       "      <td>37</td>\n",
       "      <td>F</td>\n",
       "      <td>Uasin Gishu</td>\n",
       "      <td>NaN</td>\n",
       "      <td>KEN</td>\n",
       "      <td>NaN</td>\n",
       "      <td>NaN</td>\n",
       "      <td>...</td>\n",
       "      <td>1:25:51</td>\n",
       "      <td>1:42:40</td>\n",
       "      <td>1:58:41</td>\n",
       "      <td>2:14:43</td>\n",
       "      <td>0:05:25</td>\n",
       "      <td>-</td>\n",
       "      <td>2:21:52</td>\n",
       "      <td>21</td>\n",
       "      <td>1</td>\n",
       "      <td>1</td>\n",
       "    </tr>\n",
       "  </tbody>\n",
       "</table>\n",
       "<p>2 rows × 25 columns</p>\n",
       "</div>"
      ],
      "text/plain": [
       "    Unnamed: 0 Bib             Name  Age M/F         City State Country  \\\n",
       "0            0  11  Kirui, Geoffrey   24   M     Keringet   NaN     KEN   \n",
       "20          20  F3   Kiplagat, Edna   37   F  Uasin Gishu   NaN     KEN   \n",
       "\n",
       "   Citizen Unnamed: 9   ...         25K      30K      35K      40K     Pace  \\\n",
       "0      NaN        NaN   ...     1:16:59  1:33:01  1:48:19  2:02:53  0:04:57   \n",
       "20     NaN        NaN   ...     1:25:51  1:42:40  1:58:41  2:14:43  0:05:25   \n",
       "\n",
       "   Proj Time Official Time Overall Gender Division  \n",
       "0          -       2:09:37       1      1        1  \n",
       "20         -       2:21:52      21      1        1  \n",
       "\n",
       "[2 rows x 25 columns]"
      ]
     },
     "execution_count": 5,
     "metadata": {},
     "output_type": "execute_result"
    }
   ],
   "source": [
    "# Summary statistics\n",
    "# 2017 Top Overall Man and Woman\n",
    "# Figure 2\n",
    "\n",
    "df2017[df2017['Gender'] == 1]"
   ]
  },
  {
   "cell_type": "code",
   "execution_count": 6,
   "metadata": {
    "collapsed": false
   },
   "outputs": [
    {
     "data": {
      "image/png": "[encoded data removed]",
      "text/plain": [
       "<matplotlib.figure.Figure at 0x121ee4320>"
      ]
     },
     "metadata": {},
     "output_type": "display_data"
    }
   ],
   "source": [
    "# Preliminary visualizations\n",
    "# 2017 Top Overall Men and Women - Ages\n",
    "# Figure 3\n",
    "\n",
    "plt.hist(df2017['Age'][df2017['Gender'] <= 50][df2017['M/F'] == 'F'], normed=True, color='g', bins=10, alpha=.5)\n",
    "plt.hist(df2017['Age'][df2017['Gender'] <= 50][df2017['M/F'] == 'M'], normed=True, color='steelblue', bins=10, alpha=.5)\n",
    "plt.title('2017 Top Overall Men and Women - Ages')\n",
    "plt.xlabel('Ages')\n",
    "plt.grid(True)\n",
    "\n",
    "plt.show()"
   ]
  },
  {
   "cell_type": "code",
   "execution_count": 7,
   "metadata": {
    "collapsed": false
   },
   "outputs": [
    {
     "data": {
      "text/plain": [
       "USA    20945\n",
       "CAN     1870\n",
       "GBR      425\n",
       "MEX      285\n",
       "CHN      242\n",
       "GER      226\n",
       "BRA      205\n",
       "AUS      191\n",
       "JPN      170\n",
       "ITA      165\n",
       "Name: Country, dtype: int64"
      ]
     },
     "execution_count": 7,
     "metadata": {},
     "output_type": "execute_result"
    }
   ],
   "source": [
    "# Looking at Top Country Participation\n",
    "\n",
    "Country_counts = df2017['Country'].value_counts()\n",
    "Country_counts.iloc[0:10]"
   ]
  },
  {
   "cell_type": "code",
   "execution_count": 8,
   "metadata": {
    "collapsed": false
   },
   "outputs": [
    {
     "data": {
      "text/plain": [
       "8"
      ]
     },
     "execution_count": 8,
     "metadata": {},
     "output_type": "execute_result"
    }
   ],
   "source": [
    "# Throwing in Kenya for fun...and removing USA...\n",
    "\n",
    "Country_counts.loc['KEN']"
   ]
  },
  {
   "cell_type": "code",
   "execution_count": 10,
   "metadata": {
    "collapsed": false
   },
   "outputs": [
    {
     "data": {
      "image/png": "[encoded data removed]",
      "text/plain": [
       "<matplotlib.figure.Figure at 0x122991208>"
      ]
     },
     "metadata": {},
     "output_type": "display_data"
    }
   ],
   "source": [
    "# Looking at Top Country Participation\n",
    "# Figure 4\n",
    "\n",
    "labels = 'CAN', 'GBR', 'MEX', 'CHN', 'GER', 'BRA', 'AUS', 'JPN', 'ITA', 'KEN'\n",
    "sizes = [1870, 425, 285, 242, 226, 205, 191, 170, 165, 8]\n",
    "explode = (0, 0, 0, 0.2, 0, 0, 0, 0, 0, 0)\n",
    "\n",
    "fig1, ax1 = plt.subplots()\n",
    "ax1.pie(sizes, explode=explode, labels=labels, autopct='%1.1f%%', shadow=True, startangle=90)\n",
    "ax1.axis('equal')\n",
    "\n",
    "plt.rcParams['patch.edgecolor'] = 'white'\n",
    "\n",
    "plt.show()"
   ]
  },
  {
   "cell_type": "code",
   "execution_count": 11,
   "metadata": {
    "collapsed": true
   },
   "outputs": [],
   "source": [
    "# Converting time-duration columns to secs\n",
    "\n",
    "def get_sec(time_str):\n",
    "    h,m,s = time_str.split(':')\n",
    "    return int(h) * 3600 + int(m) * 60 + int(s)"
   ]
  },
  {
   "cell_type": "code",
   "execution_count": 12,
   "metadata": {
    "collapsed": false
   },
   "outputs": [],
   "source": [
    "# Replacing dashes with '0:00:00'\n",
    "\n",
    "d = {'-':'0:00:00'}\n",
    "df2015 = df2015.replace(d)\n",
    "df2016 = df2015.replace(d)\n",
    "df2017 = df2015.replace(d)"
   ]
  },
  {
   "cell_type": "code",
   "execution_count": 13,
   "metadata": {
    "collapsed": false
   },
   "outputs": [],
   "source": [
    "# Converting time-duration columns to secs\n",
    "\n",
    "df2015['5K_sec'] = [get_sec(i) for i in df2015['5K']]\n",
    "df2015['10K_sec'] = [get_sec(i) for i in df2015['10K']]\n",
    "df2015['15K_sec'] = [get_sec(i) for i in df2015['15K']]\n",
    "df2015['20K_sec'] = [get_sec(i) for i in df2015['20K']]\n",
    "df2015['Half_sec'] = [get_sec(i) for i in df2015['Half']]\n",
    "df2015['25K_sec'] = [get_sec(i) for i in df2015['25K']]\n",
    "df2015['30K_sec'] = [get_sec(i) for i in df2015['30K']]\n",
    "df2015['35K_sec'] = [get_sec(i) for i in df2015['35K']]\n",
    "df2015['40K_sec'] = [get_sec(i) for i in df2015['40K']]\n",
    "df2015['Pace_sec'] = [get_sec(i) for i in df2015['Pace']]\n",
    "df2015['Official_Time_sec'] = [get_sec(i) for i in df2015['Official Time']]\n",
    "\n",
    "df2016['5K_sec'] = [get_sec(i) for i in df2016['5K']]\n",
    "df2016['10K_sec'] = [get_sec(i) for i in df2016['10K']]\n",
    "df2016['15K_sec'] = [get_sec(i) for i in df2016['15K']]\n",
    "df2016['20K_sec'] = [get_sec(i) for i in df2016['20K']]\n",
    "df2016['Half_sec'] = [get_sec(i) for i in df2016['Half']]\n",
    "df2016['25K_sec'] = [get_sec(i) for i in df2016['25K']]\n",
    "df2016['30K_sec'] = [get_sec(i) for i in df2016['30K']]\n",
    "df2016['35K_sec'] = [get_sec(i) for i in df2016['35K']]\n",
    "df2016['40K_sec'] = [get_sec(i) for i in df2016['40K']]\n",
    "df2016['Pace_sec'] = [get_sec(i) for i in df2016['Pace']]\n",
    "df2016['Official_Time_sec'] = [get_sec(i) for i in df2016['Official Time']]\n",
    "\n",
    "df2017['5K_sec'] = [get_sec(i) for i in df2017['5K']]\n",
    "df2017['10K_sec'] = [get_sec(i) for i in df2017['10K']]\n",
    "df2017['15K_sec'] = [get_sec(i) for i in df2017['15K']]\n",
    "df2017['20K_sec'] = [get_sec(i) for i in df2017['20K']]\n",
    "df2017['Half_sec'] = [get_sec(i) for i in df2017['Half']]\n",
    "df2017['25K_sec'] = [get_sec(i) for i in df2017['25K']]\n",
    "df2017['30K_sec'] = [get_sec(i) for i in df2017['30K']]\n",
    "df2017['35K_sec'] = [get_sec(i) for i in df2017['35K']]\n",
    "df2017['40K_sec'] = [get_sec(i) for i in df2017['40K']]\n",
    "df2017['Pace_sec'] = [get_sec(i) for i in df2017['Pace']]\n",
    "df2017['Official_Time_sec'] = [get_sec(i) for i in df2017['Official Time']]"
   ]
  },
  {
   "cell_type": "code",
   "execution_count": 14,
   "metadata": {
    "collapsed": false
   },
   "outputs": [
    {
     "data": {
      "image/png": "[encoded data removed]",
      "text/plain": [
       "<matplotlib.figure.Figure at 0x123e9c588>"
      ]
     },
     "metadata": {},
     "output_type": "display_data"
    }
   ],
   "source": [
    "# 1\n",
    "# Comparisson BAR CHART\n",
    "# 2017 Race Paces by Person\n",
    "# Visualizing the best individual runners' paces over the whole race\n",
    "\n",
    "a = df2017['5K_sec'][df2017['Gender'] == 1][df2017['M/F'] == 'M'].values\n",
    "b = df2017['10K_sec'][df2017['Gender'] == 1][df2017['M/F'] == 'M'].values\n",
    "c = df2017['15K_sec'][df2017['Gender'] == 1][df2017['M/F'] == 'M'].values\n",
    "d = df2017['20K_sec'][df2017['Gender'] == 1][df2017['M/F'] == 'M'].values\n",
    "e = df2017['Half_sec'][df2017['Gender'] == 1][df2017['M/F'] == 'M'].values\n",
    "f = df2017['25K_sec'][df2017['Gender'] == 1][df2017['M/F'] == 'M'].values\n",
    "g = df2017['30K_sec'][df2017['Gender'] == 1][df2017['M/F'] == 'M'].values\n",
    "h = df2017['35K_sec'][df2017['Gender'] == 1][df2017['M/F'] == 'M'].values\n",
    "i = df2017['40K_sec'][df2017['Gender'] == 1][df2017['M/F'] == 'M'].values\n",
    "\n",
    "j = df2017['5K_sec'][df2017['Gender'] == 1][df2017['M/F'] == 'F'].values\n",
    "k = df2017['10K_sec'][df2017['Gender'] == 1][df2017['M/F'] == 'F'].values\n",
    "l = df2017['15K_sec'][df2017['Gender'] == 1][df2017['M/F'] == 'F'].values\n",
    "m = df2017['20K_sec'][df2017['Gender'] == 1][df2017['M/F'] == 'F'].values\n",
    "n = df2017['Half_sec'][df2017['Gender'] == 1][df2017['M/F'] == 'F'].values\n",
    "o = df2017['25K_sec'][df2017['Gender'] == 1][df2017['M/F'] == 'F'].values\n",
    "p = df2017['30K_sec'][df2017['Gender'] == 1][df2017['M/F'] == 'F'].values\n",
    "q = df2017['35K_sec'][df2017['Gender'] == 1][df2017['M/F'] == 'F'].values\n",
    "r = df2017['40K_sec'][df2017['Gender'] == 1][df2017['M/F'] == 'F'].values\n",
    "\n",
    "n_groups = 9\n",
    "times_kirui = (a, b, c, d, e, f, g, h, i)\n",
    "times_kiplagat = (j, k, l, m, n, o, p, q, r)\n",
    " \n",
    "fig, ax = plt.subplots()\n",
    "index = np.arange(n_groups)\n",
    "bar_width = 0.35\n",
    "opacity = 0.8\n",
    " \n",
    "rects1 = plt.bar(index, times_kirui, bar_width,\n",
    "                 alpha=opacity,\n",
    "                 color='g',\n",
    "                 label='Kiirui (M)')\n",
    " \n",
    "rects2 = plt.bar(index + bar_width, times_kiplagat, bar_width,\n",
    "                 alpha=opacity,\n",
    "                 color='steelblue',\n",
    "                 label='Kiplagat (F)')\n",
    " \n",
    "plt.xlabel('Paces')\n",
    "plt.ylabel('Time')\n",
    "plt.title('2017 Race Paces by Person')\n",
    "plt.xticks(index + bar_width, ('5K', '10K', '15K', '20K', 'Half', '25K', '30K', '35K', '40K'))\n",
    "plt.legend(loc=2)\n",
    " \n",
    "plt.tight_layout()\n",
    "plt.show()"
   ]
  },
  {
   "cell_type": "code",
   "execution_count": 39,
   "metadata": {
    "collapsed": false
   },
   "outputs": [
    {
     "data": {
      "image/png": "[encoded data removed]",
      "text/plain": [
       "<matplotlib.figure.Figure at 0x1241032e8>"
      ]
     },
     "metadata": {},
     "output_type": "display_data"
    }
   ],
   "source": [
    "# 2\n",
    "# Scatter Plotting by 2017 country performance (Overall and Time at Half)\n",
    "# Size = Country participation\n",
    "# 2017\n",
    "\n",
    "# Getting the value to the far left (aka a 'Half' pace time below 3000) (?)\n",
    "\n",
    "Countries = df2017['Country'].unique()\n",
    "\n",
    "new_df = pd.DataFrame(index=Countries)\n",
    "new_df['Country_count'] = list(df2017['Country'].value_counts())\n",
    "new_df['Overall_median'] = df2017.groupby('Country')['Overall'].median()\n",
    "new_df['Half_sec_median'] = df2017.groupby('Country')['Half_sec'].median()\n",
    "\n",
    "a = new_df['Half_sec_median'][new_df['Half_sec_median'] < 5800].values\n",
    "b = new_df['Overall_median'][new_df['Half_sec_median'] < 5800].values\n",
    "c = new_df['Country_count'][new_df['Half_sec_median'] < 5800].values\n",
    "\n",
    "plt.scatter(a, b, s=c, alpha=0.5)\n",
    "\n",
    "# GETTING A MINI PLOT TRYING TO LABEL BY COUNTRY\n",
    "\n",
    "# labels = new_df['Half_sec_median'][new_df['Half_sec_median'] < 5800].index\n",
    "# for i, txt in enumerate(labels):\n",
    "#    plt.annotate(txt, (b[i], a[i]))\n",
    "\n",
    "# TRYING TO SET X & Y RANGES\n",
    "# plt.set_xlim(3500, 6500)\n",
    "# plt.set_ylim(-1000, 16000)\n",
    "\n",
    "plt.xlabel('Pace at Half')\n",
    "plt.ylabel('Overall Finish')\n",
    "plt.title('Influence of Pace at Half')\n",
    "\n",
    "plt.show()"
   ]
  },
  {
   "cell_type": "code",
   "execution_count": 69,
   "metadata": {
    "collapsed": false
   },
   "outputs": [
    {
     "data": {
      "image/png": "[encoded data removed]",
      "text/plain": [
       "<matplotlib.figure.Figure at 0x122cb79b0>"
      ]
     },
     "metadata": {},
     "output_type": "display_data"
    }
   ],
   "source": [
    "# 3\n",
    "# Stacked BAR CHART (Genders w/ stacked average paces)\n",
    "# Stacking the 2017 old and young by pace\n",
    "\n",
    "MT1 = df2017['5K_sec'][df2017['Age'] > 50][df2017['Age'] <= 59][df2017['M/F'] == 'M'].median()\n",
    "MT2 = df2017['5K_sec'][df2017['Age'] > 75][df2017['Age'] <= 79][df2017['M/F'] == 'M'].median()\n",
    "\n",
    "FT1 = df2017['5K_sec'][df2017['Age'] > 50][df2017['Age'] <= 59][df2017['M/F'] == 'F'].median()\n",
    "FT2 = df2017['5K_sec'][df2017['Age'] > 75][df2017['Age'] <= 79][df2017['M/F'] == 'F'].median()\n",
    "\n",
    "MT3 = df2017['25K_sec'][df2017['Age'] > 50][df2017['Age'] <= 59][df2017['M/F'] == 'M'].median()\n",
    "MT4 = df2017['25K_sec'][df2017['Age'] > 75][df2017['Age'] <= 79][df2017['M/F'] == 'M'].median()\n",
    "\n",
    "FT3 = df2017['25K_sec'][df2017['Age'] > 50][df2017['Age'] <= 59][df2017['M/F'] == 'F'].median()\n",
    "FT4 = df2017['25K_sec'][df2017['Age'] > 75][df2017['Age'] <= 79][df2017['M/F'] == 'F'].median()\n",
    "\n",
    "MT5 = df2017['Official_Time_sec'][df2017['Age'] > 50][df2017['Age'] <= 59][df2017['M/F'] == 'M'].median()\n",
    "MT6 = df2017['Official_Time_sec'][df2017['Age'] > 75][df2017['Age'] <= 79][df2017['M/F'] == 'M'].median()\n",
    "\n",
    "FT5 = df2017['Official_Time_sec'][df2017['Age'] > 50][df2017['Age'] <= 59][df2017['M/F'] == 'F'].median()\n",
    "FT6 = df2017['Official_Time_sec'][df2017['Age'] > 75][df2017['Age'] <= 79][df2017['M/F'] == 'F'].median()\n",
    "\n",
    "N = 6\n",
    "older_times = (MT2, FT2, MT4, FT4, MT6, FT6)\n",
    "old_times = (MT1, FT1, MT3, FT3, MT5, FT5)\n",
    "ind = np.arange(N)\n",
    "width = 0.5\n",
    "\n",
    "p1 = plt.bar(ind, older_times, width, color='g')\n",
    "p2 = plt.bar(ind, old_times, width, bottom=old_times)\n",
    "\n",
    "plt.ylabel('Total Time')\n",
    "plt.title('2017 Combined Times of Age Divisions')\n",
    "plt.xticks(ind, ('5K M', '5K F', '25K M', '25K W', 'Official M', 'Official W'))\n",
    "plt.yticks(np.arange(0, 50000, 10000))\n",
    "plt.legend((p1[0], p2[0]), ('Age 55 - 59', 'Age 75 - 79'), loc=2)\n",
    "\n",
    "plt.show()"
   ]
  },
  {
   "cell_type": "code",
   "execution_count": null,
   "metadata": {
    "collapsed": true
   },
   "outputs": [],
   "source": [
    "# Bayesian predictive scenario of a runner in 2019?\n",
    "# Likelihood of winning given a pace and...a country? or gender?"
   ]
  }
 ],
 "metadata": {
  "kernelspec": {
   "display_name": "Python 3",
   "language": "python",
   "name": "python3"
  },
  "language_info": {
   "codemirror_mode": {
    "name": "ipython",
    "version": 3
   },
   "file_extension": ".py",
   "mimetype": "text/x-python",
   "name": "python",
   "nbconvert_exporter": "python",
   "pygments_lexer": "ipython3",
   "version": "3.5.2"
  }
 },
 "nbformat": 4,
 "nbformat_minor": 0
}
