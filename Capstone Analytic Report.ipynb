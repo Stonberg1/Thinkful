{
 "cells": [
  {
   "cell_type": "code",
   "execution_count": 1,
   "metadata": {
    "collapsed": true
   },
   "outputs": [],
   "source": [
    "import numpy as np\n",
    "import pandas as pd\n",
    "import scipy\n",
    "import matplotlib.pyplot as plt\n",
    "%matplotlib inline"
   ]
  },
  {
   "cell_type": "code",
   "execution_count": 2,
   "metadata": {
    "collapsed": false
   },
   "outputs": [],
   "source": [
    "df2015 = pd.read_csv('finishers-boston-marathon-2015-2016-2017/marathon_results_2015.csv')\n",
    "df2016 = pd.read_csv('finishers-boston-marathon-2015-2016-2017/marathon_results_2016.csv')\n",
    "df2017 = pd.read_csv('finishers-boston-marathon-2015-2016-2017/marathon_results_2017.csv')"
   ]
  },
  {
   "cell_type": "code",
   "execution_count": 3,
   "metadata": {
    "collapsed": false
   },
   "outputs": [
    {
     "name": "stdout",
     "output_type": "stream",
     "text": [
      "82 83 84\n"
     ]
    }
   ],
   "source": [
    "# Summary statistics\n",
    "# Oldest by Year\n",
    "# Figure 1\n",
    "\n",
    "print(df2015['Age'].max(), df2016['Age'].max(), df2017['Age'].max())"
   ]
  },
  {
   "cell_type": "code",
   "execution_count": 4,
   "metadata": {
    "collapsed": false
   },
   "outputs": [
    {
     "data": {
      "text/html": [
       "<div>\n",
       "<table border=\"1\" class=\"dataframe\">\n",
       "  <thead>\n",
       "    <tr style=\"text-align: right;\">\n",
       "      <th></th>\n",
       "      <th>Unnamed: 0</th>\n",
       "      <th>Bib</th>\n",
       "      <th>Name</th>\n",
       "      <th>Age</th>\n",
       "      <th>M/F</th>\n",
       "      <th>City</th>\n",
       "      <th>State</th>\n",
       "      <th>Country</th>\n",
       "      <th>Citizen</th>\n",
       "      <th>Unnamed: 9</th>\n",
       "      <th>...</th>\n",
       "      <th>25K</th>\n",
       "      <th>30K</th>\n",
       "      <th>35K</th>\n",
       "      <th>40K</th>\n",
       "      <th>Pace</th>\n",
       "      <th>Proj Time</th>\n",
       "      <th>Official Time</th>\n",
       "      <th>Overall</th>\n",
       "      <th>Gender</th>\n",
       "      <th>Division</th>\n",
       "    </tr>\n",
       "  </thead>\n",
       "  <tbody>\n",
       "    <tr>\n",
       "      <th>0</th>\n",
       "      <td>0</td>\n",
       "      <td>11</td>\n",
       "      <td>Kirui, Geoffrey</td>\n",
       "      <td>24</td>\n",
       "      <td>M</td>\n",
       "      <td>Keringet</td>\n",
       "      <td>NaN</td>\n",
       "      <td>KEN</td>\n",
       "      <td>NaN</td>\n",
       "      <td>NaN</td>\n",
       "      <td>...</td>\n",
       "      <td>1:16:59</td>\n",
       "      <td>1:33:01</td>\n",
       "      <td>1:48:19</td>\n",
       "      <td>2:02:53</td>\n",
       "      <td>0:04:57</td>\n",
       "      <td>-</td>\n",
       "      <td>2:09:37</td>\n",
       "      <td>1</td>\n",
       "      <td>1</td>\n",
       "      <td>1</td>\n",
       "    </tr>\n",
       "    <tr>\n",
       "      <th>20</th>\n",
       "      <td>20</td>\n",
       "      <td>F3</td>\n",
       "      <td>Kiplagat, Edna</td>\n",
       "      <td>37</td>\n",
       "      <td>F</td>\n",
       "      <td>Uasin Gishu</td>\n",
       "      <td>NaN</td>\n",
       "      <td>KEN</td>\n",
       "      <td>NaN</td>\n",
       "      <td>NaN</td>\n",
       "      <td>...</td>\n",
       "      <td>1:25:51</td>\n",
       "      <td>1:42:40</td>\n",
       "      <td>1:58:41</td>\n",
       "      <td>2:14:43</td>\n",
       "      <td>0:05:25</td>\n",
       "      <td>-</td>\n",
       "      <td>2:21:52</td>\n",
       "      <td>21</td>\n",
       "      <td>1</td>\n",
       "      <td>1</td>\n",
       "    </tr>\n",
       "  </tbody>\n",
       "</table>\n",
       "<p>2 rows × 25 columns</p>\n",
       "</div>"
      ],
      "text/plain": [
       "    Unnamed: 0 Bib             Name  Age M/F         City State Country  \\\n",
       "0            0  11  Kirui, Geoffrey   24   M     Keringet   NaN     KEN   \n",
       "20          20  F3   Kiplagat, Edna   37   F  Uasin Gishu   NaN     KEN   \n",
       "\n",
       "   Citizen Unnamed: 9   ...         25K      30K      35K      40K     Pace  \\\n",
       "0      NaN        NaN   ...     1:16:59  1:33:01  1:48:19  2:02:53  0:04:57   \n",
       "20     NaN        NaN   ...     1:25:51  1:42:40  1:58:41  2:14:43  0:05:25   \n",
       "\n",
       "   Proj Time Official Time Overall Gender Division  \n",
       "0          -       2:09:37       1      1        1  \n",
       "20         -       2:21:52      21      1        1  \n",
       "\n",
       "[2 rows x 25 columns]"
      ]
     },
     "execution_count": 4,
     "metadata": {},
     "output_type": "execute_result"
    }
   ],
   "source": [
    "# Summary statistics\n",
    "# 2017 Top Overall Man and Woman\n",
    "# Figure 2\n",
    "\n",
    "df2017[df2017['Gender'] == 1]"
   ]
  },
  {
   "cell_type": "code",
   "execution_count": 5,
   "metadata": {
    "collapsed": false
   },
   "outputs": [
    {
     "data": {
      "image/png": "[encoded data removed]",
      "text/plain": [
       "<matplotlib.figure.Figure at 0x1241eef28>"
      ]
     },
     "metadata": {},
     "output_type": "display_data"
    }
   ],
   "source": [
    "# Preliminary visualizations\n",
    "# 2017 Top Overall Men and Women - Ages\n",
    "# Figure 3\n",
    "\n",
    "plt.hist(df2017['Age'][df2017['Gender'] <= 50][df2017['M/F'] == 'F'], normed=True, color='g', bins=10, alpha=.5)\n",
    "plt.hist(df2017['Age'][df2017['Gender'] <= 50][df2017['M/F'] == 'M'], normed=True, color='steelblue', bins=10, alpha=.5)\n",
    "plt.title('2017 Top Overall Men and Women - Ages')\n",
    "plt.xlabel('Ages')\n",
    "plt.grid(True)\n",
    "\n",
    "plt.show()"
   ]
  },
  {
   "cell_type": "code",
   "execution_count": 33,
   "metadata": {
    "collapsed": false
   },
   "outputs": [
    {
     "data": {
      "text/plain": [
       "USA    20945\n",
       "CAN     1870\n",
       "GBR      425\n",
       "MEX      285\n",
       "CHN      242\n",
       "GER      226\n",
       "BRA      205\n",
       "AUS      191\n",
       "JPN      170\n",
       "ITA      165\n",
       "Name: Country, dtype: int64"
      ]
     },
     "execution_count": 33,
     "metadata": {},
     "output_type": "execute_result"
    }
   ],
   "source": [
    "# Looking at Top Country Participation\n",
    "\n",
    "Country_counts = df2017['Country'].value_counts()\n",
    "Country_counts.iloc[0:10]"
   ]
  },
  {
   "cell_type": "code",
   "execution_count": 34,
   "metadata": {
    "collapsed": false
   },
   "outputs": [
    {
     "data": {
      "text/plain": [
       "8"
      ]
     },
     "execution_count": 34,
     "metadata": {},
     "output_type": "execute_result"
    }
   ],
   "source": [
    "# Throwing in Kenya for fun...and removing USA...\n",
    "\n",
    "Country_counts.loc['KEN']"
   ]
  },
  {
   "cell_type": "code",
   "execution_count": 36,
   "metadata": {
    "collapsed": false
   },
   "outputs": [
    {
     "data": {
      "image/png": "[encoded data removed]",
      "text/plain": [
       "<matplotlib.figure.Figure at 0x10463c0b8>"
      ]
     },
     "metadata": {},
     "output_type": "display_data"
    }
   ],
   "source": [
    "# Looking at Top Country Participation\n",
    "# Figure 4\n",
    "\n",
    "labels = 'CAN', 'GBR', 'MEX', 'CHN', 'GER', 'BRA', 'AUS', 'JPN', 'ITA', 'KEN'\n",
    "sizes = [1870, 425, 285, 242, 226, 205, 191, 170, 165, 8]\n",
    "explode = (0, 0, 0, 0, 0, 0, 0, 0, 0, 0.1)\n",
    "\n",
    "fig1, ax1 = plt.subplots()\n",
    "ax1.pie(sizes, explode=explode, labels=labels, autopct='%1.1f%%',\n",
    "        shadow=True, startangle=90)\n",
    "ax1.axis('equal')\n",
    "\n",
    "plt.show()"
   ]
  },
  {
   "cell_type": "code",
   "execution_count": null,
   "metadata": {
    "collapsed": true
   },
   "outputs": [],
   "source": [
    "# Converting time-duration columns to secs\n",
    "\n",
    "def get_sec(time_str):\n",
    "    h,m,s = time_str.split(':')\n",
    "    return int(h) * 3600 + int(m) * 60 + int(s)"
   ]
  },
  {
   "cell_type": "code",
   "execution_count": null,
   "metadata": {
    "collapsed": false
   },
   "outputs": [],
   "source": [
    "# Converting time-duration columns to secs\n",
    "\n",
    "df2015['5K_sec'] = [get_sec(i) for i in df2015['15K']]\n",
    "df2015['10K_sec'] = [get_sec(i) for i in df2015['10K']]\n",
    "df2015['15K_sec'] = [get_sec(i) for i in df2015['15K']]\n",
    "df2015['20K_sec'] = [get_sec(i) for i in df2015['20K']]\n",
    "df2015['Half_sec'] = [get_sec(i) for i in df2015['Half']]\n",
    "df2015['25K_sec'] = [get_sec(i) for i in df2015['25K']]\n",
    "df2015['30K_sec'] = [get_sec(i) for i in df2015['30K']]\n",
    "df2015['35K_sec'] = [get_sec(i) for i in df2015['35K']]\n",
    "df2015['40K_sec'] = [get_sec(i) for i in df2015['40K']]\n",
    "df2015['Pace_sec'] = [get_sec(i) for i in df2015['Pace']]\n",
    "df2015['Official_Time_sec'] = [get_sec(i) for i in df2015['Official Time']]\n",
    "\n",
    "df2016['5K_sec'] = [get_sec(i) for i in df2016['15K']]\n",
    "df2016['10K_sec'] = [get_sec(i) for i in df2016['10K']]\n",
    "df2016['15K_sec'] = [get_sec(i) for i in df2016['15K']]\n",
    "df2016['20K_sec'] = [get_sec(i) for i in df2016['20K']]\n",
    "df2016['Half_sec'] = [get_sec(i) for i in df2016['Half']]\n",
    "df2016['25K_sec'] = [get_sec(i) for i in df2016['25K']]\n",
    "df2016['30K_sec'] = [get_sec(i) for i in df2016['30K']]\n",
    "df2016['35K_sec'] = [get_sec(i) for i in df2016['35K']]\n",
    "df2016['40K_sec'] = [get_sec(i) for i in df2016['40K']]\n",
    "df2016['Pace_sec'] = [get_sec(i) for i in df2016['Pace']]\n",
    "df2016['Official_Time_sec'] = [get_sec(i) for i in df2016['Official Time']]\n",
    "\n",
    "df2017['5K_sec'] = [get_sec(i) for i in df2017['15K']]\n",
    "df2017['10K_sec'] = [get_sec(i) for i in df2017['10K']]\n",
    "df2017['15K_sec'] = [get_sec(i) for i in df2017['15K']]\n",
    "df2017['20K_sec'] = [get_sec(i) for i in df2017['20K']]\n",
    "df2017['Half_sec'] = [get_sec(i) for i in df2017['Half']]\n",
    "df2017['25K_sec'] = [get_sec(i) for i in df2017['25K']]\n",
    "df2017['30K_sec'] = [get_sec(i) for i in df2017['30K']]\n",
    "df2017['35K_sec'] = [get_sec(i) for i in df2017['35K']]\n",
    "df2017['40K_sec'] = [get_sec(i) for i in df2017['40K']]\n",
    "df2017['Pace_sec'] = [get_sec(i) for i in df2017['Pace']]\n",
    "df2017['Official_Time_sec'] = [get_sec(i) for i in df2017['Official Time']]"
   ]
  },
  {
   "cell_type": "code",
   "execution_count": null,
   "metadata": {
    "collapsed": true
   },
   "outputs": [],
   "source": [
    "# 1\n",
    "# Comparisson BAR CHART\n",
    "# Visualizing the best individual runners' various paces as part of whole race\n",
    "# Thinking of descending/slowing (I assume) pace over bars left to right\n",
    "\n",
    "# comparing multiple runners (bars per pace section) by Age? and then Gender?\n",
    "\n",
    "# --\n",
    "# This work is not that, just an old idea/framework\n",
    "\n",
    "xticks_years = ['2015', '2016', '2017']\n",
    "ages_by_year = [df2015['Age'].max(), df2016['Age'].max(), df2017['Age'].max()]\n",
    "\n",
    "x_pos = [i for i, _ in enumerate(xticks_years)]\n",
    "\n",
    "plt.bar(x_pos, ages_by_year, align='center', color='steelblue', edgecolor='black')\n",
    "plt.xlabel(\"Year\")\n",
    "plt.ylabel(\"Ages\")\n",
    "plt.title(\"Ages by Year\")\n",
    "plt.xticks(x_pos, xticks_years)\n",
    "\n",
    "plt.show()"
   ]
  },
  {
   "cell_type": "code",
   "execution_count": null,
   "metadata": {
    "collapsed": false
   },
   "outputs": [],
   "source": [
    "# 2\n",
    "# Bubble plotting by country performance (official time and pace)\n",
    "# Bubble size by country count (aka participation)\n",
    "# 2017\n",
    "\n",
    "# x = Official Time\n",
    "# y = Pace\n",
    "# s = Country Count (w/ labels)\n",
    "\n",
    "Countries = df2017['Country'].unique()\n",
    "Countries.sort()\n",
    "\n",
    "the_best = pd.DataFrame(index=Countries)\n",
    "the_best['Country_Count'] = list(df2017['Country'].value_counts())\n",
    "the_best['Official_Time_secs'] = df2017.groupby('Country')['Official_Time_secs'].mean()\n",
    "the_best['Pace_secs'] = df2017.groupby('Country')['Pace_secs'].mean()\n",
    "\n",
    "a = the_best['Official_Time']\n",
    "b = the_best['Pace']\n",
    "c = the_best['Country_Count']\n",
    "\n",
    "plt.scatter(a, b, s=c*10, alpha=0.5)\n",
    "plt.show()"
   ]
  },
  {
   "cell_type": "code",
   "execution_count": 37,
   "metadata": {
    "collapsed": false
   },
   "outputs": [
    {
     "data": {
      "image/png": "[encoded data removed]",
      "text/plain": [
       "<matplotlib.figure.Figure at 0x127d0d9b0>"
      ]
     },
     "metadata": {},
     "output_type": "display_data"
    }
   ],
   "source": [
    "# Scatter example\n",
    "\n",
    "x = np.random.rand(40)\n",
    "y = np.random.rand(40)\n",
    "z = np.random.rand(40)\n",
    " \n",
    "# use the scatter function\n",
    "plt.scatter(x, y, s=z*1000, alpha=0.5)\n",
    "plt.show()"
   ]
  },
  {
   "cell_type": "code",
   "execution_count": null,
   "metadata": {
    "collapsed": true
   },
   "outputs": [],
   "source": [
    "# 3\n",
    "# Stacked BAR CHART (Genders w/ stacked average paces) \n",
    "# Bubble plot here\n",
    "# Still need to convert durations to secs\n",
    "\n",
    "x1 = df2015.ix[df1['Overall'].idxmin()]['Official Time_secs']\n",
    "x2 = df2016.ix[df1['Overall'].idxmin()]['Official Time_secs']\n",
    "x3 = df2017.ix[df1['Overall'].idxmin()]['Official Time_secs']\n",
    "\n",
    "y1 = df2015.ix[df1['Overall'].idxmin()]['Pace_secs']\n",
    "y2 = df2016.ix[df1['Overall'].idxmin()]['Pace_secs']\n",
    "y3 = df2017.ix[df1['Overall'].idxmin()]['Pace_secs']\n",
    "\n",
    "names = [x1 = df2015.ix[df1['Overall'].idxmin()]['Name'],\n",
    "        x1 = df2016.ix[df1['Overall'].idxmin()]['Name'],\n",
    "        x1 = df2017.ix[df1['Overall'].idxmin()]['Name']]\n",
    "\n",
    "the_best = pd.DataFrame(index=names)\n",
    "the_best['Official_Time'] = [x1, x2, x3]\n",
    "the_best['Pace'] = [y1, y2, y3]\n",
    "\n",
    "a = the_best['Official_Time']\n",
    "b = the_best['Pace']\n",
    "c = the_best['Age']\n",
    " \n",
    "plt.scatter(a, b, s=c*1000, alpha=0.5)\n",
    "plt.show()\n"
   ]
  },
  {
   "cell_type": "code",
   "execution_count": null,
   "metadata": {
    "collapsed": true
   },
   "outputs": [],
   "source": [
    "# Bayesian predictive scenario of a runner in 2019?\n",
    "# Likelihood of winning given a pace and...a country? or gender?"
   ]
  }
 ],
 "metadata": {
  "kernelspec": {
   "display_name": "Python 3",
   "language": "python",
   "name": "python3"
  },
  "language_info": {
   "codemirror_mode": {
    "name": "ipython",
    "version": 3
   },
   "file_extension": ".py",
   "mimetype": "text/x-python",
   "name": "python",
   "nbconvert_exporter": "python",
   "pygments_lexer": "ipython3",
   "version": "3.5.2"
  }
 },
 "nbformat": 4,
 "nbformat_minor": 0
}
