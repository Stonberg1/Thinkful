{
 "cells": [
  {
   "cell_type": "code",
   "execution_count": 1,
   "metadata": {
    "collapsed": true
   },
   "outputs": [],
   "source": [
    "# Understanding Bias, Quality, Exceptional cirumstances\n",
    "# and Adjustments (imputing data and/or reframing the question and the conclusions)"
   ]
  },
  {
   "cell_type": "code",
   "execution_count": 2,
   "metadata": {
    "collapsed": true
   },
   "outputs": [],
   "source": [
    "# What could be done to either adjust the analysis or reframe the question so that you can answer it accurately?\n",
    "\n",
    "# 1.Data Source: Amsterdam availability data scraped from AirBnB on December 24th.\n",
    "#     Question: What are the popular neighborhoods in Amsterdam?\n",
    "\n",
    "# 2. Data Source: Mental health services use on September 12, 2001 in San Francisco, CA and New York City, NY.\n",
    "#     Question: How do patterns of mental health service use vary between cities?\n",
    "\n",
    "# 3. Data Source: Armenian Pub Survey.\n",
    "#    Question: What are the most common reasons Armenians visit local pubs?"
   ]
  },
  {
   "cell_type": "code",
   "execution_count": 3,
   "metadata": {
    "collapsed": true
   },
   "outputs": [],
   "source": [
    "# 1. This analysis could look at a bigger sample size more representative of the population of\n",
    "# Amsterdam beyond the AirBnB users who are most likely tourists or skew younger\n",
    "# or don't have a full knowledge of Amsterdam neighborhoods.\n",
    "# The specific date is also likely an anomoly compared to the rest of the year given the temperature\n",
    "# and holidays and New Years.\n",
    "\n",
    "# The question could be more accurately stated as:\n",
    "# \"What are the popular neighborhoods in Amsterdam amongst AirBnB users in late December?\"\n",
    "# or \"...during the holidays?\""
   ]
  },
  {
   "cell_type": "code",
   "execution_count": 4,
   "metadata": {
    "collapsed": true
   },
   "outputs": [],
   "source": [
    "# 2. San Francisco and New York City do not represent cities generally for many reasons. They are outliers.\n",
    "# Also, September 12th 2001 is a day after the September 11th attack on the World Trade Center.\n",
    "# Mental health services the day after likely in no way represent general patterns of use."
   ]
  },
  {
   "cell_type": "code",
   "execution_count": 5,
   "metadata": {
    "collapsed": false
   },
   "outputs": [],
   "source": [
    "# 3. There appear to be inconsistancies in the datapoints: sometimes '0' or NA is used (which are unclear).\n",
    "# The vast majority of respondants are 20 and under 'Students' who 'come from' the 'Capital'.\n",
    "# It may be worth noting the distance of the bar from respondant locations rather than assuming proximity.\n",
    "# The data set is also relatively small. Finally, the respondants responded over February and March only -\n",
    "# this may skew opinion. Lastly, it is important to describe the methodology of approaching these respondants\n",
    "# to better understand the sample.\n",
    "\n",
    "# Perhaps the question could be more limited to these categories for better accuracy in these areas. \n"
   ]
  }
 ],
 "metadata": {
  "kernelspec": {
   "display_name": "Python 3",
   "language": "python",
   "name": "python3"
  },
  "language_info": {
   "codemirror_mode": {
    "name": "ipython",
    "version": 3
   },
   "file_extension": ".py",
   "mimetype": "text/x-python",
   "name": "python",
   "nbconvert_exporter": "python",
   "pygments_lexer": "ipython3",
   "version": "3.5.2"
  }
 },
 "nbformat": 4,
 "nbformat_minor": 0
}
