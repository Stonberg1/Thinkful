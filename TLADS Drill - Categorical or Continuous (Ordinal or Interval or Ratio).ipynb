{
 "cells": [
  {
   "cell_type": "markdown",
   "metadata": {},
   "source": [
    "**Categorize each of the variables in the ESS dataset as categorical or continuous, and if continuous as ordinal, interval, or ratio variables. Check your work with your mentor, and discuss what that information might imply for feature engineering with this data.**"
   ]
  },
  {
   "cell_type": "markdown",
   "metadata": {},
   "source": [
    "https://thinkful-ed.github.io/data-201-resources/ESS_practice_data/ESS_codebook.html"
   ]
  },
  {
   "cell_type": "markdown",
   "metadata": {},
   "source": [
    "**Variables**\n",
    "\n",
    "+ **Country:** Categorical\n",
    "- **ESS Round (6 or 7, 2012 or 2014):** Categorical\n",
    "- **Respondent's Identification Number:** Categorical\n",
    "- **TV watching, total time on average weekday (time):** Continuous (Ratio)\n",
    "- **Most people can be trusted or you can't be too careful (0-10):** Continuous (Ordinal)\n",
    "- **Most people try to take advantage of you, or try to be fair (0-10):** Continuous (Ordinal)\n",
    "- **Most of the time people helpful or mostly looking out for themselves (0-10):** Continuous (Ordinal)\n",
    "- **How happy are you? (0-10):** Continuous (Ordinal)\n",
    "- **How often socially meet with friends, relatives or colleagues (1-7 days):** Continuous (Interval)\n",
    "- **Take part in social activities compared to others of same age (1-5):** Continuous (Ordinal)\n",
    "- **Gender (M/F):** Categorical\n",
    "- **Age of respondent, calculated:** Continuous (Ratio)\n",
    "- **Lives with husband/wife/partner at household grid (1/2, Yes/No):** Categorical"
   ]
  },
  {
   "cell_type": "code",
   "execution_count": null,
   "metadata": {
    "collapsed": true
   },
   "outputs": [],
   "source": []
  }
 ],
 "metadata": {
  "kernelspec": {
   "display_name": "Python 3",
   "language": "python",
   "name": "python3"
  },
  "language_info": {
   "codemirror_mode": {
    "name": "ipython",
    "version": 3
   },
   "file_extension": ".py",
   "mimetype": "text/x-python",
   "name": "python",
   "nbconvert_exporter": "python",
   "pygments_lexer": "ipython3",
   "version": "3.5.2"
  }
 },
 "nbformat": 4,
 "nbformat_minor": 0
}
