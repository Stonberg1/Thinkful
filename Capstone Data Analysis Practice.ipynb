{
 "cells": [
  {
   "cell_type": "code",
   "execution_count": 1,
   "metadata": {
    "collapsed": true
   },
   "outputs": [],
   "source": [
    "import numpy as np\n",
    "import pandas as pd\n",
    "import scipy\n",
    "import matplotlib.pyplot as plt\n",
    "%matplotlib inline"
   ]
  },
  {
   "cell_type": "code",
   "execution_count": 2,
   "metadata": {
    "collapsed": false
   },
   "outputs": [],
   "source": [
    "df1 = pd.read_csv('finishers-boston-marathon-2015-2016-2017/marathon_results_2015.csv')\n",
    "df2 = pd.read_csv('finishers-boston-marathon-2015-2016-2017/marathon_results_2016.csv')\n",
    "df3 = pd.read_csv('finishers-boston-marathon-2015-2016-2017/marathon_results_2017.csv')"
   ]
  },
  {
   "cell_type": "code",
   "execution_count": null,
   "metadata": {
    "collapsed": true
   },
   "outputs": [],
   "source": [
    "# Converting columns to secs\n",
    "\n",
    "def get_sec(time_str):\n",
    "    h,m,s = time_str.split(':')\n",
    "    return int(h) * 3600 + int(m) * 60 + int(s)"
   ]
  },
  {
   "cell_type": "code",
   "execution_count": null,
   "metadata": {
    "collapsed": true
   },
   "outputs": [],
   "source": [
    "# Converting columns to secs\n",
    "\n",
    "df1['15K_sec'] = [get_sec(i) for i in df1['15K']]"
   ]
  },
  {
   "cell_type": "code",
   "execution_count": 101,
   "metadata": {
    "collapsed": false
   },
   "outputs": [
    {
     "data": {
      "image/png": "[encoded data removed]",
      "text/plain": [
       "<matplotlib.figure.Figure at 0x127db9780>"
      ]
     },
     "metadata": {},
     "output_type": "display_data"
    }
   ],
   "source": [
    "# Plotting the ages of all runners over the years\n",
    "\n",
    "# x = \n",
    "plt.hist(df1['Age'], normed=True, color='g', bins=10, alpha=.5) \n",
    "# y =\n",
    "plt.hist(df2['Age'], normed=True, color='red', bins=10, alpha=.5)\n",
    "# z =\n",
    "plt.hist(df3['Age'], normed=True, color='steelblue', bins=10, alpha=.5) \n",
    "plt.title('Ages')\n",
    "plt.xlabel('Age')\n",
    "plt.grid(True)\n",
    "# plt.legend(['x', 'y', 'z'], ['2015', '2016', '2017'])\n",
    "\n",
    "plt.show()"
   ]
  },
  {
   "cell_type": "code",
   "execution_count": 82,
   "metadata": {
    "collapsed": false
   },
   "outputs": [
    {
     "data": {
      "text/plain": [
       "Unnamed: 0                    0\n",
       "Bib                           3\n",
       "Name             Desisa, Lelisa\n",
       "Age                          25\n",
       "M/F                           M\n",
       "City                       Ambo\n",
       "State                       NaN\n",
       "Country                     ETH\n",
       "Citizen                     NaN\n",
       "Unnamed: 9                  NaN\n",
       "5K                      0:14:43\n",
       "10K                     0:29:43\n",
       "15K                     0:44:57\n",
       "20K                     1:00:29\n",
       "Half                    1:04:02\n",
       "25K                     1:16:07\n",
       "30K                     1:32:00\n",
       "35K                     1:47:59\n",
       "40K                     2:02:39\n",
       "Pace                    0:04:56\n",
       "Proj Time                     -\n",
       "Official Time           2:09:17\n",
       "Overall                       1\n",
       "Gender                        1\n",
       "Division                      1\n",
       "Name: 0, dtype: object"
      ]
     },
     "execution_count": 82,
     "metadata": {},
     "output_type": "execute_result"
    }
   ],
   "source": [
    "# Overall winner (aka #1, the smallest number)\n",
    "\n",
    "df1.ix[df1['Overall'].idxmin()]"
   ]
  },
  {
   "cell_type": "code",
   "execution_count": null,
   "metadata": {
    "collapsed": true
   },
   "outputs": [],
   "source": [
    "# Thinking of how to compare the best of each year\n",
    "# Bubble plot here\n",
    "# Still need to convert durations to secs\n",
    "\n",
    "x1 = df1.ix[df1['Overall'].idxmin()]['Official Time_secs']\n",
    "x2 = df2.ix[df1['Overall'].idxmin()]['Official Time_secs']\n",
    "x3 = df3.ix[df1['Overall'].idxmin()]['Official Time_secs']\n",
    "\n",
    "y1 = df1.ix[df1['Overall'].idxmin()]['Pace_secs']\n",
    "y2 = df2.ix[df1['Overall'].idxmin()]['Pace_secs']\n",
    "y3 = df3.ix[df1['Overall'].idxmin()]['Pace_secs']\n",
    "\n",
    "names = [x1 = df1.ix[df1['Overall'].idxmin()]['Name'],\n",
    "        x1 = df2.ix[df1['Overall'].idxmin()]['Name'],\n",
    "        x1 = df3.ix[df1['Overall'].idxmin()]['Name']]\n",
    "\n",
    "the_best = pd.DataFrame(index=names)\n",
    "the_best['Official_Time'] = [x1, x2, x3]\n",
    "the_best['Pace'] = [y1, y2, y3]\n",
    "\n",
    "a = the_best['Official_Time']\n",
    "b = the_best['Pace']\n",
    "c = the_best['Age']\n",
    " \n",
    "plt.scatter(a, b, s=c*1000, alpha=0.5)\n",
    "plt.show()\n"
   ]
  },
  {
   "cell_type": "code",
   "execution_count": null,
   "metadata": {
    "collapsed": true
   },
   "outputs": [],
   "source": [
    "# BAR CHART\n",
    "# Considering visualizing individual runners' 'K' paces as part of whole race\n",
    "# Thinking of descending/slowing (I assume) pace over bars left to right\n",
    "\n",
    "# Maybe use the winners\n",
    "# Or see if age is a factor in a slowing pace\n",
    "\n",
    "# --\n",
    "# This work is not that, just an old idea/framework\n",
    "\n",
    "xticks_years = ['2015', '2016', '2017']\n",
    "ages_by_year = [df1['Age'].max(), df2['Age'].max(), df3['Age'].max()]\n",
    "\n",
    "x_pos = [i for i, _ in enumerate(xticks_years)]\n",
    "\n",
    "plt.bar(x_pos, ages_by_year, align='center', color='steelblue', edgecolor='black')\n",
    "plt.xlabel(\"Year\")\n",
    "plt.ylabel(\"Ages\")\n",
    "plt.title(\"Ages by Year\")\n",
    "plt.xticks(x_pos, xticks_years)\n",
    "\n",
    "plt.show()"
   ]
  },
  {
   "cell_type": "code",
   "execution_count": 80,
   "metadata": {
    "collapsed": false
   },
   "outputs": [
    {
     "name": "stdout",
     "output_type": "stream",
     "text": [
      "<pandas.core.indexing._LocIndexer object at 0x123cfa780>\n"
     ]
    }
   ],
   "source": [
    "# Bubble plotting by country performance (official time and pace)\n",
    "# Probably a better use of a bubble plot - may change the above visualization\n",
    "\n",
    "# x = Official Time\n",
    "# y = Pace\n",
    "# s = Country Count (w/ labels)"
   ]
  },
  {
   "cell_type": "code",
   "execution_count": 83,
   "metadata": {
    "collapsed": false
   },
   "outputs": [
    {
     "data": {
      "image/png": "[encoded data removed]",
      "text/plain": [
       "<matplotlib.figure.Figure at 0x12789c668>"
      ]
     },
     "metadata": {},
     "output_type": "display_data"
    }
   ],
   "source": [
    "# Scatter example\n",
    "\n",
    "x = np.random.rand(40)\n",
    "y = np.random.rand(40)\n",
    "z = np.random.rand(40)\n",
    " \n",
    "# use the scatter function\n",
    "plt.scatter(x, y, s=z*1000, alpha=0.5)\n",
    "plt.show()"
   ]
  },
  {
   "cell_type": "code",
   "execution_count": 30,
   "metadata": {
    "collapsed": false
   },
   "outputs": [
    {
     "data": {
      "image/png": "[encoded data removed]",
      "text/plain": [
       "<matplotlib.figure.Figure at 0x128201b70>"
      ]
     },
     "metadata": {},
     "output_type": "display_data"
    }
   ],
   "source": [
    "# BOX PLOTS - Observing performance by year\n",
    "# Trying to plot multiple on same plot\n",
    "# Might not include\n",
    "\n",
    "plt.boxplot(df1['Age'])\n",
    "plt.boxplot(df2['Age'])\n",
    "plt.boxplot(df3['Age'])\n",
    "plt.title('Distribution of Ages')\n",
    "\n",
    "plt.show()"
   ]
  },
  {
   "cell_type": "code",
   "execution_count": null,
   "metadata": {
    "collapsed": false
   },
   "outputs": [],
   "source": [
    "# SCATTER PLOT\n",
    "# Considering individual examples of age vs. performance\n",
    "# Need to reverse sort 'Overall'\n",
    "\n",
    "df1['Age_older'] = df1['Age'] = df1[df1['Age'] > 55]['Age']\n",
    "\n",
    "x = df1['Age_older']\n",
    "y = df1['Overall']\n",
    "\n",
    "plt.scatter(x, y)\n",
    "plt.title('Place by Age')\n",
    "\n",
    "plt.show()"
   ]
  },
  {
   "cell_type": "code",
   "execution_count": null,
   "metadata": {
    "collapsed": true
   },
   "outputs": [],
   "source": [
    "# Bayesian predictive scenario of a runner in 2019?\n",
    "# Likelihood of winning given a pace and...a country? or gender?"
   ]
  }
 ],
 "metadata": {
  "kernelspec": {
   "display_name": "Python 3",
   "language": "python",
   "name": "python3"
  },
  "language_info": {
   "codemirror_mode": {
    "name": "ipython",
    "version": 3
   },
   "file_extension": ".py",
   "mimetype": "text/x-python",
   "name": "python",
   "nbconvert_exporter": "python",
   "pygments_lexer": "ipython3",
   "version": "3.5.2"
  }
 },
 "nbformat": 4,
 "nbformat_minor": 0
}
