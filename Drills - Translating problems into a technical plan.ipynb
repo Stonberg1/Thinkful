{
 "cells": [
  {
   "cell_type": "markdown",
   "metadata": {},
   "source": [
    "##### For each question, describe how you would make it testable and translate it from a general question into something statistically rigorous. "
   ]
  },
  {
   "cell_type": "markdown",
   "metadata": {},
   "source": [
    "Question #1:\n",
    "\n",
    "You work at an e-commerce company that sells three goods: widgets, doodads, and fizzbangs. The head of advertising asks you which they should feature in their new advertising campaign. You have data on individual visitors' sessions (activity on a website, pageviews, and purchases), as well as whether or not those users converted from an advertisement for that session. You also have the cost and price information for the goods."
   ]
  },
  {
   "cell_type": "markdown",
   "metadata": {},
   "source": [
    "Answer:\n",
    "\n",
    "We will look at user session activity and purchase information for three months before and after the past advertisement for those users who ultimately converted. We want to see how any change in session activity related (or was not related) to the specific product advertised. I would plot histograms to understand how converted users are distributed across all numerical metrics before and after the advertisement. I would compare the same behavior with bar charts for categorical data (i.e. units sold for each product).\n",
    "\n",
    "If we could visualize how behaviors shifted, we could begin to see what influence the advertisement had on things like purchase behavior, pageviews, etc. Did the advertisement drive all users (new and old) to purchase the advertised product? Did it drive new users to purchase a specific product (if so, what makes that product unique within the product line - established popularity, price point, etc.)? Did it drive new users to purchase all products in equal measure? The answers to these questions would inform the company decision."
   ]
  },
  {
   "cell_type": "markdown",
   "metadata": {},
   "source": [
    "Question #2:\n",
    "\n",
    "You work at a web design company that offers to build websites for clients. Signups have slowed, and you are tasked with finding out why. The onboarding funnel has three steps: email and password signup, plan choice, and payment. On a user level you have information on what steps they have completed as well as timestamps for all of those events for the past 3 years. You also have information on marketing spend on a weekly level."
   ]
  },
  {
   "cell_type": "markdown",
   "metadata": {},
   "source": [
    "Answer:\n",
    "\n",
    "I would begin by calculating each funnel's proportion to its preceding funnel for each year. If we can see that funnel number two is retaining 80% of funnel number one participation, that may be a historically high proportion. I would continue from there by visualizing these proportional completion levels for each onboarding funnel over all three years (subdivided by time periods denoting marketing initiatives). I would then overlay the same marketing spend for each funnel so we might see how marketing spend correlates to user completion for each funnel.\n",
    "\n",
    "If we are still not able to see enough correlation to attribute increased (or a lack thereof) user funnel participation to marketing initiatives, I would suggest A/B testing for further marketing initiative and/or user interface experimentation. This could be supplemented by surveying consumer sentiment for the website or product itself."
   ]
  },
  {
   "cell_type": "markdown",
   "metadata": {},
   "source": [
    "Question #3:\n",
    "\n",
    "You work at a hotel website and currently the website ranks search results by price. For simplicity's sake, let's say it's a website for one city with 100 hotels. You are tasked with proposing a better ranking system. You have session information, price information for the hotels, and whether each hotel is currently available."
   ]
  },
  {
   "cell_type": "markdown",
   "metadata": {},
   "source": [
    "Answer:\n",
    "\n",
    "It would be overly simplistic to choose only one other metric by which to rank these 100 hotels. I would score each hotel along multiple metrics which themselves are weighted and return that ranking system on a user to user level. I would weight those metrics according to user session information indicating of preference (search terms, purchases, promotional participation). For example, if user search terms were more frequently related to proximity, that would indicate that proximity is of partocular importance to that particular user."
   ]
  },
  {
   "cell_type": "markdown",
   "metadata": {},
   "source": [
    "Question #4:\n",
    "\n",
    "You work at a social network, and the management is worried about churn (users stopping using the product). You are tasked with finding out if their churn is atypical. You have three years of data for users with an entry for every time they've logged in, including the timestamp and length of session."
   ]
  },
  {
   "cell_type": "markdown",
   "metadata": {},
   "source": [
    "Answer:\n",
    "\n",
    "I would use statistical hypothesis testing to ascertain the likelihood of the null hypothesis - that social network churn sample means at the observed levels are characteristic of overall social network churn. I would sample user data from years one and three, calculating t-statistic (aka t-value) variance between samples. If the variance is significant enough to conclude that there is very little likelihood that these observations represent extreme values of the same population (at specified p-value levels, and are therefore more likely from separate populations), I would conclude that our social network should be concerned that our year three data (presumably the data with a greater degree of churn) represents anomalous user behavior in the industry, a serious point of concern and warrants deeper investigation."
   ]
  }
 ],
 "metadata": {
  "kernelspec": {
   "display_name": "Python 3",
   "language": "python",
   "name": "python3"
  },
  "language_info": {
   "codemirror_mode": {
    "name": "ipython",
    "version": 3
   },
   "file_extension": ".py",
   "mimetype": "text/x-python",
   "name": "python",
   "nbconvert_exporter": "python",
   "pygments_lexer": "ipython3",
   "version": "3.5.2"
  }
 },
 "nbformat": 4,
 "nbformat_minor": 0
}
