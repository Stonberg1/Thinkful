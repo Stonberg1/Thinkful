{
 "cells": [
  {
   "cell_type": "code",
   "execution_count": 11,
   "metadata": {
    "collapsed": false
   },
   "outputs": [],
   "source": [
    "# P(A | B) = P(B | A) * P(A) / P(B)\n",
    "# P(A | B) = P(B | A) * P(A) / [P(A) * P(B | A) + P(A~) * P(B | A~)]\n",
    "\n",
    "# P(B | A) = .98\n",
    "# P(B | A~) = .9 or inv chances of testing positive given no disease\n",
    "# P(A) = .005\n",
    "# P(A~) = .995\n",
    "# P(B) = .005 * .98 + .995 * .9\n",
    "# P(B~) = 1 - (.005 * .98 + .995 * .9)\n",
    "\n",
    "# A diagnostic test has a 98% probability of giving a positive result\n",
    "# when applied to a person suffering from Thripshaw's Disease\n",
    "\n",
    "# 10% probability of giving a (false) positive when applied to a non-sufferer.\n",
    "\n",
    "# 0.5% of the population are sufferers\n",
    "\n",
    "# Suppose that the test is now administered to a person whose disease status is unknown. "
   ]
  },
  {
   "cell_type": "code",
   "execution_count": 12,
   "metadata": {
    "collapsed": false
   },
   "outputs": [
    {
     "name": "stdout",
     "output_type": "stream",
     "text": [
      "0.1044\n"
     ]
    }
   ],
   "source": [
    "# 1. Possibility the test will be positive (aka P(B))\n",
    "# adding together the populations of (a true pos and disesase) and (a false pos and inv_disease)\n",
    "\n",
    "P(B) = .98 * .005 + .1 * .995\n",
    "\n",
    "print(test_pos)"
   ]
  },
  {
   "cell_type": "code",
   "execution_count": 13,
   "metadata": {
    "collapsed": true
   },
   "outputs": [],
   "source": [
    "# 2. Correctly diagnose a sufferer of Thripshaw's\n",
    "# 98% (given)"
   ]
  },
  {
   "cell_type": "code",
   "execution_count": 14,
   "metadata": {
    "collapsed": true
   },
   "outputs": [],
   "source": [
    "# 3. Correctly identify a non-sufferer of Thripshaw's\n",
    "# 90% (inverse of 10%)"
   ]
  },
  {
   "cell_type": "code",
   "execution_count": 16,
   "metadata": {
    "collapsed": false
   },
   "outputs": [
    {
     "name": "stdout",
     "output_type": "stream",
     "text": [
      "0.09960000000000002\n"
     ]
    }
   ],
   "source": [
    "# 4. Misclassify the person aka \n",
    "# inv (classifying the person correctly\n",
    "# aka inv (disease * true_pos + inv_false_pos * inv_disease)\n",
    "# 1 - (P(A) * P(B | A) + P(B | A~) * P(A~))\n",
    "\n",
    "inv_b = 1 - (.005 * .98 + .9 * .995)\n",
    "print(inv_b)"
   ]
  }
 ],
 "metadata": {
  "kernelspec": {
   "display_name": "Python 3",
   "language": "python",
   "name": "python3"
  },
  "language_info": {
   "codemirror_mode": {
    "name": "ipython",
    "version": 3
   },
   "file_extension": ".py",
   "mimetype": "text/x-python",
   "name": "python",
   "nbconvert_exporter": "python",
   "pygments_lexer": "ipython3",
   "version": "3.5.2"
  }
 },
 "nbformat": 4,
 "nbformat_minor": 0
}
